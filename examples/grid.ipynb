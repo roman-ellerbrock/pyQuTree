{
 "cells": [
  {
   "cell_type": "markdown",
   "metadata": {},
   "source": [
    "### Grid usage examples\n",
    "\n",
    "This jupyter notebook quickly goes through the basic usage of the grid classes.\n",
    "There is an integer grid that basically represents combinations of integers and knows which formal coordinate it\n",
    "corresponds to. Then, there is a float-grid that knows how to translate the integer points to floats\n"
   ]
  },
  {
   "cell_type": "code",
   "execution_count": 1,
   "metadata": {},
   "outputs": [
    {
     "name": "stdout",
     "output_type": "stream",
     "text": [
      "1D grid:\n",
      " coords: [1]\n",
      "grid:\n",
      "[[0]\n",
      " [1]\n",
      " [2]\n",
      " [3]\n",
      " [4]\n",
      " [5]\n",
      " [6]\n",
      " [7]\n",
      " [8]\n",
      " [9]]\n",
      "2D grid 1:\n",
      " coords: [2 1]\n",
      "grid:\n",
      "[[0 1]\n",
      " [1 2]\n",
      " [2 3]]\n",
      "2D grid 2:\n",
      " coords: [3 0]\n",
      "grid:\n",
      "[[4 5]\n",
      " [5 6]\n",
      " [6 7]]\n"
     ]
    }
   ],
   "source": [
    "from qutree import *\n",
    "import numpy as np\n",
    "\n",
    "# create a 1D grid\n",
    "grid1d = Grid(range(10), 1)\n",
    "print(\"1D grid:\\n\", grid1d)\n",
    "\n",
    "# manually create two 2D grids\n",
    "grid1 = Grid(np.array([[0, 1], [1, 2], [2, 3]]), [2, 1])\n",
    "grid2 = Grid(np.array([[4, 5], [5, 6], [6, 7]]), [3, 0])\n",
    "\n",
    "print(\"2D grid 1:\\n\", grid1)\n",
    "print(\"2D grid 2:\\n\", grid2)"
   ]
  },
  {
   "cell_type": "code",
   "execution_count": 2,
   "metadata": {},
   "outputs": [
    {
     "name": "stdout",
     "output_type": "stream",
     "text": [
      "4D grid:\n",
      " coords: [2 1 3 0]\n",
      "grid:\n",
      "[[0 1 4 5]\n",
      " [0 1 5 6]\n",
      " [0 1 6 7]\n",
      " [1 2 4 5]\n",
      " [1 2 5 6]\n",
      " [1 2 6 7]\n",
      " [2 3 4 5]\n",
      " [2 3 5 6]\n",
      " [2 3 6 7]]\n",
      "coords: [0 1 2 3]\n",
      "grid:\n",
      "[[5 1 0 4]\n",
      " [6 1 0 5]\n",
      " [7 1 0 6]\n",
      " [5 2 1 4]\n",
      " [6 2 1 5]\n",
      " [7 2 1 6]\n",
      " [5 3 2 4]\n",
      " [6 3 2 5]\n",
      " [7 3 2 6]]\n",
      "coords: [2 1 3 0]\n",
      "grid:\n",
      "[[0 1 4 5]\n",
      " [0 1 5 6]\n",
      " [0 1 6 7]\n",
      " [1 2 4 5]\n",
      " [1 2 5 6]\n",
      " [1 2 6 7]\n",
      " [2 3 4 5]\n",
      " [2 3 5 6]\n",
      " [2 3 6 7]]\n"
     ]
    }
   ],
   "source": [
    "# Cartesian product of the two 2D grids:\n",
    "# combine the two 2D grids into a 4D grid\n",
    "grid12 = grid1 @ grid2\n",
    "print(\"4D grid:\\n\", grid12)\n",
    "\n",
    "# the coordinates are permuted, let's resort them\n",
    "grid12 = grid12.permute()\n",
    "print(grid12)\n",
    "\n",
    "# ... and back again\n",
    "grid12 = grid12.permute()\n",
    "print(grid12)"
   ]
  },
  {
   "cell_type": "code",
   "execution_count": 3,
   "metadata": {},
   "outputs": [
    {
     "name": "stdout",
     "output_type": "stream",
     "text": [
      "(27, 6)\n",
      "coords: [2 1 3 0 4 5]\n",
      "grid:\n",
      "[[ 0  1  6  7  8  9]\n",
      " [ 1  2  6  7 10 11]\n",
      " [ 1  2  6  7  8  9]\n",
      " [ 0  1  4  5  9 10]\n",
      " [ 1  2  5  6  9 10]\n",
      " [ 2  3  5  6  9 10]\n",
      " [ 0  1  6  7  9 10]\n",
      " [ 2  3  6  7  9 10]\n",
      " [ 1  2  4  5  9 10]\n",
      " [ 2  3  5  6  8  9]]\n"
     ]
    }
   ],
   "source": [
    "# now a more complex combination of multple grids\n",
    "grid1 = Grid(np.array([[0, 1], [1, 2], [2, 3]]), [2, 1])\n",
    "grid2 = Grid(np.array([[4, 5], [5, 6], [6, 7]]), [3, 0])\n",
    "grid3 = Grid(np.array([[8, 9], [9, 10], [10, 11]]), [4, 5])\n",
    "grids = [grid1, grid2, grid3]\n",
    "\n",
    "# combine the three 2D grids into a 6D grid\n",
    "grid123 = cartesian_product(grids)\n",
    "print(grid123.grid.shape)\n",
    "\n",
    "# those are too many grid points.. let's get a random selection of 10 high dimensional points\n",
    "print(grid123.random_subset(10))"
   ]
  },
  {
   "cell_type": "code",
   "execution_count": 4,
   "metadata": {},
   "outputs": [
    {
     "name": "stdout",
     "output_type": "stream",
     "text": [
      "coords: [0 1]\n",
      "grid:\n",
      "[[ 0.          0.57142857]\n",
      " [ 0.33333333 -0.57142857]\n",
      " [ 0.33333333  0.57142857]\n",
      " [ 0.88888889  0.71428571]\n",
      " [ 0.55555556  0.71428571]\n",
      " [ 0.33333333  0.28571429]\n",
      " [ 0.22222222 -0.42857143]\n",
      " [ 0.55555556 -0.85714286]\n",
      " [ 0.11111111  0.57142857]\n",
      " [ 0.          0.85714286]]\n",
      "[0.32653061 0.43764172 0.43764172 1.30032754 0.81884606 0.19274376\n",
      " 0.23305619 1.04333585 0.33887629 0.73469388]\n"
     ]
    }
   ],
   "source": [
    "# Now to floatgrids!\n",
    "# something like [0.1, 0.2, ...]\n",
    "\n",
    "# just needs a generator and a coordinate\n",
    "fgrid1 = Grid(np.linspace(0., 1., 10), 0)\n",
    "fgrid2 = Grid(np.linspace(-1., 1, 15), 1)\n",
    "\n",
    "# combine\n",
    "subgrid = (fgrid1 @ fgrid2).random_subset(10)\n",
    "print(subgrid)\n",
    "\n",
    "# How can we evaluate a function on this grid?\n",
    "def fun(x):\n",
    "    \"\"\"\n",
    "    Function that evaluates grid point.\n",
    "    E.g. objective function in optimization.\n",
    "    \"\"\"\n",
    "    return np.sum(x**2)\n",
    "\n",
    "print(subgrid.evaluate(fun))"
   ]
  },
  {
   "cell_type": "code",
   "execution_count": 5,
   "metadata": {},
   "outputs": [
    {
     "name": "stdout",
     "output_type": "stream",
     "text": [
      "[1.25   0.25   1.25   0.0625 0.3125 1.5625 1.     0.0625 0.3125 1.5625]\n"
     ]
    }
   ],
   "source": [
    "def fun(x):\n",
    "    return np.sum(x**2)\n",
    "\n",
    "grid1 = Grid(np.linspace(0., 1., 5), 0)\n",
    "grid2 = Grid(np.linspace(0., 1., 5), 1)\n",
    "grid12 = grid1 @ grid2\n",
    "grid12 = grid12.random_subset(10)\n",
    "f_grid = grid12.evaluate(fun)\n",
    "print(f_grid)"
   ]
  },
  {
   "cell_type": "code",
   "execution_count": 6,
   "metadata": {},
   "outputs": [
    {
     "name": "stdout",
     "output_type": "stream",
     "text": [
      "coords: [0 1 2]\n",
      "grid:\n",
      "[[0.33333333 0.55555556 0.        ]\n",
      " [0.88888889 0.11111111 0.        ]\n",
      " [0.77777778 0.44444444 0.88888889]\n",
      " [0.33333333 0.22222222 0.55555556]\n",
      " [0.77777778 0.44444444 0.22222222]\n",
      " [0.77777778 0.44444444 0.        ]\n",
      " [0.33333333 0.55555556 0.11111111]\n",
      " [0.22222222 0.11111111 1.        ]\n",
      " [0.44444444 0.         0.33333333]\n",
      " [0.88888889 0.11111111 0.88888889]]\n"
     ]
    }
   ],
   "source": [
    "N = 10 # primitive grid size\n",
    "r = 2\n",
    "grids = [Grid(np.linspace(0., 1., N), i) for i in range(3)]\n",
    "xy = (grids[0] @ grids[1]).random_subset(10)\n",
    "z = grids[2]\n",
    "print((xy @ z).random_subset(10))"
   ]
  },
  {
   "cell_type": "code",
   "execution_count": 7,
   "metadata": {},
   "outputs": [
    {
     "data": {
      "image/png": "[encoded data removed]",
      "text/plain": [
       "<Figure size 640x480 with 1 Axes>"
      ]
     },
     "metadata": {},
     "output_type": "display_data"
    }
   ],
   "source": [
    "import networkx as nx\n",
    "import matplotlib.pyplot as plt\n",
    "from networkx.drawing.nx_pydot import graphviz_layout\n",
    "\n",
    "G = nx.DiGraph()\n",
    "G.add_edges_from([(1, 11), (2, 12), (3, 13), (1, 0), (2, 0), (3, 0)])\n",
    "pos = graphviz_layout(G, prog=\"twopi\")\n",
    "labels = {11: \"x\", 12: \"y\", 13: \"z\", 0: \"L\", 1: \"A\", 2: \"B\", 3: \"C\"}\n",
    "node_colors = {11: 'grey', 12: 'grey', 13: 'grey', 0: 'red', 1: 'blue', 2: 'green', 3: 'orange'}\n",
    "nx.draw(G, pos = pos,\n",
    "        with_labels=True, labels = labels,\n",
    "        node_color = [node_colors[n] for n in G.nodes],\n",
    "        node_size = 500,\n",
    "        )\n",
    "plt.draw() "
   ]
  },
  {
   "cell_type": "code",
   "execution_count": 8,
   "metadata": {},
   "outputs": [
    {
     "data": {
      "application/vnd.plotly.v1+json": {
       "config": {
        "plotlyServerURL": "https://plot.ly"
       },
       "data": [
        {
         "marker": {
          "color": {
           "bdata": "jPWhsT407j9t27Zt27bxP5EkSZIkSeo/u5yCl1Pw6j8EL6fg5RTwP8DLKXg5Bec/FLycgpdT6D9ifWisD43tPxnrQ2N9aOQ/HxrrQ2N94D9s27Zt27blP0iSJEmSJNk/nIKXU/By2j+cgpdT8HLiP6bg5RS8nNI/TsHLKXg51T/pQ2N9aKzfP7A+NNaHxso/8HIKXk7B2z/G+tBYHxrjP/rQWB8a69M/TsHLKXg51T/pQ2N9aKzfP7A+NNaHxso/AAAAAAAA0D+bgpdT8HLaPxS8nIKXU8A/FLycgpdTwD/wcgpeTsHbP8b60FgfGuM/PjTWh8b6wD8FL6fg5RTcP9BYHxrrQ+M/u5yCl1Pwwj9EY31orA/dP+9yCl5OweM/jPWhsT40xj+sD431obHePyRJkiRJkuQ/sD401ofGyj8fGutDY33gP2zbtm3btuU/FLycgpdT0D99aKwPjfXhP8opeDkFL+c/+tBYHxrr0z/wcgpeTsHjPz401ofG+ug/Cl5Owcsp2D94OQUvp+DlP8b60FgfGus/Q2N9aKwP3T8UvJyCl1PoP2J9aKwPje0/UvByCl5O4T/G+tBYHxrrPwpeTsHLKfA/GetDY31o5D+M9aGxPjTuP23btm3btvE/9aGxPjTW5z801ofG+tDwP9u2bdu2bfM/5RS8nIKX6z+sD431obHyP1PwcgpeTvU/6kNjfWis7z8up+DlFLz0P9WHxvrQWPc/gpdT8HIK8j+8nIKXU/D2P2N9aKwPjfk/FLycgpdTwD9ifWisD43tP+lDY31orN8/PjTWh8b6wD9s27Zt27btP/7//////98/u5yCl1Pwwj+M9aGxPjTuPx4a60NjfeA/jPWhsT40xj/Ayyl4OQXvP1LwcgpeTuE/sD401ofGyj8EL6fg5RTwP5yCl1PwcuI/FLycgpdT0D8z1ofG+tDwP/rQWB8a6+M/+tBYHxrr0z9t27Zt27bxP2zbtm3btuU/Cl5Owcsp2D+xPjTWh8byP/ShsT401uc/Q2N9aKwP3T/////////zP5EkSZIkSeo/UvByCl5O4T9YHxrrQ2P1P0JjfWisD+0/GetDY31o5D+7nIKXU/D2PwQvp+DlFPA/9aGxPjTW5z8peDkFL6f4P3IKXk7By/E/5RS8nIKX6z+hsT401of6P+pDY31orPM/6kNjfWis7z8jSZIkSZL8P23btm3btvU/gpdT8HIK8j+xPjTWh8b+P/vQWB8a6/c/FLycgpdT4D85BS+n4OW0P+DlFLycgsc/HhrrQ2N94D+N9aGxPjS2PwpeTsHLKcg/PjTWh8b64D+HxvrQWB+6P4fG+tBYH8o/cgpeTsHL4T8UvJyCl1PAP1gfGutDY80/u5yCl1Pw4j85BS+n4OXEPz401ofG+tA/GetDY31o5D+wPjTWh8bKP/rQWB8a69M/jPWhsT405j8+NNaHxvrQP+DlFLycgtc/FLycgpdT6D9OwcspeDnVP/ByCl5Owds/sD401ofG6j+HxvrQWB/aPxS8nIKXU+A/Yn1orA+N7T/pQ2N9aKzfP8b60FgfGuM/FLycgpdT8D+7nIKXU/DiP4z1obE+NOY/gpdT8HIK8j+XU/ByCl7mP2isD431oek/+tBYHxrr8z+HxvrQWB/qP1gfGutDY+0/fGisD4319T+M9aGxPjTuPy6n4OUUvPA/Cl5Owcsp+D9U8HIKXk7xP7ycgpdT8PI/",
           "dtype": "f8"
          },
          "colorbar": {
           "title": {
            "text": "Function Value"
           }
          },
          "colorscale": [
           [
            0,
            "#440154"
           ],
           [
            0.1111111111111111,
            "#482878"
           ],
           [
            0.2222222222222222,
            "#3e4989"
           ],
           [
            0.3333333333333333,
            "#31688e"
           ],
           [
            0.4444444444444444,
            "#26828e"
           ],
           [
            0.5555555555555556,
            "#1f9e89"
           ],
           [
            0.6666666666666666,
            "#35b779"
           ],
           [
            0.7777777777777778,
            "#6ece58"
           ],
           [
            0.8888888888888888,
            "#b5de2b"
           ],
           [
            1,
            "#fde725"
           ]
          ],
          "size": 5
         },
         "mode": "markers",
         "type": "scatter3d",
         "x": {
          "bdata": "tm3btm3b5j+2bdu2bdvmP7Zt27Zt2+Y/tm3btm3b5j+2bdu2bdvmP7Zt27Zt2+Y/tm3btm3b5j+2bdu2bdvmP7Zt27Zt2+Y/kiRJkiRJ0j+SJEmSJEnSP5IkSZIkSdI/kiRJkiRJ0j+SJEmSJEnSP5IkSZIkSdI/kiRJkiRJ0j+SJEmSJEnSP5IkSZIkSdI/AAAAAAAAAAAAAAAAAAAAAAAAAAAAAAAAAAAAAAAAAAAAAAAAAAAAAAAAAAAAAAAAAAAAAAAAAAAAAAAAAAAAAAAAAAAAAAAAAAAAAAAAAAAAAAAAAAAAAAAAAAAAAAAAkiRJkiRJsj+SJEmSJEmyP5IkSZIkSbI/kiRJkiRJwj+SJEmSJEnCP5IkSZIkScI/27Zt27Ztyz/btm3btm3LP9u2bdu2bcs/kiRJkiRJ0j+SJEmSJEnSP5IkSZIkSdI/tm3btm3b1j+2bdu2bdvWP7Zt27Zt29Y/27Zt27Zt2z/btm3btm3bP9u2bdu2bds/AAAAAAAA4D8AAAAAAADgPwAAAAAAAOA/kiRJkiRJ4j+SJEmSJEniP5IkSZIkSeI/JEmSJEmS5D8kSZIkSZLkPyRJkiRJkuQ/tm3btm3b5j+2bdu2bdvmP7Zt27Zt2+Y/SZIkSZIk6T9JkiRJkiTpP0mSJEmSJOk/27Zt27Zt6z/btm3btm3rP9u2bdu2bes/bdu2bdu27T9t27Zt27btP23btm3btu0/AAAAAAAA8D8AAAAAAADwPwAAAAAAAPA/AAAAAAAAAAC2bdu2bdvmP5IkSZIkSdI/AAAAAAAAAAC2bdu2bdvmP5IkSZIkSdI/AAAAAAAAAAC2bdu2bdvmP5IkSZIkSdI/AAAAAAAAAAC2bdu2bdvmP5IkSZIkSdI/AAAAAAAAAAC2bdu2bdvmP5IkSZIkSdI/AAAAAAAAAAC2bdu2bdvmP5IkSZIkSdI/AAAAAAAAAAC2bdu2bdvmP5IkSZIkSdI/AAAAAAAAAAC2bdu2bdvmP5IkSZIkSdI/AAAAAAAAAAC2bdu2bdvmP5IkSZIkSdI/AAAAAAAAAAC2bdu2bdvmP5IkSZIkSdI/AAAAAAAAAAC2bdu2bdvmP5IkSZIkSdI/AAAAAAAAAAC2bdu2bdvmP5IkSZIkSdI/AAAAAAAAAAC2bdu2bdvmP5IkSZIkSdI/AAAAAAAAAAC2bdu2bdvmP5IkSZIkSdI/AAAAAAAAAAC2bdu2bdvmP5IkSZIkSdI/tm3btm3b5j8AAAAAAAAAAAAAAAAAAAAAtm3btm3b5j8AAAAAAAAAAAAAAAAAAAAAtm3btm3b5j8AAAAAAAAAAAAAAAAAAAAAtm3btm3b5j8AAAAAAAAAAAAAAAAAAAAAtm3btm3b5j8AAAAAAAAAAAAAAAAAAAAAtm3btm3b5j8AAAAAAAAAAAAAAAAAAAAAtm3btm3b5j8AAAAAAAAAAAAAAAAAAAAAtm3btm3b5j8AAAAAAAAAAAAAAAAAAAAAtm3btm3b5j8AAAAAAAAAAAAAAAAAAAAAtm3btm3b5j8AAAAAAAAAAAAAAAAAAAAAtm3btm3b5j8AAAAAAAAAAAAAAAAAAAAAtm3btm3b5j8AAAAAAAAAAAAAAAAAAAAAtm3btm3b5j8AAAAAAAAAAAAAAAAAAAAAtm3btm3b5j8AAAAAAAAAAAAAAAAAAAAAtm3btm3b5j8AAAAAAAAAAAAAAAAAAAAA",
          "dtype": "f8"
         },
         "y": {
          "bdata": "27Zt27Zt2z/btm3btm3bP9u2bdu2bds/kiRJkiRJ0j+SJEmSJEnSP5IkSZIkSdI/AAAAAAAAAAAAAAAAAAAAAAAAAAAAAAAA27Zt27Zt2z/btm3btm3bP9u2bdu2bds/kiRJkiRJ0j+SJEmSJEnSP5IkSZIkSdI/AAAAAAAAAAAAAAAAAAAAAAAAAAAAAAAA27Zt27Zt2z/btm3btm3bP9u2bdu2bds/kiRJkiRJ0j+SJEmSJEnSP5IkSZIkSdI/AAAAAAAAAAAAAAAAAAAAAAAAAAAAAAAAAAAAAAAAAADbtm3btm3bP9u2bdu2bds/AAAAAAAAAADbtm3btm3bP9u2bdu2bds/AAAAAAAAAADbtm3btm3bP9u2bdu2bds/AAAAAAAAAADbtm3btm3bP9u2bdu2bds/AAAAAAAAAADbtm3btm3bP9u2bdu2bds/AAAAAAAAAADbtm3btm3bP9u2bdu2bds/AAAAAAAAAADbtm3btm3bP9u2bdu2bds/AAAAAAAAAADbtm3btm3bP9u2bdu2bds/AAAAAAAAAADbtm3btm3bP9u2bdu2bds/AAAAAAAAAADbtm3btm3bP9u2bdu2bds/AAAAAAAAAADbtm3btm3bP9u2bdu2bds/AAAAAAAAAADbtm3btm3bP9u2bdu2bds/AAAAAAAAAADbtm3btm3bP9u2bdu2bds/AAAAAAAAAADbtm3btm3bP9u2bdu2bds/AAAAAAAAAADbtm3btm3bP9u2bdu2bds/AAAAAAAAAAAAAAAAAAAAAAAAAAAAAAAAkiRJkiRJsj+SJEmSJEmyP5IkSZIkSbI/kiRJkiRJwj+SJEmSJEnCP5IkSZIkScI/27Zt27Ztyz/btm3btm3LP9u2bdu2bcs/kiRJkiRJ0j+SJEmSJEnSP5IkSZIkSdI/tm3btm3b1j+2bdu2bdvWP7Zt27Zt29Y/27Zt27Zt2z/btm3btm3bP9u2bdu2bds/AAAAAAAA4D8AAAAAAADgPwAAAAAAAOA/kiRJkiRJ4j+SJEmSJEniP5IkSZIkSeI/JEmSJEmS5D8kSZIkSZLkPyRJkiRJkuQ/tm3btm3b5j+2bdu2bdvmP7Zt27Zt2+Y/SZIkSZIk6T9JkiRJkiTpP0mSJEmSJOk/27Zt27Zt6z/btm3btm3rP9u2bdu2bes/bdu2bdu27T9t27Zt27btP23btm3btu0/AAAAAAAA8D8AAAAAAADwPwAAAAAAAPA/AAAAAAAAAACSJEmSJEnSP9u2bdu2bds/AAAAAAAAAACSJEmSJEnSP9u2bdu2bds/AAAAAAAAAACSJEmSJEnSP9u2bdu2bds/AAAAAAAAAACSJEmSJEnSP9u2bdu2bds/AAAAAAAAAACSJEmSJEnSP9u2bdu2bds/AAAAAAAAAACSJEmSJEnSP9u2bdu2bds/AAAAAAAAAACSJEmSJEnSP9u2bdu2bds/AAAAAAAAAACSJEmSJEnSP9u2bdu2bds/AAAAAAAAAACSJEmSJEnSP9u2bdu2bds/AAAAAAAAAACSJEmSJEnSP9u2bdu2bds/AAAAAAAAAACSJEmSJEnSP9u2bdu2bds/AAAAAAAAAACSJEmSJEnSP9u2bdu2bds/AAAAAAAAAACSJEmSJEnSP9u2bdu2bds/AAAAAAAAAACSJEmSJEnSP9u2bdu2bds/AAAAAAAAAACSJEmSJEnSP9u2bdu2bds/",
          "dtype": "f8"
         },
         "z": {
          "bdata": "AAAAAAAA4D8kSZIkSZLkP7Zt27Zt29Y/AAAAAAAA4D8kSZIkSZLkP7Zt27Zt29Y/AAAAAAAA4D8kSZIkSZLkP7Zt27Zt29Y/AAAAAAAA4D8kSZIkSZLkP7Zt27Zt29Y/AAAAAAAA4D8kSZIkSZLkP7Zt27Zt29Y/AAAAAAAA4D8kSZIkSZLkP7Zt27Zt29Y/AAAAAAAA4D8kSZIkSZLkP7Zt27Zt29Y/AAAAAAAA4D8kSZIkSZLkP7Zt27Zt29Y/AAAAAAAA4D8kSZIkSZLkP7Zt27Zt29Y/tm3btm3b1j8AAAAAAADgPyRJkiRJkuQ/tm3btm3b1j8AAAAAAADgPyRJkiRJkuQ/tm3btm3b1j8AAAAAAADgPyRJkiRJkuQ/tm3btm3b1j8AAAAAAADgPyRJkiRJkuQ/tm3btm3b1j8AAAAAAADgPyRJkiRJkuQ/tm3btm3b1j8AAAAAAADgPyRJkiRJkuQ/tm3btm3b1j8AAAAAAADgPyRJkiRJkuQ/tm3btm3b1j8AAAAAAADgPyRJkiRJkuQ/tm3btm3b1j8AAAAAAADgPyRJkiRJkuQ/tm3btm3b1j8AAAAAAADgPyRJkiRJkuQ/tm3btm3b1j8AAAAAAADgPyRJkiRJkuQ/tm3btm3b1j8AAAAAAADgPyRJkiRJkuQ/tm3btm3b1j8AAAAAAADgPyRJkiRJkuQ/tm3btm3b1j8AAAAAAADgPyRJkiRJkuQ/tm3btm3b1j8AAAAAAADgPyRJkiRJkuQ/tm3btm3b1j8kSZIkSZLkPyRJkiRJkuQ/tm3btm3b1j8kSZIkSZLkPyRJkiRJkuQ/tm3btm3b1j8kSZIkSZLkPyRJkiRJkuQ/tm3btm3b1j8kSZIkSZLkPyRJkiRJkuQ/tm3btm3b1j8kSZIkSZLkPyRJkiRJkuQ/tm3btm3b1j8kSZIkSZLkPyRJkiRJkuQ/tm3btm3b1j8kSZIkSZLkPyRJkiRJkuQ/tm3btm3b1j8kSZIkSZLkPyRJkiRJkuQ/tm3btm3b1j8kSZIkSZLkPyRJkiRJkuQ/tm3btm3b1j8kSZIkSZLkPyRJkiRJkuQ/tm3btm3b1j8kSZIkSZLkPyRJkiRJkuQ/tm3btm3b1j8kSZIkSZLkPyRJkiRJkuQ/tm3btm3b1j8kSZIkSZLkPyRJkiRJkuQ/tm3btm3b1j8kSZIkSZLkPyRJkiRJkuQ/tm3btm3b1j8kSZIkSZLkPyRJkiRJkuQ/AAAAAAAAAAAAAAAAAAAAAAAAAAAAAAAAkiRJkiRJsj+SJEmSJEmyP5IkSZIkSbI/kiRJkiRJwj+SJEmSJEnCP5IkSZIkScI/27Zt27Ztyz/btm3btm3LP9u2bdu2bcs/kiRJkiRJ0j+SJEmSJEnSP5IkSZIkSdI/tm3btm3b1j+2bdu2bdvWP7Zt27Zt29Y/27Zt27Zt2z/btm3btm3bP9u2bdu2bds/AAAAAAAA4D8AAAAAAADgPwAAAAAAAOA/kiRJkiRJ4j+SJEmSJEniP5IkSZIkSeI/JEmSJEmS5D8kSZIkSZLkPyRJkiRJkuQ/tm3btm3b5j+2bdu2bdvmP7Zt27Zt2+Y/SZIkSZIk6T9JkiRJkiTpP0mSJEmSJOk/27Zt27Zt6z/btm3btm3rP9u2bdu2bes/bdu2bdu27T9t27Zt27btP23btm3btu0/AAAAAAAA8D8AAAAAAADwPwAAAAAAAPA/",
          "dtype": "f8"
         }
        }
       ],
       "layout": {
        "margin": {
         "b": 0,
         "l": 0,
         "r": 0,
         "t": 0
        },
        "scene": {
         "aspectmode": "cube",
         "xaxis": {
          "autorange": true,
          "title": {
           "text": "X Axis"
          }
         },
         "yaxis": {
          "autorange": true,
          "title": {
           "text": "Y Axis"
          }
         },
         "zaxis": {
          "autorange": true,
          "title": {
           "text": "Z Axis"
          }
         }
        },
        "template": {
         "data": {
          "bar": [
           {
            "error_x": {
             "color": "#2a3f5f"
            },
            "error_y": {
             "color": "#2a3f5f"
            },
            "marker": {
             "line": {
              "color": "#E5ECF6",
              "width": 0.5
             },
             "pattern": {
              "fillmode": "overlay",
              "size": 10,
              "solidity": 0.2
             }
            },
            "type": "bar"
           }
          ],
          "barpolar": [
           {
            "marker": {
             "line": {
              "color": "#E5ECF6",
              "width": 0.5
             },
             "pattern": {
              "fillmode": "overlay",
              "size": 10,
              "solidity": 0.2
             }
            },
            "type": "barpolar"
           }
          ],
          "carpet": [
           {
            "aaxis": {
             "endlinecolor": "#2a3f5f",
             "gridcolor": "white",
             "linecolor": "white",
             "minorgridcolor": "white",
             "startlinecolor": "#2a3f5f"
            },
            "baxis": {
             "endlinecolor": "#2a3f5f",
             "gridcolor": "white",
             "linecolor": "white",
             "minorgridcolor": "white",
             "startlinecolor": "#2a3f5f"
            },
            "type": "carpet"
           }
          ],
          "choropleth": [
           {
            "colorbar": {
             "outlinewidth": 0,
             "ticks": ""
            },
            "type": "choropleth"
           }
          ],
          "contour": [
           {
            "colorbar": {
             "outlinewidth": 0,
             "ticks": ""
            },
            "colorscale": [
             [
              0,
              "#0d0887"
             ],
             [
              0.1111111111111111,
              "#46039f"
             ],
             [
              0.2222222222222222,
              "#7201a8"
             ],
             [
              0.3333333333333333,
              "#9c179e"
             ],
             [
              0.4444444444444444,
              "#bd3786"
             ],
             [
              0.5555555555555556,
              "#d8576b"
             ],
             [
              0.6666666666666666,
              "#ed7953"
             ],
             [
              0.7777777777777778,
              "#fb9f3a"
             ],
             [
              0.8888888888888888,
              "#fdca26"
             ],
             [
              1,
              "#f0f921"
             ]
            ],
            "type": "contour"
           }
          ],
          "contourcarpet": [
           {
            "colorbar": {
             "outlinewidth": 0,
             "ticks": ""
            },
            "type": "contourcarpet"
           }
          ],
          "heatmap": [
           {
            "colorbar": {
             "outlinewidth": 0,
             "ticks": ""
            },
            "colorscale": [
             [
              0,
              "#0d0887"
             ],
             [
              0.1111111111111111,
              "#46039f"
             ],
             [
              0.2222222222222222,
              "#7201a8"
             ],
             [
              0.3333333333333333,
              "#9c179e"
             ],
             [
              0.4444444444444444,
              "#bd3786"
             ],
             [
              0.5555555555555556,
              "#d8576b"
             ],
             [
              0.6666666666666666,
              "#ed7953"
             ],
             [
              0.7777777777777778,
              "#fb9f3a"
             ],
             [
              0.8888888888888888,
              "#fdca26"
             ],
             [
              1,
              "#f0f921"
             ]
            ],
            "type": "heatmap"
           }
          ],
          "histogram": [
           {
            "marker": {
             "pattern": {
              "fillmode": "overlay",
              "size": 10,
              "solidity": 0.2
             }
            },
            "type": "histogram"
           }
          ],
          "histogram2d": [
           {
            "colorbar": {
             "outlinewidth": 0,
             "ticks": ""
            },
            "colorscale": [
             [
              0,
              "#0d0887"
             ],
             [
              0.1111111111111111,
              "#46039f"
             ],
             [
              0.2222222222222222,
              "#7201a8"
             ],
             [
              0.3333333333333333,
              "#9c179e"
             ],
             [
              0.4444444444444444,
              "#bd3786"
             ],
             [
              0.5555555555555556,
              "#d8576b"
             ],
             [
              0.6666666666666666,
              "#ed7953"
             ],
             [
              0.7777777777777778,
              "#fb9f3a"
             ],
             [
              0.8888888888888888,
              "#fdca26"
             ],
             [
              1,
              "#f0f921"
             ]
            ],
            "type": "histogram2d"
           }
          ],
          "histogram2dcontour": [
           {
            "colorbar": {
             "outlinewidth": 0,
             "ticks": ""
            },
            "colorscale": [
             [
              0,
              "#0d0887"
             ],
             [
              0.1111111111111111,
              "#46039f"
             ],
             [
              0.2222222222222222,
              "#7201a8"
             ],
             [
              0.3333333333333333,
              "#9c179e"
             ],
             [
              0.4444444444444444,
              "#bd3786"
             ],
             [
              0.5555555555555556,
              "#d8576b"
             ],
             [
              0.6666666666666666,
              "#ed7953"
             ],
             [
              0.7777777777777778,
              "#fb9f3a"
             ],
             [
              0.8888888888888888,
              "#fdca26"
             ],
             [
              1,
              "#f0f921"
             ]
            ],
            "type": "histogram2dcontour"
           }
          ],
          "mesh3d": [
           {
            "colorbar": {
             "outlinewidth": 0,
             "ticks": ""
            },
            "type": "mesh3d"
           }
          ],
          "parcoords": [
           {
            "line": {
             "colorbar": {
              "outlinewidth": 0,
              "ticks": ""
             }
            },
            "type": "parcoords"
           }
          ],
          "pie": [
           {
            "automargin": true,
            "type": "pie"
           }
          ],
          "scatter": [
           {
            "fillpattern": {
             "fillmode": "overlay",
             "size": 10,
             "solidity": 0.2
            },
            "type": "scatter"
           }
          ],
          "scatter3d": [
           {
            "line": {
             "colorbar": {
              "outlinewidth": 0,
              "ticks": ""
             }
            },
            "marker": {
             "colorbar": {
              "outlinewidth": 0,
              "ticks": ""
             }
            },
            "type": "scatter3d"
           }
          ],
          "scattercarpet": [
           {
            "marker": {
             "colorbar": {
              "outlinewidth": 0,
              "ticks": ""
             }
            },
            "type": "scattercarpet"
           }
          ],
          "scattergeo": [
           {
            "marker": {
             "colorbar": {
              "outlinewidth": 0,
              "ticks": ""
             }
            },
            "type": "scattergeo"
           }
          ],
          "scattergl": [
           {
            "marker": {
             "colorbar": {
              "outlinewidth": 0,
              "ticks": ""
             }
            },
            "type": "scattergl"
           }
          ],
          "scattermap": [
           {
            "marker": {
             "colorbar": {
              "outlinewidth": 0,
              "ticks": ""
             }
            },
            "type": "scattermap"
           }
          ],
          "scattermapbox": [
           {
            "marker": {
             "colorbar": {
              "outlinewidth": 0,
              "ticks": ""
             }
            },
            "type": "scattermapbox"
           }
          ],
          "scatterpolar": [
           {
            "marker": {
             "colorbar": {
              "outlinewidth": 0,
              "ticks": ""
             }
            },
            "type": "scatterpolar"
           }
          ],
          "scatterpolargl": [
           {
            "marker": {
             "colorbar": {
              "outlinewidth": 0,
              "ticks": ""
             }
            },
            "type": "scatterpolargl"
           }
          ],
          "scatterternary": [
           {
            "marker": {
             "colorbar": {
              "outlinewidth": 0,
              "ticks": ""
             }
            },
            "type": "scatterternary"
           }
          ],
          "surface": [
           {
            "colorbar": {
             "outlinewidth": 0,
             "ticks": ""
            },
            "colorscale": [
             [
              0,
              "#0d0887"
             ],
             [
              0.1111111111111111,
              "#46039f"
             ],
             [
              0.2222222222222222,
              "#7201a8"
             ],
             [
              0.3333333333333333,
              "#9c179e"
             ],
             [
              0.4444444444444444,
              "#bd3786"
             ],
             [
              0.5555555555555556,
              "#d8576b"
             ],
             [
              0.6666666666666666,
              "#ed7953"
             ],
             [
              0.7777777777777778,
              "#fb9f3a"
             ],
             [
              0.8888888888888888,
              "#fdca26"
             ],
             [
              1,
              "#f0f921"
             ]
            ],
            "type": "surface"
           }
          ],
          "table": [
           {
            "cells": {
             "fill": {
              "color": "#EBF0F8"
             },
             "line": {
              "color": "white"
             }
            },
            "header": {
             "fill": {
              "color": "#C8D4E3"
             },
             "line": {
              "color": "white"
             }
            },
            "type": "table"
           }
          ]
         },
         "layout": {
          "annotationdefaults": {
           "arrowcolor": "#2a3f5f",
           "arrowhead": 0,
           "arrowwidth": 1
          },
          "autotypenumbers": "strict",
          "coloraxis": {
           "colorbar": {
            "outlinewidth": 0,
            "ticks": ""
           }
          },
          "colorscale": {
           "diverging": [
            [
             0,
             "#8e0152"
            ],
            [
             0.1,
             "#c51b7d"
            ],
            [
             0.2,
             "#de77ae"
            ],
            [
             0.3,
             "#f1b6da"
            ],
            [
             0.4,
             "#fde0ef"
            ],
            [
             0.5,
             "#f7f7f7"
            ],
            [
             0.6,
             "#e6f5d0"
            ],
            [
             0.7,
             "#b8e186"
            ],
            [
             0.8,
             "#7fbc41"
            ],
            [
             0.9,
             "#4d9221"
            ],
            [
             1,
             "#276419"
            ]
           ],
           "sequential": [
            [
             0,
             "#0d0887"
            ],
            [
             0.1111111111111111,
             "#46039f"
            ],
            [
             0.2222222222222222,
             "#7201a8"
            ],
            [
             0.3333333333333333,
             "#9c179e"
            ],
            [
             0.4444444444444444,
             "#bd3786"
            ],
            [
             0.5555555555555556,
             "#d8576b"
            ],
            [
             0.6666666666666666,
             "#ed7953"
            ],
            [
             0.7777777777777778,
             "#fb9f3a"
            ],
            [
             0.8888888888888888,
             "#fdca26"
            ],
            [
             1,
             "#f0f921"
            ]
           ],
           "sequentialminus": [
            [
             0,
             "#0d0887"
            ],
            [
             0.1111111111111111,
             "#46039f"
            ],
            [
             0.2222222222222222,
             "#7201a8"
            ],
            [
             0.3333333333333333,
             "#9c179e"
            ],
            [
             0.4444444444444444,
             "#bd3786"
            ],
            [
             0.5555555555555556,
             "#d8576b"
            ],
            [
             0.6666666666666666,
             "#ed7953"
            ],
            [
             0.7777777777777778,
             "#fb9f3a"
            ],
            [
             0.8888888888888888,
             "#fdca26"
            ],
            [
             1,
             "#f0f921"
            ]
           ]
          },
          "colorway": [
           "#636efa",
           "#EF553B",
           "#00cc96",
           "#ab63fa",
           "#FFA15A",
           "#19d3f3",
           "#FF6692",
           "#B6E880",
           "#FF97FF",
           "#FECB52"
          ],
          "font": {
           "color": "#2a3f5f"
          },
          "geo": {
           "bgcolor": "white",
           "lakecolor": "white",
           "landcolor": "#E5ECF6",
           "showlakes": true,
           "showland": true,
           "subunitcolor": "white"
          },
          "hoverlabel": {
           "align": "left"
          },
          "hovermode": "closest",
          "mapbox": {
           "style": "light"
          },
          "paper_bgcolor": "white",
          "plot_bgcolor": "#E5ECF6",
          "polar": {
           "angularaxis": {
            "gridcolor": "white",
            "linecolor": "white",
            "ticks": ""
           },
           "bgcolor": "#E5ECF6",
           "radialaxis": {
            "gridcolor": "white",
            "linecolor": "white",
            "ticks": ""
           }
          },
          "scene": {
           "xaxis": {
            "backgroundcolor": "#E5ECF6",
            "gridcolor": "white",
            "gridwidth": 2,
            "linecolor": "white",
            "showbackground": true,
            "ticks": "",
            "zerolinecolor": "white"
           },
           "yaxis": {
            "backgroundcolor": "#E5ECF6",
            "gridcolor": "white",
            "gridwidth": 2,
            "linecolor": "white",
            "showbackground": true,
            "ticks": "",
            "zerolinecolor": "white"
           },
           "zaxis": {
            "backgroundcolor": "#E5ECF6",
            "gridcolor": "white",
            "gridwidth": 2,
            "linecolor": "white",
            "showbackground": true,
            "ticks": "",
            "zerolinecolor": "white"
           }
          },
          "shapedefaults": {
           "line": {
            "color": "#2a3f5f"
           }
          },
          "ternary": {
           "aaxis": {
            "gridcolor": "white",
            "linecolor": "white",
            "ticks": ""
           },
           "baxis": {
            "gridcolor": "white",
            "linecolor": "white",
            "ticks": ""
           },
           "bgcolor": "#E5ECF6",
           "caxis": {
            "gridcolor": "white",
            "linecolor": "white",
            "ticks": ""
           }
          },
          "title": {
           "x": 0.05
          },
          "xaxis": {
           "automargin": true,
           "gridcolor": "white",
           "linecolor": "white",
           "ticks": "",
           "title": {
            "standoff": 15
           },
           "zerolinecolor": "white",
           "zerolinewidth": 2
          },
          "yaxis": {
           "automargin": true,
           "gridcolor": "white",
           "linecolor": "white",
           "ticks": "",
           "title": {
            "standoff": 15
           },
           "zerolinecolor": "white",
           "zerolinewidth": 2
          }
         }
        }
       }
      }
     },
     "metadata": {},
     "output_type": "display_data"
    }
   ],
   "source": [
    "# Let's make a tree that corresponds to a simple 3D tree {{{x}, {y}}, {z}}\n",
    "N = 15 # primitive grid size\n",
    "r = 3\n",
    "grids = [Grid(np.linspace(0., 1., N), i) for i in range(3)]\n",
    "x, y, z, = 0, 1, 2\n",
    "\n",
    "# build incomplete edge-grids\n",
    "# up-sweep\n",
    "a_up = grids[x].random_subset(r)\n",
    "b_up = grids[y].random_subset(r)\n",
    "c_up = (a_up @ b_up).random_subset(r)\n",
    "\n",
    "# down-sweep\n",
    "c_down = grids[z].random_subset(r)\n",
    "a_down = (c_down @ b_up).random_subset(r)\n",
    "b_down = (c_down @ a_up).random_subset(r)\n",
    "\n",
    "# build complete node-grids\n",
    "A = (grids[0] @ a_down).permute()\n",
    "B = (grids[1] @ b_down).permute()\n",
    "C = (grids[2] @ c_up).permute()\n",
    "L = (a_up @ b_up @ c_down).permute()\n",
    "\n",
    "# combine them into a single grid\n",
    "xyz = L + A + B + C \n",
    "f = xyz.evaluate(fun)\n",
    "\n",
    "from qutree.plot import plot_xyz\n",
    "plot_xyz(xyz, f)"
   ]
  },
  {
   "cell_type": "code",
   "execution_count": 9,
   "metadata": {},
   "outputs": [
    {
     "data": {
      "application/vnd.plotly.v1+json": {
       "config": {
        "plotlyServerURL": "https://plot.ly"
       },
       "data": [
        {
         "marker": {
          "color": [
           "blue",
           "blue",
           "blue",
           "blue",
           "blue",
           "blue",
           "blue",
           "blue",
           "blue",
           "blue",
           "blue",
           "blue",
           "blue",
           "blue",
           "blue",
           "blue",
           "blue",
           "blue",
           "blue",
           "blue",
           "blue",
           "blue",
           "blue",
           "blue",
           "blue",
           "blue",
           "blue",
           "blue",
           "blue",
           "blue",
           "blue",
           "blue",
           "blue",
           "blue",
           "blue",
           "blue",
           "blue",
           "blue",
           "blue",
           "blue",
           "blue",
           "blue",
           "blue",
           "blue",
           "blue",
           "green",
           "green",
           "green",
           "green",
           "green",
           "green",
           "green",
           "green",
           "green",
           "green",
           "green",
           "green",
           "green",
           "green",
           "green",
           "green",
           "green",
           "green",
           "green",
           "green",
           "green",
           "green",
           "green",
           "green",
           "green",
           "green",
           "green",
           "green",
           "green",
           "green",
           "green",
           "green",
           "green",
           "green",
           "green",
           "green",
           "green",
           "green",
           "green",
           "green",
           "green",
           "green",
           "green",
           "green",
           "green",
           "orange",
           "orange",
           "orange",
           "orange",
           "orange",
           "orange",
           "orange",
           "orange",
           "orange",
           "orange",
           "orange",
           "orange",
           "orange",
           "orange",
           "orange",
           "orange",
           "orange",
           "orange",
           "orange",
           "orange",
           "orange",
           "orange",
           "orange",
           "orange",
           "orange",
           "orange",
           "orange",
           "orange",
           "orange",
           "orange",
           "orange",
           "orange",
           "orange",
           "orange",
           "orange",
           "orange",
           "orange",
           "orange",
           "orange",
           "orange",
           "orange",
           "orange",
           "orange",
           "orange",
           "orange",
           "red",
           "red",
           "red",
           "red",
           "red",
           "red",
           "red",
           "red",
           "red",
           "red",
           "red",
           "red",
           "red",
           "red",
           "red",
           "red",
           "red",
           "red",
           "red",
           "red",
           "red",
           "red",
           "red",
           "red",
           "red",
           "red",
           "red"
          ],
          "colorbar": {
           "title": {
            "text": "Function Value"
           }
          },
          "colorscale": [
           [
            0,
            "#440154"
           ],
           [
            0.1111111111111111,
            "#482878"
           ],
           [
            0.2222222222222222,
            "#3e4989"
           ],
           [
            0.3333333333333333,
            "#31688e"
           ],
           [
            0.4444444444444444,
            "#26828e"
           ],
           [
            0.5555555555555556,
            "#1f9e89"
           ],
           [
            0.6666666666666666,
            "#35b779"
           ],
           [
            0.7777777777777778,
            "#6ece58"
           ],
           [
            0.8888888888888888,
            "#b5de2b"
           ],
           [
            1,
            "#fde725"
           ]
          ],
          "size": 5
         },
         "mode": "markers",
         "type": "scatter3d",
         "x": {
          "bdata": "AAAAAAAAAAAAAAAAAAAAAAAAAAAAAAAAkiRJkiRJsj+SJEmSJEmyP5IkSZIkSbI/kiRJkiRJwj+SJEmSJEnCP5IkSZIkScI/27Zt27Ztyz/btm3btm3LP9u2bdu2bcs/kiRJkiRJ0j+SJEmSJEnSP5IkSZIkSdI/tm3btm3b1j+2bdu2bdvWP7Zt27Zt29Y/27Zt27Zt2z/btm3btm3bP9u2bdu2bds/AAAAAAAA4D8AAAAAAADgPwAAAAAAAOA/kiRJkiRJ4j+SJEmSJEniP5IkSZIkSeI/JEmSJEmS5D8kSZIkSZLkPyRJkiRJkuQ/tm3btm3b5j+2bdu2bdvmP7Zt27Zt2+Y/SZIkSZIk6T9JkiRJkiTpP0mSJEmSJOk/27Zt27Zt6z/btm3btm3rP9u2bdu2bes/bdu2bdu27T9t27Zt27btP23btm3btu0/AAAAAAAA8D8AAAAAAADwPwAAAAAAAPA/AAAAAAAAAAC2bdu2bdvmP5IkSZIkSdI/AAAAAAAAAAC2bdu2bdvmP5IkSZIkSdI/AAAAAAAAAAC2bdu2bdvmP5IkSZIkSdI/AAAAAAAAAAC2bdu2bdvmP5IkSZIkSdI/AAAAAAAAAAC2bdu2bdvmP5IkSZIkSdI/AAAAAAAAAAC2bdu2bdvmP5IkSZIkSdI/AAAAAAAAAAC2bdu2bdvmP5IkSZIkSdI/AAAAAAAAAAC2bdu2bdvmP5IkSZIkSdI/AAAAAAAAAAC2bdu2bdvmP5IkSZIkSdI/AAAAAAAAAAC2bdu2bdvmP5IkSZIkSdI/AAAAAAAAAAC2bdu2bdvmP5IkSZIkSdI/AAAAAAAAAAC2bdu2bdvmP5IkSZIkSdI/AAAAAAAAAAC2bdu2bdvmP5IkSZIkSdI/AAAAAAAAAAC2bdu2bdvmP5IkSZIkSdI/AAAAAAAAAAC2bdu2bdvmP5IkSZIkSdI/tm3btm3b5j8AAAAAAAAAAAAAAAAAAAAAtm3btm3b5j8AAAAAAAAAAAAAAAAAAAAAtm3btm3b5j8AAAAAAAAAAAAAAAAAAAAAtm3btm3b5j8AAAAAAAAAAAAAAAAAAAAAtm3btm3b5j8AAAAAAAAAAAAAAAAAAAAAtm3btm3b5j8AAAAAAAAAAAAAAAAAAAAAtm3btm3b5j8AAAAAAAAAAAAAAAAAAAAAtm3btm3b5j8AAAAAAAAAAAAAAAAAAAAAtm3btm3b5j8AAAAAAAAAAAAAAAAAAAAAtm3btm3b5j8AAAAAAAAAAAAAAAAAAAAAtm3btm3b5j8AAAAAAAAAAAAAAAAAAAAAtm3btm3b5j8AAAAAAAAAAAAAAAAAAAAAtm3btm3b5j8AAAAAAAAAAAAAAAAAAAAAtm3btm3b5j8AAAAAAAAAAAAAAAAAAAAAtm3btm3b5j8AAAAAAAAAAAAAAAAAAAAAtm3btm3b5j+2bdu2bdvmP7Zt27Zt2+Y/tm3btm3b5j+2bdu2bdvmP7Zt27Zt2+Y/tm3btm3b5j+2bdu2bdvmP7Zt27Zt2+Y/kiRJkiRJ0j+SJEmSJEnSP5IkSZIkSdI/kiRJkiRJ0j+SJEmSJEnSP5IkSZIkSdI/kiRJkiRJ0j+SJEmSJEnSP5IkSZIkSdI/AAAAAAAAAAAAAAAAAAAAAAAAAAAAAAAAAAAAAAAAAAAAAAAAAAAAAAAAAAAAAAAAAAAAAAAAAAAAAAAAAAAAAAAAAAAAAAAA",
          "dtype": "f8"
         },
         "y": {
          "bdata": "AAAAAAAAAADbtm3btm3bP9u2bdu2bds/AAAAAAAAAADbtm3btm3bP9u2bdu2bds/AAAAAAAAAADbtm3btm3bP9u2bdu2bds/AAAAAAAAAADbtm3btm3bP9u2bdu2bds/AAAAAAAAAADbtm3btm3bP9u2bdu2bds/AAAAAAAAAADbtm3btm3bP9u2bdu2bds/AAAAAAAAAADbtm3btm3bP9u2bdu2bds/AAAAAAAAAADbtm3btm3bP9u2bdu2bds/AAAAAAAAAADbtm3btm3bP9u2bdu2bds/AAAAAAAAAADbtm3btm3bP9u2bdu2bds/AAAAAAAAAADbtm3btm3bP9u2bdu2bds/AAAAAAAAAADbtm3btm3bP9u2bdu2bds/AAAAAAAAAADbtm3btm3bP9u2bdu2bds/AAAAAAAAAADbtm3btm3bP9u2bdu2bds/AAAAAAAAAADbtm3btm3bP9u2bdu2bds/AAAAAAAAAAAAAAAAAAAAAAAAAAAAAAAAkiRJkiRJsj+SJEmSJEmyP5IkSZIkSbI/kiRJkiRJwj+SJEmSJEnCP5IkSZIkScI/27Zt27Ztyz/btm3btm3LP9u2bdu2bcs/kiRJkiRJ0j+SJEmSJEnSP5IkSZIkSdI/tm3btm3b1j+2bdu2bdvWP7Zt27Zt29Y/27Zt27Zt2z/btm3btm3bP9u2bdu2bds/AAAAAAAA4D8AAAAAAADgPwAAAAAAAOA/kiRJkiRJ4j+SJEmSJEniP5IkSZIkSeI/JEmSJEmS5D8kSZIkSZLkPyRJkiRJkuQ/tm3btm3b5j+2bdu2bdvmP7Zt27Zt2+Y/SZIkSZIk6T9JkiRJkiTpP0mSJEmSJOk/27Zt27Zt6z/btm3btm3rP9u2bdu2bes/bdu2bdu27T9t27Zt27btP23btm3btu0/AAAAAAAA8D8AAAAAAADwPwAAAAAAAPA/AAAAAAAAAACSJEmSJEnSP9u2bdu2bds/AAAAAAAAAACSJEmSJEnSP9u2bdu2bds/AAAAAAAAAACSJEmSJEnSP9u2bdu2bds/AAAAAAAAAACSJEmSJEnSP9u2bdu2bds/AAAAAAAAAACSJEmSJEnSP9u2bdu2bds/AAAAAAAAAACSJEmSJEnSP9u2bdu2bds/AAAAAAAAAACSJEmSJEnSP9u2bdu2bds/AAAAAAAAAACSJEmSJEnSP9u2bdu2bds/AAAAAAAAAACSJEmSJEnSP9u2bdu2bds/AAAAAAAAAACSJEmSJEnSP9u2bdu2bds/AAAAAAAAAACSJEmSJEnSP9u2bdu2bds/AAAAAAAAAACSJEmSJEnSP9u2bdu2bds/AAAAAAAAAACSJEmSJEnSP9u2bdu2bds/AAAAAAAAAACSJEmSJEnSP9u2bdu2bds/AAAAAAAAAACSJEmSJEnSP9u2bdu2bds/27Zt27Zt2z/btm3btm3bP9u2bdu2bds/kiRJkiRJ0j+SJEmSJEnSP5IkSZIkSdI/AAAAAAAAAAAAAAAAAAAAAAAAAAAAAAAA27Zt27Zt2z/btm3btm3bP9u2bdu2bds/kiRJkiRJ0j+SJEmSJEnSP5IkSZIkSdI/AAAAAAAAAAAAAAAAAAAAAAAAAAAAAAAA27Zt27Zt2z/btm3btm3bP9u2bdu2bds/kiRJkiRJ0j+SJEmSJEnSP5IkSZIkSdI/AAAAAAAAAAAAAAAAAAAAAAAAAAAAAAAA",
          "dtype": "f8"
         },
         "z": {
          "bdata": "tm3btm3b1j8AAAAAAADgPyRJkiRJkuQ/tm3btm3b1j8AAAAAAADgPyRJkiRJkuQ/tm3btm3b1j8AAAAAAADgPyRJkiRJkuQ/tm3btm3b1j8AAAAAAADgPyRJkiRJkuQ/tm3btm3b1j8AAAAAAADgPyRJkiRJkuQ/tm3btm3b1j8AAAAAAADgPyRJkiRJkuQ/tm3btm3b1j8AAAAAAADgPyRJkiRJkuQ/tm3btm3b1j8AAAAAAADgPyRJkiRJkuQ/tm3btm3b1j8AAAAAAADgPyRJkiRJkuQ/tm3btm3b1j8AAAAAAADgPyRJkiRJkuQ/tm3btm3b1j8AAAAAAADgPyRJkiRJkuQ/tm3btm3b1j8AAAAAAADgPyRJkiRJkuQ/tm3btm3b1j8AAAAAAADgPyRJkiRJkuQ/tm3btm3b1j8AAAAAAADgPyRJkiRJkuQ/tm3btm3b1j8AAAAAAADgPyRJkiRJkuQ/tm3btm3b1j8kSZIkSZLkPyRJkiRJkuQ/tm3btm3b1j8kSZIkSZLkPyRJkiRJkuQ/tm3btm3b1j8kSZIkSZLkPyRJkiRJkuQ/tm3btm3b1j8kSZIkSZLkPyRJkiRJkuQ/tm3btm3b1j8kSZIkSZLkPyRJkiRJkuQ/tm3btm3b1j8kSZIkSZLkPyRJkiRJkuQ/tm3btm3b1j8kSZIkSZLkPyRJkiRJkuQ/tm3btm3b1j8kSZIkSZLkPyRJkiRJkuQ/tm3btm3b1j8kSZIkSZLkPyRJkiRJkuQ/tm3btm3b1j8kSZIkSZLkPyRJkiRJkuQ/tm3btm3b1j8kSZIkSZLkPyRJkiRJkuQ/tm3btm3b1j8kSZIkSZLkPyRJkiRJkuQ/tm3btm3b1j8kSZIkSZLkPyRJkiRJkuQ/tm3btm3b1j8kSZIkSZLkPyRJkiRJkuQ/tm3btm3b1j8kSZIkSZLkPyRJkiRJkuQ/AAAAAAAAAAAAAAAAAAAAAAAAAAAAAAAAkiRJkiRJsj+SJEmSJEmyP5IkSZIkSbI/kiRJkiRJwj+SJEmSJEnCP5IkSZIkScI/27Zt27Ztyz/btm3btm3LP9u2bdu2bcs/kiRJkiRJ0j+SJEmSJEnSP5IkSZIkSdI/tm3btm3b1j+2bdu2bdvWP7Zt27Zt29Y/27Zt27Zt2z/btm3btm3bP9u2bdu2bds/AAAAAAAA4D8AAAAAAADgPwAAAAAAAOA/kiRJkiRJ4j+SJEmSJEniP5IkSZIkSeI/JEmSJEmS5D8kSZIkSZLkPyRJkiRJkuQ/tm3btm3b5j+2bdu2bdvmP7Zt27Zt2+Y/SZIkSZIk6T9JkiRJkiTpP0mSJEmSJOk/27Zt27Zt6z/btm3btm3rP9u2bdu2bes/bdu2bdu27T9t27Zt27btP23btm3btu0/AAAAAAAA8D8AAAAAAADwPwAAAAAAAPA/AAAAAAAA4D8kSZIkSZLkP7Zt27Zt29Y/AAAAAAAA4D8kSZIkSZLkP7Zt27Zt29Y/AAAAAAAA4D8kSZIkSZLkP7Zt27Zt29Y/AAAAAAAA4D8kSZIkSZLkP7Zt27Zt29Y/AAAAAAAA4D8kSZIkSZLkP7Zt27Zt29Y/AAAAAAAA4D8kSZIkSZLkP7Zt27Zt29Y/AAAAAAAA4D8kSZIkSZLkP7Zt27Zt29Y/AAAAAAAA4D8kSZIkSZLkP7Zt27Zt29Y/AAAAAAAA4D8kSZIkSZLkP7Zt27Zt29Y/",
          "dtype": "f8"
         }
        }
       ],
       "layout": {
        "margin": {
         "b": 0,
         "l": 0,
         "r": 0,
         "t": 0
        },
        "scene": {
         "aspectmode": "cube",
         "xaxis": {
          "autorange": true,
          "title": {
           "text": "X Axis"
          }
         },
         "yaxis": {
          "autorange": true,
          "title": {
           "text": "Y Axis"
          }
         },
         "zaxis": {
          "autorange": true,
          "title": {
           "text": "Z Axis"
          }
         }
        },
        "template": {
         "data": {
          "bar": [
           {
            "error_x": {
             "color": "#2a3f5f"
            },
            "error_y": {
             "color": "#2a3f5f"
            },
            "marker": {
             "line": {
              "color": "#E5ECF6",
              "width": 0.5
             },
             "pattern": {
              "fillmode": "overlay",
              "size": 10,
              "solidity": 0.2
             }
            },
            "type": "bar"
           }
          ],
          "barpolar": [
           {
            "marker": {
             "line": {
              "color": "#E5ECF6",
              "width": 0.5
             },
             "pattern": {
              "fillmode": "overlay",
              "size": 10,
              "solidity": 0.2
             }
            },
            "type": "barpolar"
           }
          ],
          "carpet": [
           {
            "aaxis": {
             "endlinecolor": "#2a3f5f",
             "gridcolor": "white",
             "linecolor": "white",
             "minorgridcolor": "white",
             "startlinecolor": "#2a3f5f"
            },
            "baxis": {
             "endlinecolor": "#2a3f5f",
             "gridcolor": "white",
             "linecolor": "white",
             "minorgridcolor": "white",
             "startlinecolor": "#2a3f5f"
            },
            "type": "carpet"
           }
          ],
          "choropleth": [
           {
            "colorbar": {
             "outlinewidth": 0,
             "ticks": ""
            },
            "type": "choropleth"
           }
          ],
          "contour": [
           {
            "colorbar": {
             "outlinewidth": 0,
             "ticks": ""
            },
            "colorscale": [
             [
              0,
              "#0d0887"
             ],
             [
              0.1111111111111111,
              "#46039f"
             ],
             [
              0.2222222222222222,
              "#7201a8"
             ],
             [
              0.3333333333333333,
              "#9c179e"
             ],
             [
              0.4444444444444444,
              "#bd3786"
             ],
             [
              0.5555555555555556,
              "#d8576b"
             ],
             [
              0.6666666666666666,
              "#ed7953"
             ],
             [
              0.7777777777777778,
              "#fb9f3a"
             ],
             [
              0.8888888888888888,
              "#fdca26"
             ],
             [
              1,
              "#f0f921"
             ]
            ],
            "type": "contour"
           }
          ],
          "contourcarpet": [
           {
            "colorbar": {
             "outlinewidth": 0,
             "ticks": ""
            },
            "type": "contourcarpet"
           }
          ],
          "heatmap": [
           {
            "colorbar": {
             "outlinewidth": 0,
             "ticks": ""
            },
            "colorscale": [
             [
              0,
              "#0d0887"
             ],
             [
              0.1111111111111111,
              "#46039f"
             ],
             [
              0.2222222222222222,
              "#7201a8"
             ],
             [
              0.3333333333333333,
              "#9c179e"
             ],
             [
              0.4444444444444444,
              "#bd3786"
             ],
             [
              0.5555555555555556,
              "#d8576b"
             ],
             [
              0.6666666666666666,
              "#ed7953"
             ],
             [
              0.7777777777777778,
              "#fb9f3a"
             ],
             [
              0.8888888888888888,
              "#fdca26"
             ],
             [
              1,
              "#f0f921"
             ]
            ],
            "type": "heatmap"
           }
          ],
          "histogram": [
           {
            "marker": {
             "pattern": {
              "fillmode": "overlay",
              "size": 10,
              "solidity": 0.2
             }
            },
            "type": "histogram"
           }
          ],
          "histogram2d": [
           {
            "colorbar": {
             "outlinewidth": 0,
             "ticks": ""
            },
            "colorscale": [
             [
              0,
              "#0d0887"
             ],
             [
              0.1111111111111111,
              "#46039f"
             ],
             [
              0.2222222222222222,
              "#7201a8"
             ],
             [
              0.3333333333333333,
              "#9c179e"
             ],
             [
              0.4444444444444444,
              "#bd3786"
             ],
             [
              0.5555555555555556,
              "#d8576b"
             ],
             [
              0.6666666666666666,
              "#ed7953"
             ],
             [
              0.7777777777777778,
              "#fb9f3a"
             ],
             [
              0.8888888888888888,
              "#fdca26"
             ],
             [
              1,
              "#f0f921"
             ]
            ],
            "type": "histogram2d"
           }
          ],
          "histogram2dcontour": [
           {
            "colorbar": {
             "outlinewidth": 0,
             "ticks": ""
            },
            "colorscale": [
             [
              0,
              "#0d0887"
             ],
             [
              0.1111111111111111,
              "#46039f"
             ],
             [
              0.2222222222222222,
              "#7201a8"
             ],
             [
              0.3333333333333333,
              "#9c179e"
             ],
             [
              0.4444444444444444,
              "#bd3786"
             ],
             [
              0.5555555555555556,
              "#d8576b"
             ],
             [
              0.6666666666666666,
              "#ed7953"
             ],
             [
              0.7777777777777778,
              "#fb9f3a"
             ],
             [
              0.8888888888888888,
              "#fdca26"
             ],
             [
              1,
              "#f0f921"
             ]
            ],
            "type": "histogram2dcontour"
           }
          ],
          "mesh3d": [
           {
            "colorbar": {
             "outlinewidth": 0,
             "ticks": ""
            },
            "type": "mesh3d"
           }
          ],
          "parcoords": [
           {
            "line": {
             "colorbar": {
              "outlinewidth": 0,
              "ticks": ""
             }
            },
            "type": "parcoords"
           }
          ],
          "pie": [
           {
            "automargin": true,
            "type": "pie"
           }
          ],
          "scatter": [
           {
            "fillpattern": {
             "fillmode": "overlay",
             "size": 10,
             "solidity": 0.2
            },
            "type": "scatter"
           }
          ],
          "scatter3d": [
           {
            "line": {
             "colorbar": {
              "outlinewidth": 0,
              "ticks": ""
             }
            },
            "marker": {
             "colorbar": {
              "outlinewidth": 0,
              "ticks": ""
             }
            },
            "type": "scatter3d"
           }
          ],
          "scattercarpet": [
           {
            "marker": {
             "colorbar": {
              "outlinewidth": 0,
              "ticks": ""
             }
            },
            "type": "scattercarpet"
           }
          ],
          "scattergeo": [
           {
            "marker": {
             "colorbar": {
              "outlinewidth": 0,
              "ticks": ""
             }
            },
            "type": "scattergeo"
           }
          ],
          "scattergl": [
           {
            "marker": {
             "colorbar": {
              "outlinewidth": 0,
              "ticks": ""
             }
            },
            "type": "scattergl"
           }
          ],
          "scattermap": [
           {
            "marker": {
             "colorbar": {
              "outlinewidth": 0,
              "ticks": ""
             }
            },
            "type": "scattermap"
           }
          ],
          "scattermapbox": [
           {
            "marker": {
             "colorbar": {
              "outlinewidth": 0,
              "ticks": ""
             }
            },
            "type": "scattermapbox"
           }
          ],
          "scatterpolar": [
           {
            "marker": {
             "colorbar": {
              "outlinewidth": 0,
              "ticks": ""
             }
            },
            "type": "scatterpolar"
           }
          ],
          "scatterpolargl": [
           {
            "marker": {
             "colorbar": {
              "outlinewidth": 0,
              "ticks": ""
             }
            },
            "type": "scatterpolargl"
           }
          ],
          "scatterternary": [
           {
            "marker": {
             "colorbar": {
              "outlinewidth": 0,
              "ticks": ""
             }
            },
            "type": "scatterternary"
           }
          ],
          "surface": [
           {
            "colorbar": {
             "outlinewidth": 0,
             "ticks": ""
            },
            "colorscale": [
             [
              0,
              "#0d0887"
             ],
             [
              0.1111111111111111,
              "#46039f"
             ],
             [
              0.2222222222222222,
              "#7201a8"
             ],
             [
              0.3333333333333333,
              "#9c179e"
             ],
             [
              0.4444444444444444,
              "#bd3786"
             ],
             [
              0.5555555555555556,
              "#d8576b"
             ],
             [
              0.6666666666666666,
              "#ed7953"
             ],
             [
              0.7777777777777778,
              "#fb9f3a"
             ],
             [
              0.8888888888888888,
              "#fdca26"
             ],
             [
              1,
              "#f0f921"
             ]
            ],
            "type": "surface"
           }
          ],
          "table": [
           {
            "cells": {
             "fill": {
              "color": "#EBF0F8"
             },
             "line": {
              "color": "white"
             }
            },
            "header": {
             "fill": {
              "color": "#C8D4E3"
             },
             "line": {
              "color": "white"
             }
            },
            "type": "table"
           }
          ]
         },
         "layout": {
          "annotationdefaults": {
           "arrowcolor": "#2a3f5f",
           "arrowhead": 0,
           "arrowwidth": 1
          },
          "autotypenumbers": "strict",
          "coloraxis": {
           "colorbar": {
            "outlinewidth": 0,
            "ticks": ""
           }
          },
          "colorscale": {
           "diverging": [
            [
             0,
             "#8e0152"
            ],
            [
             0.1,
             "#c51b7d"
            ],
            [
             0.2,
             "#de77ae"
            ],
            [
             0.3,
             "#f1b6da"
            ],
            [
             0.4,
             "#fde0ef"
            ],
            [
             0.5,
             "#f7f7f7"
            ],
            [
             0.6,
             "#e6f5d0"
            ],
            [
             0.7,
             "#b8e186"
            ],
            [
             0.8,
             "#7fbc41"
            ],
            [
             0.9,
             "#4d9221"
            ],
            [
             1,
             "#276419"
            ]
           ],
           "sequential": [
            [
             0,
             "#0d0887"
            ],
            [
             0.1111111111111111,
             "#46039f"
            ],
            [
             0.2222222222222222,
             "#7201a8"
            ],
            [
             0.3333333333333333,
             "#9c179e"
            ],
            [
             0.4444444444444444,
             "#bd3786"
            ],
            [
             0.5555555555555556,
             "#d8576b"
            ],
            [
             0.6666666666666666,
             "#ed7953"
            ],
            [
             0.7777777777777778,
             "#fb9f3a"
            ],
            [
             0.8888888888888888,
             "#fdca26"
            ],
            [
             1,
             "#f0f921"
            ]
           ],
           "sequentialminus": [
            [
             0,
             "#0d0887"
            ],
            [
             0.1111111111111111,
             "#46039f"
            ],
            [
             0.2222222222222222,
             "#7201a8"
            ],
            [
             0.3333333333333333,
             "#9c179e"
            ],
            [
             0.4444444444444444,
             "#bd3786"
            ],
            [
             0.5555555555555556,
             "#d8576b"
            ],
            [
             0.6666666666666666,
             "#ed7953"
            ],
            [
             0.7777777777777778,
             "#fb9f3a"
            ],
            [
             0.8888888888888888,
             "#fdca26"
            ],
            [
             1,
             "#f0f921"
            ]
           ]
          },
          "colorway": [
           "#636efa",
           "#EF553B",
           "#00cc96",
           "#ab63fa",
           "#FFA15A",
           "#19d3f3",
           "#FF6692",
           "#B6E880",
           "#FF97FF",
           "#FECB52"
          ],
          "font": {
           "color": "#2a3f5f"
          },
          "geo": {
           "bgcolor": "white",
           "lakecolor": "white",
           "landcolor": "#E5ECF6",
           "showlakes": true,
           "showland": true,
           "subunitcolor": "white"
          },
          "hoverlabel": {
           "align": "left"
          },
          "hovermode": "closest",
          "mapbox": {
           "style": "light"
          },
          "paper_bgcolor": "white",
          "plot_bgcolor": "#E5ECF6",
          "polar": {
           "angularaxis": {
            "gridcolor": "white",
            "linecolor": "white",
            "ticks": ""
           },
           "bgcolor": "#E5ECF6",
           "radialaxis": {
            "gridcolor": "white",
            "linecolor": "white",
            "ticks": ""
           }
          },
          "scene": {
           "xaxis": {
            "backgroundcolor": "#E5ECF6",
            "gridcolor": "white",
            "gridwidth": 2,
            "linecolor": "white",
            "showbackground": true,
            "ticks": "",
            "zerolinecolor": "white"
           },
           "yaxis": {
            "backgroundcolor": "#E5ECF6",
            "gridcolor": "white",
            "gridwidth": 2,
            "linecolor": "white",
            "showbackground": true,
            "ticks": "",
            "zerolinecolor": "white"
           },
           "zaxis": {
            "backgroundcolor": "#E5ECF6",
            "gridcolor": "white",
            "gridwidth": 2,
            "linecolor": "white",
            "showbackground": true,
            "ticks": "",
            "zerolinecolor": "white"
           }
          },
          "shapedefaults": {
           "line": {
            "color": "#2a3f5f"
           }
          },
          "ternary": {
           "aaxis": {
            "gridcolor": "white",
            "linecolor": "white",
            "ticks": ""
           },
           "baxis": {
            "gridcolor": "white",
            "linecolor": "white",
            "ticks": ""
           },
           "bgcolor": "#E5ECF6",
           "caxis": {
            "gridcolor": "white",
            "linecolor": "white",
            "ticks": ""
           }
          },
          "title": {
           "x": 0.05
          },
          "xaxis": {
           "automargin": true,
           "gridcolor": "white",
           "linecolor": "white",
           "ticks": "",
           "title": {
            "standoff": 15
           },
           "zerolinecolor": "white",
           "zerolinewidth": 2
          },
          "yaxis": {
           "automargin": true,
           "gridcolor": "white",
           "linecolor": "white",
           "ticks": "",
           "title": {
            "standoff": 15
           },
           "zerolinecolor": "white",
           "zerolinewidth": 2
          }
         }
        }
       }
      }
     },
     "metadata": {},
     "output_type": "display_data"
    }
   ],
   "source": [
    "fL = L.evaluate(fun)\n",
    "fA = A.evaluate(fun)\n",
    "fB = B.evaluate(fun)\n",
    "fC = C.evaluate(fun)\n",
    "fL = [\"red\"] * len(fL)\n",
    "fA = [\"blue\"] * len(fA)\n",
    "fB = [\"green\"] * len(fB)\n",
    "fC = [\"orange\"] * len(fC)\n",
    "xyz = A + B + C + L\n",
    "f = np.concatenate([fA, fB, fC, fL])\n",
    "\n",
    "from qutree.plot import *\n",
    "plot_xyz(xyz, f)\n"
   ]
  },
  {
   "cell_type": "code",
   "execution_count": 10,
   "metadata": {},
   "outputs": [
    {
     "name": "stdout",
     "output_type": "stream",
     "text": [
      "coords: [0 1]\n",
      "grid:\n",
      "[[0.         0.        ]\n",
      " [0.         0.42857143]\n",
      " [0.         0.42857143]\n",
      " [0.07142857 0.        ]\n",
      " [0.07142857 0.42857143]]\n"
     ]
    }
   ],
   "source": [
    "# we can also slice our grid\n",
    "# [points, dimensions]\n",
    "grid = A\n",
    "print(A[:5, 0:2])"
   ]
  },
  {
   "cell_type": "code",
   "execution_count": 11,
   "metadata": {},
   "outputs": [
    {
     "name": "stdout",
     "output_type": "stream",
     "text": [
      "[[0, 1, 2, 3, 4, 5, 6, 7, 8, 9], [0, 1, 2, 3, 4, 5, 6, 7, 8, 9]]\n"
     ]
    }
   ],
   "source": [
    "print([[*range(10)]] * 2)"
   ]
  },
  {
   "cell_type": "code",
   "execution_count": 12,
   "metadata": {},
   "outputs": [
    {
     "name": "stdout",
     "output_type": "stream",
     "text": [
      "[0, 1, 2, -1, -2, -3]\n",
      "[(0, -1), (0, 1), (1, -2), (1, 2), (1, 0), (2, -3), (2, 1), (-1, 0), (-2, 1), (-3, 2)]\n"
     ]
    },
    {
     "data": {
      "application/vnd.plotly.v1+json": {
       "config": {
        "plotlyServerURL": "https://plot.ly"
       },
       "data": [
        {
         "marker": {
          "color": {
           "bdata": "WoCTsO9+9T+QYi3ASdjnP59HY1QhKdY/nkdjVCEp5j/n0RhVSIr1P6oFOAn77uc/04145oNW1j+46m2d0j/mP47GqEJSrPU/+e5X5A4z6D9xYLicq97WPwfUjXjmg+Y/UF5DeQ3l9T98Ho1RhaToP3e/IneYwdc/igPD5Vz15j8smej4eTT2PzSU11BeQ+k/5qq3dUr/2D9CeQ3lNZTnPyJ3mMGXmvY/IFA34pkP6j+/IneYwZfaPy41bXZxYOg/MvhS02YX9z9AUqwFOAnrPwAnYd/9itw/TjfimQ9a6T9dHBgu56r3P5aaNrs4MOw/qrd1Sv/Y3j+kf2xPEIHqP6Lj59EYVfg/HynWApyE7T9eatrs4sDgPy0ODJdz1es/AE7CvvsV+T/d/YrcYQbvPxw/j8aoQuI/6+LAcDlX7T96W6f0j+35P2iMKiTFWvA/D1pZMtHx4z/e/YrcYQbvPw4Ml3PV2/o//DwaowpJ8T82uzgwXM7lP4IvNW12cfA/u1+RO8zg+z+pkBRrAU7yP5JiLcBJ2Oc/MIMvNW128T+CVpZMdPz8P3CHGXypafM/IFA34pkP6j/4eTRGFZLyP2XwpabNLv4/UyEp1gKc9D/mg1aWTHTsP9oTRKBuxPM/Yi3ASdh3/z9QXkN5DeX1P+D9itxhBu8/11BeQ3kN9T+8hvIaymsAQGY+aGXJRPc/Bl9q2uzi8D/tMIMvNW32P1RIirUAJwFAlsGXmja7+D824pkPWlnyPx60smSi4/c/elun9I/tAUDi59EYVUj6P4II1I145vM/adrs4sBw+T8twEnYd78CQEixFuAk7Ps/6NEYVUiK9T/PozGqkBT7P535oJUlE90/4HKuelun5D+lps0uDgznP+KZD1pZMvE/AnUjnvmg5T8TawFOwr7rP9ieIAJ1I+4/+xW5wwy+9D/gS02bXRzYPwKchH33K+I/xs+jMaqQ5D/kXPW2TunvP39sTxCButE/olgLcBL23T8W4CTsu1/hPzRtdnFguOw/0T+2J4hA3T/6FbnDDL7kP79J2He/Iuc/buuU/rE98T8cGC7nqrflPy0ODJdz1es/8kErSyY67j+IZz5oZcn0PxSSYi3ASdg/HD+PxqhC4j/gcq56W6fkP/7//////+8/s7JkouPn0T/WniACdSPePzCDLzVtduE/ThCBuhHP7D9vEvbdr8jdP0n/2J4gAuU/DjP4UtNm5z8W4CTsu1/xP2oBTsK+++U/fPcrcocZ7D9BK0smOn7uPzBczlVv6/Q/smSi4+fR2D9qKK+hvIbiPzBczlVv6+Q/p/SP7Qki8D9RhaRYC3DSP3RxYLicq94/f2xPEIG64T+d+aCVJRPtP3VxYLicq94/zC4ODJdz5T+RYi3ASdjnP9h3vyJ3mPE/7jCDLzVt5j//JmHf/YrsP8RagJOw7+4/8fNojCok9T+4wwy+1LTZP+5X5A4z+OI/sosDw+Vc5T9ojCokxVrwP1fkDjP4UtM/etDKkomO3z8CnIR99yviPyAp1gKchO0/5Fz1tk7p3z+EpFgLcBLmP0nYd78id+g/tLJkouPn8T+lps0uDgznP7ecq97WKe0/fNDKkomO7z/NLg4Ml3P1PyevobyG8to/ps0uDgyX4z9qAU7CvvvlP0THz6MxqvA/xs+jMaqQ1D/13a/IHWbgP7oRz3zQyuI/2J4gAnUj7j9eatrs4sDgP3BguJyr3uY/NZTXUF5D6T+qkBRrAU7yP5JiLcBJ2Oc/o1gLcBL27T80RhWSYi3wP8MMvtS02fU/ACdh3/2K3D+SiY6fR2PkP1a9rVP6x+Y/OqV/bE8Q8T+fR2NUISnWP+GZD1pZMuE/ps0uDgyX4z/EWoCTsO/uP39sTxCBuuE/kWItwEnY5z9Vlkx0/DzqP7oRz3zQyvI/smSi4+fR6D/EWoCTsO/uP0THz6MxqvA/04145oNW9j9BK0smOn7eP7KLA8PlXOU/dr8id5jB5z9KJjp+Ho3xP+BLTZtdHNg/ApyEffcr4j/Gz6MxqpDkP+Rc9bZO6e8/1LTZxYHh4j/lqrd1Sv/oP6ve1in9Y+s/5DWU11Be8z8HrSyZ6PjpP4xRhaRYC/A/b+uU/rE98T/+sT1BBOr2P/bdr8gdZuA/BtSNeOaD5j/MB60smejoP3VK/9ieIPI/itxhBl9q2j9W5A4z+FLjPxwYLueqt+U/ndI/tieI8D9eQ3kN5TXkP285V72tU+o/NG12cWC47D8q/WN7ggj0P5A7zOBLTes/0RhVSIq18D+0smSi4+fxP0N5DeU1lPc/f2xPEIG64T+QYi3ASdjnP1aWTHT8POo/uhHPfNDK8j+d+aCVJRPdP+Byrnpbp+Q/pabNLg4M5z/imQ9aWTLxPxsYLueqt+U/LQ4Ml3PV6z/yQStLJjruP4hnPmhlyfQ/ThCBuhHP7D8wgy81bXbxPxIdP4/GqPI/oePn0RhV+D88QQTqRjzjP0434pkPWuk/FGsBTsK+6z8YfKlps4vzP4xRhaRYC+A/nkdjVCEp5j9je4II1I3oP0AE6kY88/E/DjP4UtNm5z8fKdYCnITtP+Vc9bZO6e8/AnUjnvmg9T9BK0smOn7uP6mQFGsBTvI/jCokxVqA8z8b8cwHrSz5PzBczlVv6+Q/QFKsBTgJ6z8Ghsu56m3tP5KJjp9HY/Q/f2xPEIG64T+QYi3ASdjnP1aWTHT8POo/uhHPfNDK8j81lNdQXkPpP0eKtQAnYe8/Bl9q2uzi8D+WJRMdP4/2PzRGFZJiLfA/PUEE6kY88z8g2xNEoG70P6+hvIbyGvo/Vr2tU/rH5j9os4sDw+XsPy7nqrd1Su8/Jjp+Ho1R9T+mzS4ODJfjP7jDDL7UtOk/ffcrcocZ7D9Owr77FbnzP5E7zOBLTes/0RhVSIq18D+0smSi4+fxP0J5DeU1lPc/4pkPWlky8T/qlP6xPUH0P80uDgyXc/U/XPW2Tukf+z+yZKLj59HoP8RagJOw7+4/RMfPozGq8D/TjXjmg1b2PwJ1I575oOU/E2sBTsK+6z/YniACdSPuP/sVucMMvvQ/HynWApyE7T+YD1pZMtHxP3ypabOLA/M/CnAS9t2v+D+pkBRrAU7yP7KLA8PlXPU/lSUTHT+P9j8j7LtfkTv8P0BSrAU4Ces/KSTFWoCT8D8MvtS02cXxP5qEffcrcvc/kGItwEnY5z+iWAtwEvbtPzRGFZJiLfA/wgy+1LTZ9T/lXPW2TunvP3ypabOLA/M/XkN5DeU19D/sCSJQN+L5P4wqJMVagPM/lSUTHT+P9j93vyJ3mMH3PwaGy7nqbf0/BobLuept7T8MvtS02cXxP+5X5A4z+PI/fR6NUYWk+D9Wlkx0/DzqPzRGFZJiLfA/FuAk7Ltf8T+lps0uDgz3P3DrlP6xPfE/eOaDVpZM9D9agJOw7371P+pGPPNBK/s/iWc+aGXJ9D+RYi3ASdj3P3T8PBqjCvk/A8PlXPW2/j8AAAAAAADwPwj77lfkDvM/65T+sT1B9D96W6f0j+35P1AQgboRz+w/MIMvNW128T8THT+PxqjyP6Lj59EYVfg/hsu56m2d8j+OxqhCUqz1P3BguJyr3vY/ACdh3/2K/D+fR2NUISn2P6dCUqwFOPk/itxhBl9q+j+MUYWkWAsAQBbgJOy7X/E/HtsTRKBu9D8BdSOe+aD1P5A7zOBLTfs/fNDKkomO7z9GY1QhKdbyPyn9Y3uCCPQ/uMMMvtS0+T+2Tukf2xP0P75J2He/Ivc/ouPn0RhV+D8wqpAUawH+P8/KkomOn/c/2MWB4XKu+j+7X5E7zOD7PyQTHT+PxgBARmNUISnW8j9PXkN5DeX1PzL4UtNmF/c/wL77FbnD/D9u65T+sT3xP3fmg1aWTPQ/WoCTsO9+9T/oRjzzQSv7PwJ1I575oPU/CnAS9t2v+D/sCSJQN+L5P3zQypKJjv8/G/HMB60s+T8j7LtfkTv8PwaGy7nqbf0/SiY6fh6NAUCSiY6fR2P0P5qEffcrcvc/fR6NUYWk+D8M5TWU11D+P7oRz3zQyvI/wgy+1LTZ9T+lps0uDgz3PzRtdnFguPw/aD5oZclE9z9wOVe9rVP6P1LTZhcHhvs/8cwHrSyZAECBuhHPfND6P4m1ACdh3/0/bE8QgboR/z/+itxhBl8CQPhS02YXB/Y/AE7CvvsV+T/j59EYVUj6P3Kuelun9P8/INsTRKBu9D8o1gKchH33PwtwEvbdr/g/mja7ODBc/j8p1gKchH3nP4R99ytyh8k/uMMMvtS02T/lXPW2Tum/P0N5DeU1lOc/7QkiUDfiyT/sCSJQN+LZP9w6pX9sT8A/kmItwEnY5z8or6G8hvLKP4rcYQZfato/FuAk7LtfwT8VkmItwEnoPzRtdnFguMw/kDvM4EtN2z8jnvmglSXDP80HrSyZ6Og/E0SgbsQzzz8AJ2Hf/YrcPwJ1I575oMU/ucMMvtS06T/imQ9aWTLRP9ieIAJ1I94/smSi4+fRyD/axYHhcq7qPyOe+aCVJdM/jFGFpFgL4D80bXZxYLjMPy4ODJdz1es/zS4ODJdz1T/imQ9aWTLhP0THz6MxqtA/uJyr3tYp7T/gS02bXRzYP2sor6G8huI/V+QOM/hS0z92cWC4nKvuP1z1tk7pH9s/Kf1je4II5D/TjXjmg1bWPzRGFZJiLfA/QStLJjp+3j8bGC7nqrflP7jDDL7UtNk/yPYEEagb8T/I9gQRqBvhP0N5DeU1lOc/B4bLuept3T92Sv/YniDyPyOe+aCVJeM/niACdSOe6T9eatrs4sDgPz1BBOpGPPM/sosDw+Vc5T8tDgyXc9XrP+5X5A4z+OI/INsTRKBu9D92vyJ3mMHnP/JBK0smOu4/sosDw+Vc5T8cGC7nqrf1P3A5V72tU+o/9t2vyB1m8D+sBTgJ++7nPzP4UtNmF/c/nPmglSUT7T8MvtS02cXxP9jFgeFyruo/Y3uCCNSN+D/+///////vPzxBBOpGPPM/OszgS02b7T+vobyG8hr6P0omOn4ejfE/iGc+aGXJ9D9ojCokxVrwPxVrAU7Cvvs/sO9+Re4w8z/uMIMvNW32P85Vb+uU/vE/",
           "dtype": "f8"
          },
          "colorbar": {
           "title": {
            "text": "Function Value"
           }
          },
          "colorscale": [
           [
            0,
            "#440154"
           ],
           [
            0.1111111111111111,
            "#482878"
           ],
           [
            0.2222222222222222,
            "#3e4989"
           ],
           [
            0.3333333333333333,
            "#31688e"
           ],
           [
            0.4444444444444444,
            "#26828e"
           ],
           [
            0.5555555555555556,
            "#1f9e89"
           ],
           [
            0.6666666666666666,
            "#35b779"
           ],
           [
            0.7777777777777778,
            "#6ece58"
           ],
           [
            0.8888888888888888,
            "#b5de2b"
           ],
           [
            1,
            "#fde725"
           ]
          ],
          "size": 5
         },
         "mode": "markers",
         "type": "scatter3d",
         "x": {
          "bdata": "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",
          "dtype": "f8"
         },
         "y": {
          "bdata": "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",
          "dtype": "f8"
         },
         "z": {
          "bdata": "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",
          "dtype": "f8"
         }
        }
       ],
       "layout": {
        "margin": {
         "b": 0,
         "l": 0,
         "r": 0,
         "t": 0
        },
        "scene": {
         "aspectmode": "cube",
         "xaxis": {
          "autorange": true,
          "title": {
           "text": "X Axis"
          }
         },
         "yaxis": {
          "autorange": true,
          "title": {
           "text": "Y Axis"
          }
         },
         "zaxis": {
          "autorange": true,
          "title": {
           "text": "Z Axis"
          }
         }
        },
        "template": {
         "data": {
          "bar": [
           {
            "error_x": {
             "color": "#2a3f5f"
            },
            "error_y": {
             "color": "#2a3f5f"
            },
            "marker": {
             "line": {
              "color": "#E5ECF6",
              "width": 0.5
             },
             "pattern": {
              "fillmode": "overlay",
              "size": 10,
              "solidity": 0.2
             }
            },
            "type": "bar"
           }
          ],
          "barpolar": [
           {
            "marker": {
             "line": {
              "color": "#E5ECF6",
              "width": 0.5
             },
             "pattern": {
              "fillmode": "overlay",
              "size": 10,
              "solidity": 0.2
             }
            },
            "type": "barpolar"
           }
          ],
          "carpet": [
           {
            "aaxis": {
             "endlinecolor": "#2a3f5f",
             "gridcolor": "white",
             "linecolor": "white",
             "minorgridcolor": "white",
             "startlinecolor": "#2a3f5f"
            },
            "baxis": {
             "endlinecolor": "#2a3f5f",
             "gridcolor": "white",
             "linecolor": "white",
             "minorgridcolor": "white",
             "startlinecolor": "#2a3f5f"
            },
            "type": "carpet"
           }
          ],
          "choropleth": [
           {
            "colorbar": {
             "outlinewidth": 0,
             "ticks": ""
            },
            "type": "choropleth"
           }
          ],
          "contour": [
           {
            "colorbar": {
             "outlinewidth": 0,
             "ticks": ""
            },
            "colorscale": [
             [
              0,
              "#0d0887"
             ],
             [
              0.1111111111111111,
              "#46039f"
             ],
             [
              0.2222222222222222,
              "#7201a8"
             ],
             [
              0.3333333333333333,
              "#9c179e"
             ],
             [
              0.4444444444444444,
              "#bd3786"
             ],
             [
              0.5555555555555556,
              "#d8576b"
             ],
             [
              0.6666666666666666,
              "#ed7953"
             ],
             [
              0.7777777777777778,
              "#fb9f3a"
             ],
             [
              0.8888888888888888,
              "#fdca26"
             ],
             [
              1,
              "#f0f921"
             ]
            ],
            "type": "contour"
           }
          ],
          "contourcarpet": [
           {
            "colorbar": {
             "outlinewidth": 0,
             "ticks": ""
            },
            "type": "contourcarpet"
           }
          ],
          "heatmap": [
           {
            "colorbar": {
             "outlinewidth": 0,
             "ticks": ""
            },
            "colorscale": [
             [
              0,
              "#0d0887"
             ],
             [
              0.1111111111111111,
              "#46039f"
             ],
             [
              0.2222222222222222,
              "#7201a8"
             ],
             [
              0.3333333333333333,
              "#9c179e"
             ],
             [
              0.4444444444444444,
              "#bd3786"
             ],
             [
              0.5555555555555556,
              "#d8576b"
             ],
             [
              0.6666666666666666,
              "#ed7953"
             ],
             [
              0.7777777777777778,
              "#fb9f3a"
             ],
             [
              0.8888888888888888,
              "#fdca26"
             ],
             [
              1,
              "#f0f921"
             ]
            ],
            "type": "heatmap"
           }
          ],
          "histogram": [
           {
            "marker": {
             "pattern": {
              "fillmode": "overlay",
              "size": 10,
              "solidity": 0.2
             }
            },
            "type": "histogram"
           }
          ],
          "histogram2d": [
           {
            "colorbar": {
             "outlinewidth": 0,
             "ticks": ""
            },
            "colorscale": [
             [
              0,
              "#0d0887"
             ],
             [
              0.1111111111111111,
              "#46039f"
             ],
             [
              0.2222222222222222,
              "#7201a8"
             ],
             [
              0.3333333333333333,
              "#9c179e"
             ],
             [
              0.4444444444444444,
              "#bd3786"
             ],
             [
              0.5555555555555556,
              "#d8576b"
             ],
             [
              0.6666666666666666,
              "#ed7953"
             ],
             [
              0.7777777777777778,
              "#fb9f3a"
             ],
             [
              0.8888888888888888,
              "#fdca26"
             ],
             [
              1,
              "#f0f921"
             ]
            ],
            "type": "histogram2d"
           }
          ],
          "histogram2dcontour": [
           {
            "colorbar": {
             "outlinewidth": 0,
             "ticks": ""
            },
            "colorscale": [
             [
              0,
              "#0d0887"
             ],
             [
              0.1111111111111111,
              "#46039f"
             ],
             [
              0.2222222222222222,
              "#7201a8"
             ],
             [
              0.3333333333333333,
              "#9c179e"
             ],
             [
              0.4444444444444444,
              "#bd3786"
             ],
             [
              0.5555555555555556,
              "#d8576b"
             ],
             [
              0.6666666666666666,
              "#ed7953"
             ],
             [
              0.7777777777777778,
              "#fb9f3a"
             ],
             [
              0.8888888888888888,
              "#fdca26"
             ],
             [
              1,
              "#f0f921"
             ]
            ],
            "type": "histogram2dcontour"
           }
          ],
          "mesh3d": [
           {
            "colorbar": {
             "outlinewidth": 0,
             "ticks": ""
            },
            "type": "mesh3d"
           }
          ],
          "parcoords": [
           {
            "line": {
             "colorbar": {
              "outlinewidth": 0,
              "ticks": ""
             }
            },
            "type": "parcoords"
           }
          ],
          "pie": [
           {
            "automargin": true,
            "type": "pie"
           }
          ],
          "scatter": [
           {
            "fillpattern": {
             "fillmode": "overlay",
             "size": 10,
             "solidity": 0.2
            },
            "type": "scatter"
           }
          ],
          "scatter3d": [
           {
            "line": {
             "colorbar": {
              "outlinewidth": 0,
              "ticks": ""
             }
            },
            "marker": {
             "colorbar": {
              "outlinewidth": 0,
              "ticks": ""
             }
            },
            "type": "scatter3d"
           }
          ],
          "scattercarpet": [
           {
            "marker": {
             "colorbar": {
              "outlinewidth": 0,
              "ticks": ""
             }
            },
            "type": "scattercarpet"
           }
          ],
          "scattergeo": [
           {
            "marker": {
             "colorbar": {
              "outlinewidth": 0,
              "ticks": ""
             }
            },
            "type": "scattergeo"
           }
          ],
          "scattergl": [
           {
            "marker": {
             "colorbar": {
              "outlinewidth": 0,
              "ticks": ""
             }
            },
            "type": "scattergl"
           }
          ],
          "scattermap": [
           {
            "marker": {
             "colorbar": {
              "outlinewidth": 0,
              "ticks": ""
             }
            },
            "type": "scattermap"
           }
          ],
          "scattermapbox": [
           {
            "marker": {
             "colorbar": {
              "outlinewidth": 0,
              "ticks": ""
             }
            },
            "type": "scattermapbox"
           }
          ],
          "scatterpolar": [
           {
            "marker": {
             "colorbar": {
              "outlinewidth": 0,
              "ticks": ""
             }
            },
            "type": "scatterpolar"
           }
          ],
          "scatterpolargl": [
           {
            "marker": {
             "colorbar": {
              "outlinewidth": 0,
              "ticks": ""
             }
            },
            "type": "scatterpolargl"
           }
          ],
          "scatterternary": [
           {
            "marker": {
             "colorbar": {
              "outlinewidth": 0,
              "ticks": ""
             }
            },
            "type": "scatterternary"
           }
          ],
          "surface": [
           {
            "colorbar": {
             "outlinewidth": 0,
             "ticks": ""
            },
            "colorscale": [
             [
              0,
              "#0d0887"
             ],
             [
              0.1111111111111111,
              "#46039f"
             ],
             [
              0.2222222222222222,
              "#7201a8"
             ],
             [
              0.3333333333333333,
              "#9c179e"
             ],
             [
              0.4444444444444444,
              "#bd3786"
             ],
             [
              0.5555555555555556,
              "#d8576b"
             ],
             [
              0.6666666666666666,
              "#ed7953"
             ],
             [
              0.7777777777777778,
              "#fb9f3a"
             ],
             [
              0.8888888888888888,
              "#fdca26"
             ],
             [
              1,
              "#f0f921"
             ]
            ],
            "type": "surface"
           }
          ],
          "table": [
           {
            "cells": {
             "fill": {
              "color": "#EBF0F8"
             },
             "line": {
              "color": "white"
             }
            },
            "header": {
             "fill": {
              "color": "#C8D4E3"
             },
             "line": {
              "color": "white"
             }
            },
            "type": "table"
           }
          ]
         },
         "layout": {
          "annotationdefaults": {
           "arrowcolor": "#2a3f5f",
           "arrowhead": 0,
           "arrowwidth": 1
          },
          "autotypenumbers": "strict",
          "coloraxis": {
           "colorbar": {
            "outlinewidth": 0,
            "ticks": ""
           }
          },
          "colorscale": {
           "diverging": [
            [
             0,
             "#8e0152"
            ],
            [
             0.1,
             "#c51b7d"
            ],
            [
             0.2,
             "#de77ae"
            ],
            [
             0.3,
             "#f1b6da"
            ],
            [
             0.4,
             "#fde0ef"
            ],
            [
             0.5,
             "#f7f7f7"
            ],
            [
             0.6,
             "#e6f5d0"
            ],
            [
             0.7,
             "#b8e186"
            ],
            [
             0.8,
             "#7fbc41"
            ],
            [
             0.9,
             "#4d9221"
            ],
            [
             1,
             "#276419"
            ]
           ],
           "sequential": [
            [
             0,
             "#0d0887"
            ],
            [
             0.1111111111111111,
             "#46039f"
            ],
            [
             0.2222222222222222,
             "#7201a8"
            ],
            [
             0.3333333333333333,
             "#9c179e"
            ],
            [
             0.4444444444444444,
             "#bd3786"
            ],
            [
             0.5555555555555556,
             "#d8576b"
            ],
            [
             0.6666666666666666,
             "#ed7953"
            ],
            [
             0.7777777777777778,
             "#fb9f3a"
            ],
            [
             0.8888888888888888,
             "#fdca26"
            ],
            [
             1,
             "#f0f921"
            ]
           ],
           "sequentialminus": [
            [
             0,
             "#0d0887"
            ],
            [
             0.1111111111111111,
             "#46039f"
            ],
            [
             0.2222222222222222,
             "#7201a8"
            ],
            [
             0.3333333333333333,
             "#9c179e"
            ],
            [
             0.4444444444444444,
             "#bd3786"
            ],
            [
             0.5555555555555556,
             "#d8576b"
            ],
            [
             0.6666666666666666,
             "#ed7953"
            ],
            [
             0.7777777777777778,
             "#fb9f3a"
            ],
            [
             0.8888888888888888,
             "#fdca26"
            ],
            [
             1,
             "#f0f921"
            ]
           ]
          },
          "colorway": [
           "#636efa",
           "#EF553B",
           "#00cc96",
           "#ab63fa",
           "#FFA15A",
           "#19d3f3",
           "#FF6692",
           "#B6E880",
           "#FF97FF",
           "#FECB52"
          ],
          "font": {
           "color": "#2a3f5f"
          },
          "geo": {
           "bgcolor": "white",
           "lakecolor": "white",
           "landcolor": "#E5ECF6",
           "showlakes": true,
           "showland": true,
           "subunitcolor": "white"
          },
          "hoverlabel": {
           "align": "left"
          },
          "hovermode": "closest",
          "mapbox": {
           "style": "light"
          },
          "paper_bgcolor": "white",
          "plot_bgcolor": "#E5ECF6",
          "polar": {
           "angularaxis": {
            "gridcolor": "white",
            "linecolor": "white",
            "ticks": ""
           },
           "bgcolor": "#E5ECF6",
           "radialaxis": {
            "gridcolor": "white",
            "linecolor": "white",
            "ticks": ""
           }
          },
          "scene": {
           "xaxis": {
            "backgroundcolor": "#E5ECF6",
            "gridcolor": "white",
            "gridwidth": 2,
            "linecolor": "white",
            "showbackground": true,
            "ticks": "",
            "zerolinecolor": "white"
           },
           "yaxis": {
            "backgroundcolor": "#E5ECF6",
            "gridcolor": "white",
            "gridwidth": 2,
            "linecolor": "white",
            "showbackground": true,
            "ticks": "",
            "zerolinecolor": "white"
           },
           "zaxis": {
            "backgroundcolor": "#E5ECF6",
            "gridcolor": "white",
            "gridwidth": 2,
            "linecolor": "white",
            "showbackground": true,
            "ticks": "",
            "zerolinecolor": "white"
           }
          },
          "shapedefaults": {
           "line": {
            "color": "#2a3f5f"
           }
          },
          "ternary": {
           "aaxis": {
            "gridcolor": "white",
            "linecolor": "white",
            "ticks": ""
           },
           "baxis": {
            "gridcolor": "white",
            "linecolor": "white",
            "ticks": ""
           },
           "bgcolor": "#E5ECF6",
           "caxis": {
            "gridcolor": "white",
            "linecolor": "white",
            "ticks": ""
           }
          },
          "title": {
           "x": 0.05
          },
          "xaxis": {
           "automargin": true,
           "gridcolor": "white",
           "linecolor": "white",
           "ticks": "",
           "title": {
            "standoff": 15
           },
           "zerolinecolor": "white",
           "zerolinewidth": 2
          },
          "yaxis": {
           "automargin": true,
           "gridcolor": "white",
           "linecolor": "white",
           "ticks": "",
           "title": {
            "standoff": 15
           },
           "zerolinecolor": "white",
           "zerolinewidth": 2
          }
         }
        }
       }
      }
     },
     "metadata": {},
     "output_type": "display_data"
    },
    {
     "data": {
      "image/png": "[encoded data removed]",
      "text/plain": [
       "<Figure size 640x480 with 1 Axes>"
      ]
     },
     "metadata": {},
     "output_type": "display_data"
    }
   ],
   "source": [
    "f = 3\n",
    "N = 20\n",
    "\n",
    "tn = tensor_train_graph(f, r = 4, N = N)\n",
    "T = tn_grid(tn, [np.linspace(0, 1, N)] * f)\n",
    "\n",
    "print(tn.nodes)\n",
    "print(tn.edges)\n",
    "plot_tt_diagram(tn)\n",
    "plot_tn_xyz(tn, fun)"
   ]
  },
  {
   "cell_type": "code",
   "execution_count": 13,
   "metadata": {},
   "outputs": [
    {
     "data": {
      "application/vnd.plotly.v1+json": {
       "config": {
        "plotlyServerURL": "https://plot.ly"
       },
       "data": [
        {
         "marker": {
          "color": {
           "bdata": "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",
           "dtype": "f8"
          },
          "colorbar": {
           "title": {
            "text": "Function Value"
           }
          },
          "colorscale": [
           [
            0,
            "#440154"
           ],
           [
            0.1111111111111111,
            "#482878"
           ],
           [
            0.2222222222222222,
            "#3e4989"
           ],
           [
            0.3333333333333333,
            "#31688e"
           ],
           [
            0.4444444444444444,
            "#26828e"
           ],
           [
            0.5555555555555556,
            "#1f9e89"
           ],
           [
            0.6666666666666666,
            "#35b779"
           ],
           [
            0.7777777777777778,
            "#6ece58"
           ],
           [
            0.8888888888888888,
            "#b5de2b"
           ],
           [
            1,
            "#fde725"
           ]
          ],
          "size": 5
         },
         "mode": "markers",
         "type": "scatter3d",
         "x": {
          "bdata": "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",
          "dtype": "f8"
         },
         "y": {
          "bdata": "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",
          "dtype": "f8"
         },
         "z": {
          "bdata": "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",
          "dtype": "f8"
         }
        }
       ],
       "layout": {
        "margin": {
         "b": 0,
         "l": 0,
         "r": 0,
         "t": 0
        },
        "scene": {
         "aspectmode": "cube",
         "xaxis": {
          "autorange": true,
          "title": {
           "text": "X Axis"
          }
         },
         "yaxis": {
          "autorange": true,
          "title": {
           "text": "Y Axis"
          }
         },
         "zaxis": {
          "autorange": true,
          "title": {
           "text": "Z Axis"
          }
         }
        },
        "template": {
         "data": {
          "bar": [
           {
            "error_x": {
             "color": "#2a3f5f"
            },
            "error_y": {
             "color": "#2a3f5f"
            },
            "marker": {
             "line": {
              "color": "#E5ECF6",
              "width": 0.5
             },
             "pattern": {
              "fillmode": "overlay",
              "size": 10,
              "solidity": 0.2
             }
            },
            "type": "bar"
           }
          ],
          "barpolar": [
           {
            "marker": {
             "line": {
              "color": "#E5ECF6",
              "width": 0.5
             },
             "pattern": {
              "fillmode": "overlay",
              "size": 10,
              "solidity": 0.2
             }
            },
            "type": "barpolar"
           }
          ],
          "carpet": [
           {
            "aaxis": {
             "endlinecolor": "#2a3f5f",
             "gridcolor": "white",
             "linecolor": "white",
             "minorgridcolor": "white",
             "startlinecolor": "#2a3f5f"
            },
            "baxis": {
             "endlinecolor": "#2a3f5f",
             "gridcolor": "white",
             "linecolor": "white",
             "minorgridcolor": "white",
             "startlinecolor": "#2a3f5f"
            },
            "type": "carpet"
           }
          ],
          "choropleth": [
           {
            "colorbar": {
             "outlinewidth": 0,
             "ticks": ""
            },
            "type": "choropleth"
           }
          ],
          "contour": [
           {
            "colorbar": {
             "outlinewidth": 0,
             "ticks": ""
            },
            "colorscale": [
             [
              0,
              "#0d0887"
             ],
             [
              0.1111111111111111,
              "#46039f"
             ],
             [
              0.2222222222222222,
              "#7201a8"
             ],
             [
              0.3333333333333333,
              "#9c179e"
             ],
             [
              0.4444444444444444,
              "#bd3786"
             ],
             [
              0.5555555555555556,
              "#d8576b"
             ],
             [
              0.6666666666666666,
              "#ed7953"
             ],
             [
              0.7777777777777778,
              "#fb9f3a"
             ],
             [
              0.8888888888888888,
              "#fdca26"
             ],
             [
              1,
              "#f0f921"
             ]
            ],
            "type": "contour"
           }
          ],
          "contourcarpet": [
           {
            "colorbar": {
             "outlinewidth": 0,
             "ticks": ""
            },
            "type": "contourcarpet"
           }
          ],
          "heatmap": [
           {
            "colorbar": {
             "outlinewidth": 0,
             "ticks": ""
            },
            "colorscale": [
             [
              0,
              "#0d0887"
             ],
             [
              0.1111111111111111,
              "#46039f"
             ],
             [
              0.2222222222222222,
              "#7201a8"
             ],
             [
              0.3333333333333333,
              "#9c179e"
             ],
             [
              0.4444444444444444,
              "#bd3786"
             ],
             [
              0.5555555555555556,
              "#d8576b"
             ],
             [
              0.6666666666666666,
              "#ed7953"
             ],
             [
              0.7777777777777778,
              "#fb9f3a"
             ],
             [
              0.8888888888888888,
              "#fdca26"
             ],
             [
              1,
              "#f0f921"
             ]
            ],
            "type": "heatmap"
           }
          ],
          "histogram": [
           {
            "marker": {
             "pattern": {
              "fillmode": "overlay",
              "size": 10,
              "solidity": 0.2
             }
            },
            "type": "histogram"
           }
          ],
          "histogram2d": [
           {
            "colorbar": {
             "outlinewidth": 0,
             "ticks": ""
            },
            "colorscale": [
             [
              0,
              "#0d0887"
             ],
             [
              0.1111111111111111,
              "#46039f"
             ],
             [
              0.2222222222222222,
              "#7201a8"
             ],
             [
              0.3333333333333333,
              "#9c179e"
             ],
             [
              0.4444444444444444,
              "#bd3786"
             ],
             [
              0.5555555555555556,
              "#d8576b"
             ],
             [
              0.6666666666666666,
              "#ed7953"
             ],
             [
              0.7777777777777778,
              "#fb9f3a"
             ],
             [
              0.8888888888888888,
              "#fdca26"
             ],
             [
              1,
              "#f0f921"
             ]
            ],
            "type": "histogram2d"
           }
          ],
          "histogram2dcontour": [
           {
            "colorbar": {
             "outlinewidth": 0,
             "ticks": ""
            },
            "colorscale": [
             [
              0,
              "#0d0887"
             ],
             [
              0.1111111111111111,
              "#46039f"
             ],
             [
              0.2222222222222222,
              "#7201a8"
             ],
             [
              0.3333333333333333,
              "#9c179e"
             ],
             [
              0.4444444444444444,
              "#bd3786"
             ],
             [
              0.5555555555555556,
              "#d8576b"
             ],
             [
              0.6666666666666666,
              "#ed7953"
             ],
             [
              0.7777777777777778,
              "#fb9f3a"
             ],
             [
              0.8888888888888888,
              "#fdca26"
             ],
             [
              1,
              "#f0f921"
             ]
            ],
            "type": "histogram2dcontour"
           }
          ],
          "mesh3d": [
           {
            "colorbar": {
             "outlinewidth": 0,
             "ticks": ""
            },
            "type": "mesh3d"
           }
          ],
          "parcoords": [
           {
            "line": {
             "colorbar": {
              "outlinewidth": 0,
              "ticks": ""
             }
            },
            "type": "parcoords"
           }
          ],
          "pie": [
           {
            "automargin": true,
            "type": "pie"
           }
          ],
          "scatter": [
           {
            "fillpattern": {
             "fillmode": "overlay",
             "size": 10,
             "solidity": 0.2
            },
            "type": "scatter"
           }
          ],
          "scatter3d": [
           {
            "line": {
             "colorbar": {
              "outlinewidth": 0,
              "ticks": ""
             }
            },
            "marker": {
             "colorbar": {
              "outlinewidth": 0,
              "ticks": ""
             }
            },
            "type": "scatter3d"
           }
          ],
          "scattercarpet": [
           {
            "marker": {
             "colorbar": {
              "outlinewidth": 0,
              "ticks": ""
             }
            },
            "type": "scattercarpet"
           }
          ],
          "scattergeo": [
           {
            "marker": {
             "colorbar": {
              "outlinewidth": 0,
              "ticks": ""
             }
            },
            "type": "scattergeo"
           }
          ],
          "scattergl": [
           {
            "marker": {
             "colorbar": {
              "outlinewidth": 0,
              "ticks": ""
             }
            },
            "type": "scattergl"
           }
          ],
          "scattermap": [
           {
            "marker": {
             "colorbar": {
              "outlinewidth": 0,
              "ticks": ""
             }
            },
            "type": "scattermap"
           }
          ],
          "scattermapbox": [
           {
            "marker": {
             "colorbar": {
              "outlinewidth": 0,
              "ticks": ""
             }
            },
            "type": "scattermapbox"
           }
          ],
          "scatterpolar": [
           {
            "marker": {
             "colorbar": {
              "outlinewidth": 0,
              "ticks": ""
             }
            },
            "type": "scatterpolar"
           }
          ],
          "scatterpolargl": [
           {
            "marker": {
             "colorbar": {
              "outlinewidth": 0,
              "ticks": ""
             }
            },
            "type": "scatterpolargl"
           }
          ],
          "scatterternary": [
           {
            "marker": {
             "colorbar": {
              "outlinewidth": 0,
              "ticks": ""
             }
            },
            "type": "scatterternary"
           }
          ],
          "surface": [
           {
            "colorbar": {
             "outlinewidth": 0,
             "ticks": ""
            },
            "colorscale": [
             [
              0,
              "#0d0887"
             ],
             [
              0.1111111111111111,
              "#46039f"
             ],
             [
              0.2222222222222222,
              "#7201a8"
             ],
             [
              0.3333333333333333,
              "#9c179e"
             ],
             [
              0.4444444444444444,
              "#bd3786"
             ],
             [
              0.5555555555555556,
              "#d8576b"
             ],
             [
              0.6666666666666666,
              "#ed7953"
             ],
             [
              0.7777777777777778,
              "#fb9f3a"
             ],
             [
              0.8888888888888888,
              "#fdca26"
             ],
             [
              1,
              "#f0f921"
             ]
            ],
            "type": "surface"
           }
          ],
          "table": [
           {
            "cells": {
             "fill": {
              "color": "#EBF0F8"
             },
             "line": {
              "color": "white"
             }
            },
            "header": {
             "fill": {
              "color": "#C8D4E3"
             },
             "line": {
              "color": "white"
             }
            },
            "type": "table"
           }
          ]
         },
         "layout": {
          "annotationdefaults": {
           "arrowcolor": "#2a3f5f",
           "arrowhead": 0,
           "arrowwidth": 1
          },
          "autotypenumbers": "strict",
          "coloraxis": {
           "colorbar": {
            "outlinewidth": 0,
            "ticks": ""
           }
          },
          "colorscale": {
           "diverging": [
            [
             0,
             "#8e0152"
            ],
            [
             0.1,
             "#c51b7d"
            ],
            [
             0.2,
             "#de77ae"
            ],
            [
             0.3,
             "#f1b6da"
            ],
            [
             0.4,
             "#fde0ef"
            ],
            [
             0.5,
             "#f7f7f7"
            ],
            [
             0.6,
             "#e6f5d0"
            ],
            [
             0.7,
             "#b8e186"
            ],
            [
             0.8,
             "#7fbc41"
            ],
            [
             0.9,
             "#4d9221"
            ],
            [
             1,
             "#276419"
            ]
           ],
           "sequential": [
            [
             0,
             "#0d0887"
            ],
            [
             0.1111111111111111,
             "#46039f"
            ],
            [
             0.2222222222222222,
             "#7201a8"
            ],
            [
             0.3333333333333333,
             "#9c179e"
            ],
            [
             0.4444444444444444,
             "#bd3786"
            ],
            [
             0.5555555555555556,
             "#d8576b"
            ],
            [
             0.6666666666666666,
             "#ed7953"
            ],
            [
             0.7777777777777778,
             "#fb9f3a"
            ],
            [
             0.8888888888888888,
             "#fdca26"
            ],
            [
             1,
             "#f0f921"
            ]
           ],
           "sequentialminus": [
            [
             0,
             "#0d0887"
            ],
            [
             0.1111111111111111,
             "#46039f"
            ],
            [
             0.2222222222222222,
             "#7201a8"
            ],
            [
             0.3333333333333333,
             "#9c179e"
            ],
            [
             0.4444444444444444,
             "#bd3786"
            ],
            [
             0.5555555555555556,
             "#d8576b"
            ],
            [
             0.6666666666666666,
             "#ed7953"
            ],
            [
             0.7777777777777778,
             "#fb9f3a"
            ],
            [
             0.8888888888888888,
             "#fdca26"
            ],
            [
             1,
             "#f0f921"
            ]
           ]
          },
          "colorway": [
           "#636efa",
           "#EF553B",
           "#00cc96",
           "#ab63fa",
           "#FFA15A",
           "#19d3f3",
           "#FF6692",
           "#B6E880",
           "#FF97FF",
           "#FECB52"
          ],
          "font": {
           "color": "#2a3f5f"
          },
          "geo": {
           "bgcolor": "white",
           "lakecolor": "white",
           "landcolor": "#E5ECF6",
           "showlakes": true,
           "showland": true,
           "subunitcolor": "white"
          },
          "hoverlabel": {
           "align": "left"
          },
          "hovermode": "closest",
          "mapbox": {
           "style": "light"
          },
          "paper_bgcolor": "white",
          "plot_bgcolor": "#E5ECF6",
          "polar": {
           "angularaxis": {
            "gridcolor": "white",
            "linecolor": "white",
            "ticks": ""
           },
           "bgcolor": "#E5ECF6",
           "radialaxis": {
            "gridcolor": "white",
            "linecolor": "white",
            "ticks": ""
           }
          },
          "scene": {
           "xaxis": {
            "backgroundcolor": "#E5ECF6",
            "gridcolor": "white",
            "gridwidth": 2,
            "linecolor": "white",
            "showbackground": true,
            "ticks": "",
            "zerolinecolor": "white"
           },
           "yaxis": {
            "backgroundcolor": "#E5ECF6",
            "gridcolor": "white",
            "gridwidth": 2,
            "linecolor": "white",
            "showbackground": true,
            "ticks": "",
            "zerolinecolor": "white"
           },
           "zaxis": {
            "backgroundcolor": "#E5ECF6",
            "gridcolor": "white",
            "gridwidth": 2,
            "linecolor": "white",
            "showbackground": true,
            "ticks": "",
            "zerolinecolor": "white"
           }
          },
          "shapedefaults": {
           "line": {
            "color": "#2a3f5f"
           }
          },
          "ternary": {
           "aaxis": {
            "gridcolor": "white",
            "linecolor": "white",
            "ticks": ""
           },
           "baxis": {
            "gridcolor": "white",
            "linecolor": "white",
            "ticks": ""
           },
           "bgcolor": "#E5ECF6",
           "caxis": {
            "gridcolor": "white",
            "linecolor": "white",
            "ticks": ""
           }
          },
          "title": {
           "x": 0.05
          },
          "xaxis": {
           "automargin": true,
           "gridcolor": "white",
           "linecolor": "white",
           "ticks": "",
           "title": {
            "standoff": 15
           },
           "zerolinecolor": "white",
           "zerolinewidth": 2
          },
          "yaxis": {
           "automargin": true,
           "gridcolor": "white",
           "linecolor": "white",
           "ticks": "",
           "title": {
            "standoff": 15
           },
           "zerolinecolor": "white",
           "zerolinewidth": 2
          }
         }
        }
       }
      }
     },
     "metadata": {},
     "output_type": "display_data"
    },
    {
     "data": {
      "image/png": "[encoded data removed]",
      "text/plain": [
       "<Figure size 640x480 with 1 Axes>"
      ]
     },
     "metadata": {},
     "output_type": "display_data"
    }
   ],
   "source": [
    "f = 3\n",
    "N = 10\n",
    "r = 5\n",
    "\n",
    "G = balanced_tree(f, r, N)\n",
    "G = tn_grid(G, [linspace(0., 1., N)] * f)\n",
    "plot_tree(G)\n",
    "plot_tn_xyz(G, fun)\n"
   ]
  },
  {
   "cell_type": "code",
   "execution_count": null,
   "metadata": {},
   "outputs": [],
   "source": []
  }
 ],
 "metadata": {
  "kernelspec": {
   "display_name": "qutree",
   "language": "python",
   "name": "python3"
  },
  "language_info": {
   "codemirror_mode": {
    "name": "ipython",
    "version": 3
   },
   "file_extension": ".py",
   "mimetype": "text/x-python",
   "name": "python",
   "nbconvert_exporter": "python",
   "pygments_lexer": "ipython3",
   "version": "3.13.4"
  }
 },
 "nbformat": 4,
 "nbformat_minor": 2
}
