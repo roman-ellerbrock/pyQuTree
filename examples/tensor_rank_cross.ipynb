{
 "cells": [
  {
   "cell_type": "code",
   "execution_count": 1,
   "metadata": {},
   "outputs": [],
   "source": [
    "\"\"\"\n",
    "Minimal example: optimize 3D V(x) with tensor train.\n",
    "See next cell for balanced tree and how to provide starting points.\n",
    "\"\"\"\n",
    "import qutree\n",
    "import importlib\n",
    "import numpy as np\n",
    "import qutree.optimization\n",
    "\n",
    "importlib.reload(qutree)\n",
    "importlib.reload(qutree.optimization)\n",
    "\n",
    "from qutree.benchmark_functions import *\n",
    "from qutree import Grid, Objective\n",
    "from qutree.optimization import (\n",
    "    MatrixTrainOptimization,\n",
    "    TensorRankOptimization,\n",
    "    random_grid_points,\n",
    ")"
   ]
  },
  {
   "cell_type": "code",
   "execution_count": 2,
   "metadata": {},
   "outputs": [
    {
     "name": "stdout",
     "output_type": "stream",
     "text": [
      "0.0\n"
     ]
    }
   ],
   "source": [
    "# Setup\n",
    "N, r, f, nsweep = 11, 4, 3, 1\n",
    "prims = [Grid(np.linspace(0.,1.,N), [k]) for k in range(f)]\n",
    "g0 = random_grid_points(prims, r)\n",
    "\n",
    "obj_trc = Objective(double_minimum_exp, lambda x: -np.exp(-x))\n",
    "obj_mt = Objective(double_minimum_exp, lambda x: -np.exp(-x))\n",
    "\n",
    "trc = TensorRankOptimization(prims, r)\n",
    "g_trc, _ = trc.sweep(Grid(g0.grid.copy(), g0.coords.copy()), obj_trc, epoch=0)\n",
    "\n",
    "mt  = MatrixTrainOptimization(prims, r)\n",
    "g_mt, _ = mt.sweep(Grid(g0.grid.copy(), g0.coords.copy()), obj_mt, epoch=0)\n",
    "\n",
    "assert np.allclose(g_trc.grid, g_mt.grid)\n",
    "\n",
    "vs_trc = np.array([v for v in obj_trc.cache.values()])\n",
    "f_min_trc = np.min(obj_trc.logger.df['f'].array)\n",
    "\n",
    "vs_mt = np.array([v for v in obj_mt.cache.values()])\n",
    "f_min_mt = np.min(obj_mt.logger.df['f'].array)\n",
    "\n",
    "print(f_min_trc-f_min_mt)"
   ]
  },
  {
   "cell_type": "code",
   "execution_count": 3,
   "metadata": {},
   "outputs": [
    {
     "name": "stdout",
     "output_type": "stream",
     "text": [
      "Tensor Rank Cross\n",
      "Optimal value:\n",
      "x1       0.800000\n",
      "x2       0.800000\n",
      "x3       1.000000\n",
      "x4       0.600000\n",
      "x5       0.900000\n",
      "x6       0.800000\n",
      "f        0.489823\n",
      "epoch    0.000000\n",
      "Name: 19, dtype: float64\n",
      "\n",
      "Number of objective function calls: 611\n",
      "Number of cached function accesses: 181\n",
      "Total number calls: 792\n",
      "minimal:  0.4898233716608451\n",
      "____________________________________________\n",
      "Matrix Train Optimization\n",
      "Optimal value:\n",
      "x1       0.600000\n",
      "x2       0.800000\n",
      "x3       0.700000\n",
      "x4       0.900000\n",
      "x5       0.900000\n",
      "x6       0.600000\n",
      "f        0.538066\n",
      "epoch    0.000000\n",
      "Name: 71, dtype: float64\n",
      "\n",
      "Number of objective function calls: 561\n",
      "Number of cached function accesses: 375\n",
      "Total number calls: 936\n",
      "minimal:  0.5380656821206244\n"
     ]
    }
   ],
   "source": [
    "N, r, f, nsweep = 11, 4, 6, 3\n",
    "\n",
    "primitive_grid = [Grid(np.linspace(0.0, 1.0, N, endpoint=True), [k]) for k in range(f)]\n",
    "obj = Objective(double_minimum_exp, lambda x: -np.exp(-x))\n",
    "model = TensorRankOptimization(primitive_grid, r)\n",
    "\n",
    "grid = random_grid_points(primitive_grid, r)\n",
    "grid = model.optimize(grid, obj, nsweep)\n",
    "\n",
    "vs = np.array([v for v in obj.cache.values()])\n",
    "f_min = np.min(obj.logger.df[\"f\"].array)\n",
    "\n",
    "print(\"Tensor Rank Cross\")\n",
    "print(obj)\n",
    "print(\"minimal: \", f_min)\n",
    "print(\"____________________________________________\")\n",
    "\n",
    "primitive_grid = [Grid(np.linspace(0.0, 1.0, N, endpoint=True), [k]) for k in range(f)]\n",
    "obj = Objective(double_minimum_exp, lambda x: -np.exp(-x))\n",
    "model = MatrixTrainOptimization(primitive_grid, r)\n",
    "\n",
    "grid = random_grid_points(primitive_grid, r)\n",
    "grid = model.optimize(grid, obj, nsweep)\n",
    "\n",
    "vs = np.array([v for v in obj.cache.values()])\n",
    "f_min = np.min(obj.logger.df[\"f\"].array)\n",
    "\n",
    "print(\"Matrix Train Optimization\")\n",
    "print(obj)\n",
    "print(\"minimal: \", f_min)"
   ]
  },
  {
   "cell_type": "code",
   "execution_count": null,
   "metadata": {},
   "outputs": [],
   "source": []
  },
  {
   "cell_type": "code",
   "execution_count": null,
   "metadata": {},
   "outputs": [],
   "source": []
  },
  {
   "cell_type": "code",
   "execution_count": null,
   "metadata": {},
   "outputs": [],
   "source": []
  },
  {
   "cell_type": "code",
   "execution_count": null,
   "metadata": {},
   "outputs": [],
   "source": [
    "# represent via TRC\n",
    "# A via 3 options: a.) full matrix, b.) elements only where groups match, c.) diagonal\n"
   ]
  },
  {
   "cell_type": "code",
   "execution_count": null,
   "metadata": {},
   "outputs": [],
   "source": [
    "\"\"\"\n",
    "Minimal example: optimize 3D V(x) with tensor train.\n",
    "See next cell for balanced tree and how to provide starting points.\n",
    "\"\"\"\n",
    "from qutree import *\n",
    "\n",
    "\n",
    "obj = Objective(double_minimum_nd, lambda x: -np.exp(-0.01*x))\n",
    "# obj = Objective(double_minimum_exp, lambda x: -np.exp(-0.01*x))\n",
    "N, r, f, nsweeps, seed = 11, 4, 3, 2, np.random.randint(100000)\n",
    "\n",
    "# --- Pick a network structure: ---\n",
    "G = tensor_train_graph(f, r, N)\n",
    "fig = plot_tt_diagram(G)\n",
    "\n",
    "# boundaries of primitive grid\n",
    "primitive_grid = [np.linspace(0., 1., num = N)] * f\n",
    "\n",
    "G_opt = ttnopt(G, obj, nsweeps, primitive_grid)\n",
    "\n",
    "# Display output (can vary with random parameters)\n",
    "print(obj)\n",
    "display(obj.logger.df)"
   ]
  },
  {
   "cell_type": "code",
   "execution_count": null,
   "metadata": {},
   "outputs": [],
   "source": [
    "import numpy as np\n",
    "import matplotlib.pyplot as plt\n",
    "from qutree.benchmark_functions import *\n",
    "\n",
    "x = np.linspace(-0, 1, 400)\n",
    "y = np.linspace(-0, 1, 400)\n",
    "X, Y = np.meshgrid(x, y)\n",
    "f = rastigrin\n",
    "\n",
    "Z = np.zeros_like(X)\n",
    "for i in range(X.shape[0]):\n",
    "    for j in range(X.shape[1]):\n",
    "        Z[i, j] = f(np.array([X[i, j], Y[i, j]]))\n",
    "\n",
    "plt.figure()\n",
    "plt.contourf(X, Y, Z, levels=50)\n",
    "plt.colorbar()\n",
    "plt.show()"
   ]
  },
  {
   "cell_type": "code",
   "execution_count": null,
   "metadata": {},
   "outputs": [],
   "source": []
  }
 ],
 "metadata": {
  "kernelspec": {
   "display_name": "qutree",
   "language": "python",
   "name": "python3"
  },
  "language_info": {
   "codemirror_mode": {
    "name": "ipython",
    "version": 3
   },
   "file_extension": ".py",
   "mimetype": "text/x-python",
   "name": "python",
   "nbconvert_exporter": "python",
   "pygments_lexer": "ipython3",
   "version": "3.13.4"
  }
 },
 "nbformat": 4,
 "nbformat_minor": 2
}
