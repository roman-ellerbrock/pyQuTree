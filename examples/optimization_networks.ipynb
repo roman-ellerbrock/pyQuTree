{
 "cells": [
  {
   "cell_type": "code",
   "execution_count": 1,
   "metadata": {},
   "outputs": [
    {
     "name": "stdout",
     "output_type": "stream",
     "text": [
      "[21]\n",
      "21.0\n",
      "[np.float64(7.301250000000001)]\n",
      "7.301250000000001\n"
     ]
    }
   ],
   "source": [
    "\"\"\"\n",
    "Optimization Networks Example\n",
    "\n",
    "The idea is to build optimization networks and structures in a similar fashion to\n",
    "networks used in machine learning for fitting tasks, etc.\n",
    "\"\"\"\n",
    "import qutree\n",
    "import importlib\n",
    "\n",
    "import qutree.optimization\n",
    "importlib.reload(qutree)\n",
    "importlib.reload(qutree.optimization)\n",
    "\n",
    "from qutree import Grid, Objective\n",
    "import numpy as np\n",
    "from qutree.optimization import Model, variation_update, recombination_update, evaluate_grid\n",
    "from qutree.optimization import create_mutations, recombination, maxvol_selection\n",
    "import random\n",
    "\n",
    "\n",
    "def V(x):\n",
    "    N = x.shape[0]\n",
    "    v = 0.\n",
    "    for i in range(N):\n",
    "        v += 0.5*(x[i]+1.5)**2 + x[i]*x[(i+1) % N]\n",
    "    return v\n",
    "\n",
    "\n",
    "def pot(x):\n",
    "    v = 0.\n",
    "    for i in range(0, x.shape[0]):\n",
    "        v += np.sin(np.pi*x[i]**2)/(x[i]**2+1e-7)\n",
    "    for i in range(0, x.shape[0]):\n",
    "        v+=np.sin(x[i]*x[i-1])\n",
    "    return v - 15.\n",
    "\n",
    "\n",
    "def rosenbrock_function(x):\n",
    "    return np.sum(100. * (x[1:] - x[:-1]**2)**2 + (1 - x[:-1])**2)\n",
    "\n",
    "\n",
    "N, r, f, nsweep = 21, 3, 4, 5\n",
    "# fun = ttopt_functions.brown\n",
    "# fun = pot\n",
    "fun = rosenbrock_function\n",
    "\n",
    "xs = np.array([[-0.5, -0.5, -0.5, -0.5],\n",
    "               [-1.5, -1.5,  1.5, -1.5],\n",
    "               [ 0.0,  0.0,  0.0,  0.0]])\n",
    "\n",
    "\n",
    "# xs = np.array([[0.5, 0.9, 0.8, 0.1],\n",
    "#                [0.0, 0.0, 0.8, 0.8],\n",
    "#                [0.1, 0.1, 0.2, 0.3],\n",
    "#                [0.2, 0.3, 0.5, 0.5]])\n",
    "\n",
    "\n",
    "primitive_grid = []\n",
    "for k in range(f):\n",
    "    primitive_grid.append(Grid(np.linspace(0., 1., N, endpoint=True), [k]))\n",
    "    # primitive_grid.append(Grid(np.linspace(-4., 4., N), [k]))\n",
    "\n",
    "\n",
    "def random_points(primitive_grid, r):\n",
    "    x = []\n",
    "    for grid in primitive_grid:\n",
    "        g = grid.grid.reshape(-1)\n",
    "\n",
    "        subset = random.sample(list(g), r)\n",
    "        x.append(subset)\n",
    "    x = np.array(x).T\n",
    "    return x\n",
    "\n",
    "\n",
    "class SeparableModel(Model):\n",
    "\n",
    "    def data(self, primitive_grid, r):\n",
    "        self.primitive_grid = primitive_grid\n",
    "        self.r = r\n",
    "\n",
    "    def sweep(self, grid, function, epoch):\n",
    "        for k in range(f):\n",
    "            grid, _ = variation_update(grid, self.primitive_grid[k], function, self.r, epoch = epoch)\n",
    "\n",
    "        return grid, None\n",
    "\n",
    "\n",
    "class StandardModel(Model):\n",
    "\n",
    "    def data(self, primitive_grid, r):\n",
    "        self.primitive_grid = primitive_grid\n",
    "        self.r = r\n",
    "\n",
    "    def sweep(self, grid, function, epoch):\n",
    "        for k in range(f):\n",
    "            if k > 0:\n",
    "                idcs = list(range(k))\n",
    "                ngrid = recombination(grid, idcs)\n",
    "                grid, _ = recombination_update(grid, idcs, function, r, epoch = epoch)\n",
    "            # grid, _ = variation_update(grid, self.primitive_grid[k], function, r, epoch=epoch)\n",
    "\n",
    "        return grid, None\n",
    "\n",
    "\n",
    "fmin_mt = []\n",
    "npoints_mt = []\n",
    "for i in range(1):\n",
    "    obj = Objective(fun)\n",
    "    # model = SeparableModel()\n",
    "    model = StandardModel()\n",
    "\n",
    "    xs = random_points(primitive_grid, r)\n",
    "    grid = Grid(xs, [0, 1, 2, 3])\n",
    "\n",
    "    model.data(primitive_grid, r)\n",
    "    grid = model.optimize(grid, obj, nsweep)\n",
    "    vs = np.array([v for v in obj.cache.values()])\n",
    "    # print(grid)\n",
    "    fmin_mt.append(np.min(vs))\n",
    "    npoints_mt.append(len(obj.cache))\n",
    "\n",
    "    # print(obj)\n",
    "    # print(obj.logger.df)\n",
    "\n",
    "print(npoints_mt)\n",
    "print(np.mean(npoints_mt))\n",
    "print(fmin_mt)\n",
    "print(np.mean(fmin_mt))"
   ]
  },
  {
   "cell_type": "code",
   "execution_count": 2,
   "metadata": {},
   "outputs": [
    {
     "name": "stdout",
     "output_type": "stream",
     "text": [
      "[21]\n",
      "21.0\n",
      "[np.float64(7.301250000000001)]\n",
      "7.301250000000001\n"
     ]
    }
   ],
   "source": [
    "print(npoints_mt)\n",
    "print(np.mean(npoints_mt))\n",
    "print(fmin_mt)\n",
    "print(np.mean(fmin_mt))"
   ]
  },
  {
   "cell_type": "code",
   "execution_count": 3,
   "metadata": {},
   "outputs": [
    {
     "name": "stdout",
     "output_type": "stream",
     "text": [
      "[21]\n",
      "21.0\n",
      "[np.float64(7.301250000000001)]\n",
      "7.301250000000001\n"
     ]
    }
   ],
   "source": [
    "print(npoints_mt)\n",
    "print(np.mean(npoints_mt))\n",
    "print(fmin_mt)\n",
    "print(np.mean(fmin_mt))"
   ]
  },
  {
   "cell_type": "code",
   "execution_count": 4,
   "metadata": {},
   "outputs": [],
   "source": [
    "\n",
    "class TTOpt(Model):\n",
    "\n",
    "    def data(self, primitive_grid, r):\n",
    "        self.primitive_grid = primitive_grid\n",
    "        self.r = r\n",
    "\n",
    "    def sweep(self, grid, function, epoch):\n",
    "        for k in range(f):\n",
    "            grid = create_mutations(grid, self.primitive_grid[k])\n",
    "            if k > 0:\n",
    "                idcs = list(range(k))\n",
    "                ngrid = recombination_update(grid, idcs)\n",
    "            ngrid, _ = maxvol_selection(ngrid, function, grid.num_points(), epoch = epoch)\n",
    "\n"
   ]
  },
  {
   "cell_type": "code",
   "execution_count": 5,
   "metadata": {},
   "outputs": [
    {
     "name": "stdout",
     "output_type": "stream",
     "text": [
      "[np.float64(0.2712499999999995), np.float64(0.2512499999999999), np.float64(0.6731250000000005), np.float64(0.0731249999999998), np.float64(0.24999999999999936), np.float64(0.0), np.float64(0.6512500000000006), np.float64(0.24625000000000058), np.float64(0.0), np.float64(0.2531249999999994)]\n",
      "[21, 21, 21, 21, 21, 21, 21, 21, 21, 21]\n"
     ]
    },
    {
     "data": {
      "image/png": "[encoded data removed]",
      "text/plain": [
       "<Figure size 640x480 with 1 Axes>"
      ]
     },
     "metadata": {},
     "output_type": "display_data"
    }
   ],
   "source": [
    "\"\"\"\n",
    "Minimal example: optimize 3D V(x) with tensor train.\n",
    "See next cell for balanced tree and how to provide starting points.\n",
    "\"\"\"\n",
    "from qutree import *\n",
    "\n",
    "def V(x):\n",
    "    # p = [1, 2, 3, ...]\n",
    "    point = np.array(list(range(x.shape[0])))\n",
    "    return np.sum((x-point)**2)\n",
    "\n",
    "fmin_tt = []\n",
    "npoints_tt = []\n",
    "for i in range(10):\n",
    "    # objective = Objective(V)\n",
    "    objective = Objective(rosenbrock_function)\n",
    "\n",
    "    N, r, f, nsweeps, seed = 21, 15, 4, 3, 238141\n",
    "\n",
    "    # --- Pick a network structure: ---\n",
    "    G = tensor_train_graph(f, r, N)\n",
    "    fig = plot_tt_diagram(G)\n",
    "    # G = balanced_tree(f, r, N)\n",
    "    # fig = plot_tree(G)\n",
    "\n",
    "    # boundaries of primitive grid\n",
    "    primitive_grid = [np.linspace(0., 1., num = N)] * f\n",
    "\n",
    "    G_opt = ttnopt(G, objective, nsweeps, primitive_grid)\n",
    "\n",
    "    # Display output (can vary with random parameters)\n",
    "    vs = np.array([v for v in objective.cache.values()])\n",
    "    fmin_tt.append(np.min(vs))\n",
    "    npoints_tt.append(len(obj.cache))\n",
    "    # print(np.min(vs))\n",
    "    # print(objective.logger.df['f'].min())\n",
    "    # print(objective)\n",
    "    # display(objective.logger.df)\n",
    "\n",
    "print(fmin_tt)\n",
    "print(npoints_tt)"
   ]
  },
  {
   "cell_type": "code",
   "execution_count": 6,
   "metadata": {},
   "outputs": [
    {
     "name": "stdout",
     "output_type": "stream",
     "text": [
      "[21, 21, 21, 21, 21, 21, 21, 21, 21, 21]\n",
      "21.0\n",
      "[np.float64(0.2712499999999995), np.float64(0.2512499999999999), np.float64(0.6731250000000005), np.float64(0.0731249999999998), np.float64(0.24999999999999936), np.float64(0.0), np.float64(0.6512500000000006), np.float64(0.24625000000000058), np.float64(0.0), np.float64(0.2531249999999994)]\n",
      "0.26693749999999994\n"
     ]
    }
   ],
   "source": [
    "print(npoints_tt)\n",
    "print(np.mean(npoints_tt))\n",
    "print(fmin_tt)\n",
    "print(np.mean(fmin_tt))"
   ]
  }
 ],
 "metadata": {
  "kernelspec": {
   "display_name": "qutree",
   "language": "python",
   "name": "python3"
  },
  "language_info": {
   "codemirror_mode": {
    "name": "ipython",
    "version": 3
   },
   "file_extension": ".py",
   "mimetype": "text/x-python",
   "name": "python",
   "nbconvert_exporter": "python",
   "pygments_lexer": "ipython3",
   "version": "3.13.4"
  }
 },
 "nbformat": 4,
 "nbformat_minor": 2
}
