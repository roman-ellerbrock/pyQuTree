{
 "cells": [
  {
   "cell_type": "code",
   "execution_count": 119,
   "metadata": {},
   "outputs": [
    {
     "ename": "TypeError",
     "evalue": "tuple indices must be integers or slices, not list",
     "output_type": "error",
     "traceback": [
      "\u001b[0;31m---------------------------------------------------------------------------\u001b[0m",
      "\u001b[0;31mTypeError\u001b[0m                                 Traceback (most recent call last)",
      "Cell \u001b[0;32mIn[119], line 116\u001b[0m\n\u001b[1;32m    113\u001b[0m grid \u001b[38;5;241m=\u001b[39m Grid(xs, [\u001b[38;5;241m0\u001b[39m, \u001b[38;5;241m1\u001b[39m, \u001b[38;5;241m2\u001b[39m, \u001b[38;5;241m3\u001b[39m])\n\u001b[1;32m    115\u001b[0m model\u001b[38;5;241m.\u001b[39mdata(primitive_grid, r)\n\u001b[0;32m--> 116\u001b[0m grid \u001b[38;5;241m=\u001b[39m \u001b[43mmodel\u001b[49m\u001b[38;5;241;43m.\u001b[39;49m\u001b[43moptimize\u001b[49m\u001b[43m(\u001b[49m\u001b[43mgrid\u001b[49m\u001b[43m,\u001b[49m\u001b[43m \u001b[49m\u001b[43mobj\u001b[49m\u001b[43m,\u001b[49m\u001b[43m \u001b[49m\u001b[43mnsweep\u001b[49m\u001b[43m)\u001b[49m\n\u001b[1;32m    117\u001b[0m vs \u001b[38;5;241m=\u001b[39m np\u001b[38;5;241m.\u001b[39marray([v \u001b[38;5;28;01mfor\u001b[39;00m v \u001b[38;5;129;01min\u001b[39;00m obj\u001b[38;5;241m.\u001b[39mcache\u001b[38;5;241m.\u001b[39mvalues()])\n\u001b[1;32m    118\u001b[0m \u001b[38;5;66;03m# print(grid)\u001b[39;00m\n",
      "File \u001b[0;32m~/code/pyQuTree/qutree/optimization.py:15\u001b[0m, in \u001b[0;36mModel.optimize\u001b[0;34m(self, grid, function, n_epoch)\u001b[0m\n\u001b[1;32m     13\u001b[0m \u001b[38;5;28;01mdef\u001b[39;00m \u001b[38;5;21moptimize\u001b[39m(\u001b[38;5;28mself\u001b[39m, grid, function, n_epoch):\n\u001b[1;32m     14\u001b[0m     \u001b[38;5;28;01mfor\u001b[39;00m epoch \u001b[38;5;129;01min\u001b[39;00m \u001b[38;5;28mrange\u001b[39m(n_epoch):\n\u001b[0;32m---> 15\u001b[0m         grid \u001b[38;5;241m=\u001b[39m \u001b[38;5;28;43mself\u001b[39;49m\u001b[38;5;241;43m.\u001b[39;49m\u001b[43msweep\u001b[49m\u001b[43m(\u001b[49m\u001b[43mgrid\u001b[49m\u001b[43m,\u001b[49m\u001b[43m \u001b[49m\u001b[43mfunction\u001b[49m\u001b[43m,\u001b[49m\u001b[43m \u001b[49m\u001b[43mepoch\u001b[49m\u001b[43m)\u001b[49m\n\u001b[1;32m     16\u001b[0m     \u001b[38;5;28;01mreturn\u001b[39;00m grid\n",
      "Cell \u001b[0;32mIn[119], line 98\u001b[0m, in \u001b[0;36mStandardModel.sweep\u001b[0;34m(self, grid, function, epoch)\u001b[0m\n\u001b[1;32m     96\u001b[0m \u001b[38;5;28;01mif\u001b[39;00m k \u001b[38;5;241m>\u001b[39m \u001b[38;5;241m0\u001b[39m:\n\u001b[1;32m     97\u001b[0m     idcs \u001b[38;5;241m=\u001b[39m \u001b[38;5;28mlist\u001b[39m(\u001b[38;5;28mrange\u001b[39m(k))\n\u001b[0;32m---> 98\u001b[0m     ngrid \u001b[38;5;241m=\u001b[39m \u001b[43mrecombination\u001b[49m\u001b[43m(\u001b[49m\u001b[43mgrid\u001b[49m\u001b[43m,\u001b[49m\u001b[43m \u001b[49m\u001b[43midcs\u001b[49m\u001b[43m)\u001b[49m\n\u001b[1;32m     99\u001b[0m     grid \u001b[38;5;241m=\u001b[39m recombination_update(grid, idcs, function, r, epoch \u001b[38;5;241m=\u001b[39m epoch)\n\u001b[1;32m    100\u001b[0m \u001b[38;5;66;03m# grid = variation_update(grid, self.primitive_grid[k], function, r, epoch=epoch)\u001b[39;00m\n",
      "File \u001b[0;32m~/code/pyQuTree/qutree/optimization.py:50\u001b[0m, in \u001b[0;36mrecombination\u001b[0;34m(grid, idxs)\u001b[0m\n\u001b[1;32m     46\u001b[0m \u001b[38;5;28;01mdef\u001b[39;00m \u001b[38;5;21mrecombination\u001b[39m(grid, idxs):\n\u001b[1;32m     47\u001b[0m \u001b[38;5;250m    \u001b[39m\u001b[38;5;124;03m\"\"\"\u001b[39;00m\n\u001b[1;32m     48\u001b[0m \u001b[38;5;124;03m    recombine mutually exclusive grid components\u001b[39;00m\n\u001b[1;32m     49\u001b[0m \u001b[38;5;124;03m    \"\"\"\u001b[39;00m\n\u001b[0;32m---> 50\u001b[0m     a \u001b[38;5;241m=\u001b[39m \u001b[43mgrid\u001b[49m\u001b[43m[\u001b[49m\u001b[43midxs\u001b[49m\u001b[43m]\u001b[49m\n\u001b[1;32m     51\u001b[0m     b \u001b[38;5;241m=\u001b[39m grid[rest(idxs, grid)]\n\u001b[1;32m     52\u001b[0m     \u001b[38;5;28;01mreturn\u001b[39;00m cartesian_product([a, b])\u001b[38;5;241m.\u001b[39mpermute()\n",
      "\u001b[0;31mTypeError\u001b[0m: tuple indices must be integers or slices, not list"
     ]
    }
   ],
   "source": [
    "\"\"\"\n",
    "Optimization Networks Example\n",
    "\n",
    "The idea is to build optimization networks and structures in a similar fashion to\n",
    "networks used in machine learning for fitting tasks, etc.\n",
    "\"\"\"\n",
    "import qutree\n",
    "import importlib\n",
    "\n",
    "import qutree.optimization\n",
    "importlib.reload(qutree)\n",
    "importlib.reload(qutree.optimization)\n",
    "\n",
    "from qutree import Grid, Objective\n",
    "import numpy as np\n",
    "from qutree.optimization import Model, variation_update, recombination_update, evaluate_grid\n",
    "from qutree.optimization import create_mutations, recombination, maxvol_selection\n",
    "import random\n",
    "\n",
    "\n",
    "def V(x):\n",
    "    N = x.shape[0]\n",
    "    v = 0.\n",
    "    for i in range(N):\n",
    "        v += 0.5*(x[i]+1.5)**2 + x[i]*x[(i+1) % N]\n",
    "    return v\n",
    "\n",
    "\n",
    "def pot(x):\n",
    "    v = 0.\n",
    "    for i in range(0, x.shape[0]):\n",
    "        v += np.sin(np.pi*x[i]**2)/(x[i]**2+1e-7)\n",
    "    for i in range(0, x.shape[0]):\n",
    "        v+=np.sin(x[i]*x[i-1])\n",
    "    return v - 15.\n",
    "\n",
    "\n",
    "def rosenbrock_function(x):\n",
    "    return np.sum(100. * (x[1:] - x[:-1]**2)**2 + (1 - x[:-1])**2)\n",
    "\n",
    "\n",
    "N, r, f, nsweep = 21, 3, 4, 5\n",
    "# fun = ttopt_functions.brown\n",
    "# fun = pot\n",
    "fun = rosenbrock_function\n",
    "\n",
    "# xs = np.array([[-0.5, -0.5, -0.5, -0.5],\n",
    "#               [-1.5, -1.5,  1.5, -1.5],\n",
    "#               [ 0.0,  0.0,  0.0,  0.0]])\n",
    "\n",
    "\n",
    "# xs = np.array([[0.5, 0.9, 0.8, 0.1],\n",
    "#                [0.0, 0.0, 0.8, 0.8],\n",
    "#                [0.1, 0.1, 0.2, 0.3],\n",
    "#                [0.2, 0.3, 0.5, 0.5]])\n",
    "\n",
    "\n",
    "primitive_grid = []\n",
    "for k in range(f):\n",
    "    primitive_grid.append(Grid(np.linspace(0., 1., N, endpoint=True), [k]))\n",
    "    # primitive_grid.append(Grid(np.linspace(-4., 4., N), [k]))\n",
    "\n",
    "\n",
    "def random_points(primitive_grid, r):\n",
    "    x = []\n",
    "    for grid in primitive_grid:\n",
    "        g = grid.grid.reshape(-1)\n",
    "\n",
    "        subset = random.sample(list(g), r)\n",
    "        x.append(subset)\n",
    "    x = np.array(x).T\n",
    "    return x\n",
    "\n",
    "\n",
    "class SeparableModel(Model):\n",
    "\n",
    "    def data(self, primitive_grid, r):\n",
    "        self.primitive_grid = primitive_grid\n",
    "        self.r = r\n",
    "\n",
    "    def sweep(self, grid, function, epoch):\n",
    "        for k in range(f):\n",
    "            grid = variation_update(grid, self.primitive_grid[k], function, self.r, epoch = epoch)\n",
    "\n",
    "        return grid\n",
    "\n",
    "\n",
    "class StandardModel(Model):\n",
    "\n",
    "    def data(self, primitive_grid, r):\n",
    "        self.primitive_grid = primitive_grid\n",
    "        self.r = r\n",
    "\n",
    "    def sweep(self, grid, function, epoch):\n",
    "        for k in range(f):\n",
    "            if k > 0:\n",
    "                idcs = list(range(k))\n",
    "                ngrid = recombination(grid, idcs)\n",
    "                grid = recombination_update(grid, idcs, function, r, epoch = epoch)\n",
    "            # grid = variation_update(grid, self.primitive_grid[k], function, r, epoch=epoch)\n",
    "\n",
    "        return grid\n",
    "\n",
    "\n",
    "fmin_mt = []\n",
    "npoints_mt = []\n",
    "for i in range(1):\n",
    "    obj = Objective(fun)\n",
    "    # model = SeparableModel()\n",
    "    model = StandardModel()\n",
    "\n",
    "    xs = random_points(primitive_grid, r)\n",
    "    grid = Grid(xs, [0, 1, 2, 3])\n",
    "\n",
    "    model.data(primitive_grid, r)\n",
    "    grid = model.optimize(grid, obj, nsweep)\n",
    "    vs = np.array([v for v in obj.cache.values()])\n",
    "    # print(grid)\n",
    "    fmin_mt.append(np.min(vs))\n",
    "    npoints_mt.append(len(obj.cache))\n",
    "\n",
    "    # print(obj)\n",
    "    # print(obj.logger.df)\n",
    "\n",
    "print(npoints_mt)\n",
    "print(np.mean(npoints_mt))\n",
    "print(fmin_mt)\n",
    "print(np.mean(fmin_mt))"
   ]
  },
  {
   "cell_type": "code",
   "execution_count": 111,
   "metadata": {},
   "outputs": [
    {
     "name": "stdout",
     "output_type": "stream",
     "text": [
      "[2055, 2035, 2033, 1814, 1773, 1774, 1994, 1759, 2014, 1815, 1735, 2000, 2052, 2035, 1493, 1835, 1779, 1737, 1719, 1811, 1752, 1812, 2041, 2015, 2090, 2034, 1795, 2032, 2034, 1754, 2013, 1974, 1754, 2033, 1774, 1533, 1774, 2075, 2054, 1753, 2019, 2075, 1753, 1519, 1754, 1713, 2013, 1674, 1777, 1754, 2073, 1733, 1513, 2055, 1756, 2040, 1794, 2013, 2000, 1817, 1491, 1713, 2074, 2034, 1775, 1758, 1513, 2095, 2017, 2001, 2035, 1791, 2055, 2035, 2034, 2075, 1780, 1517, 1775, 2035, 2034, 2033, 1777, 1999, 2052, 1797, 1753, 1754, 1515, 2015, 1765, 1790, 2040, 1815, 2073, 1993, 1775, 1511, 1775, 2040]\n",
      "1871.12\n",
      "[np.float64(0.4231249999999993), np.float64(0.0731249999999998), np.float64(0.24312499999999987), np.float64(0.8712500000000005), np.float64(0.7812499999999998), np.float64(0.39000000000000035), np.float64(0.49312500000000126), np.float64(0.4512500000000006), np.float64(0.24625000000000058), np.float64(0.39000000000000035), np.float64(0.5762500000000014), np.float64(0.2681249999999996), np.float64(0.45125), np.float64(0.5399999999999996), np.float64(0.8712500000000005), np.float64(0.7812499999999998), np.float64(0.721250000000002), np.float64(0.8712500000000005), np.float64(0.7812499999999998), np.float64(0.7812499999999998), np.float64(0.8712500000000005), np.float64(0.4231250000000001), np.float64(0.39000000000000035), np.float64(0.7181249999999999), np.float64(0.7431249999999996), np.float64(0.24625000000000058), np.float64(0.2681249999999996), np.float64(0.45125), np.float64(0.39000000000000035), np.float64(0.4231250000000001), np.float64(0.2512499999999999), np.float64(0.34312500000000035), np.float64(0.8712500000000005), np.float64(0.7431249999999996), np.float64(0.0731249999999998), np.float64(0.8431250000000003), np.float64(0.8712500000000005), np.float64(0.379374999999999), np.float64(0.7812499999999998), np.float64(0.8712500000000005), np.float64(0.379374999999999), np.float64(0.5399999999999996), np.float64(0.379374999999999), np.float64(0.8712500000000005), np.float64(0.24312499999999987), np.float64(0.2512499999999999), np.float64(0.8462499999999984), np.float64(0.379374999999999), np.float64(0.7812499999999998), np.float64(0.5399999999999996), np.float64(0.379374999999999), np.float64(0.2512499999999999), np.float64(0.8712500000000005), np.float64(0.2681249999999996), np.float64(0.7431249999999996), np.float64(0.4231250000000001), np.float64(0.0731249999999998), np.float64(0.24312499999999987), np.float64(0.9162500000000018), np.float64(0.379374999999999), np.float64(0.8712500000000005), np.float64(0.379374999999999), np.float64(0.24625000000000058), np.float64(0.2681249999999996), np.float64(0.34624999999999934), np.float64(0.7812499999999998), np.float64(0.9281249999999998), np.float64(0.379374999999999), np.float64(0.5931249999999999), np.float64(0.7499999999999991), np.float64(0.4231250000000001), np.float64(0.8712500000000005), np.float64(0.34312500000000035), np.float64(0.4712499999999999), np.float64(0.4231250000000001), np.float64(0.379374999999999), np.float64(0.2681249999999996), np.float64(0.379374999999999), np.float64(0.5512499999999996), np.float64(0.4231250000000001), np.float64(0.9162500000000018), np.float64(0.45125), np.float64(0.379374999999999), np.float64(0.2681249999999996), np.float64(0.5512499999999996), np.float64(0.379374999999999), np.float64(0.2231250000000003), np.float64(0.5399999999999996), np.float64(0.893125), np.float64(0.8462499999999984), np.float64(0.2531249999999994), np.float64(0.7499999999999991), np.float64(0.2681249999999996), np.float64(0.4712499999999999), np.float64(0.39000000000000035), np.float64(0.7499999999999991), np.float64(0.4231250000000001), np.float64(0.7762499999999996), np.float64(0.6512500000000006), np.float64(0.24625000000000058)]\n",
      "0.5222124999999999\n"
     ]
    }
   ],
   "source": [
    "print(npoints_mt)\n",
    "print(np.mean(npoints_mt))\n",
    "print(fmin_mt)\n",
    "print(np.mean(fmin_mt))"
   ]
  },
  {
   "cell_type": "code",
   "execution_count": 104,
   "metadata": {},
   "outputs": [
    {
     "name": "stdout",
     "output_type": "stream",
     "text": [
      "[1513, 2035, 2052, 2014, 2035, 2034, 2034, 1714, 2033, 2052, 2075, 1793, 1773, 1512, 2015, 2035, 2055, 1792, 2014, 1513, 2035, 1555, 2033, 1755, 1754, 1759, 1765, 1780, 2052, 1778, 1810, 1754, 1792, 1557, 1857, 1518, 1775, 1739, 2032, 2020, 1773, 1796, 1775, 1752, 2055, 1775, 2038, 1792, 1752, 2014, 1797, 1754, 1771, 1753, 2073, 1813, 2035, 1773, 2055, 1774, 2074, 2073, 1489, 2032, 2093, 2053, 1815, 1734, 1734, 1755, 1775, 2035, 2075, 2094, 1775, 1817, 1797, 1473, 1794, 2035, 1726, 1513, 1791, 2001, 1735, 1800, 1793, 1756, 1534, 1773, 2075, 1794, 1754, 1813, 2091, 1775, 1751, 1754, 2055, 2074]\n",
      "1852.13\n",
      "[np.float64(0.2681249999999996), np.float64(0.39000000000000035), np.float64(0.24312499999999987), np.float64(0.34312500000000035), np.float64(0.24312499999999987), np.float64(0.7181249999999999), np.float64(0.2512499999999999), np.float64(0.379374999999999), np.float64(0.39000000000000035), np.float64(0.5199999999999991), np.float64(0.0731249999999998), np.float64(0.39000000000000035), np.float64(0.8431250000000003), np.float64(0.7812499999999998), np.float64(0.6262500000000011), np.float64(0.34312500000000035), np.float64(0.34312500000000035), np.float64(0.7812499999999998), np.float64(0.4231250000000001), np.float64(0.8712500000000005), np.float64(0.7812499999999998), np.float64(0.7812499999999998), np.float64(0.45125), np.float64(0.6262500000000011), np.float64(0.7812499999999998), np.float64(0.7431249999999996), np.float64(0.2681249999999996), np.float64(0.379374999999999), np.float64(0.34312500000000035), np.float64(0.7812499999999998), np.float64(0.8712500000000005), np.float64(0.7812499999999998), np.float64(0.5512499999999996), np.float64(0.4231250000000001), np.float64(0.379374999999999), np.float64(0.8712500000000005), np.float64(0.4231250000000001), np.float64(0.7812499999999998), np.float64(0.5199999999999991), np.float64(0.34312500000000035), np.float64(0.8431250000000003), np.float64(0.7812499999999998), np.float64(0.379374999999999), np.float64(0.379374999999999), np.float64(0.4231250000000001), np.float64(0.5512499999999996), np.float64(0.2681249999999996), np.float64(0.8712500000000005), np.float64(0.8712500000000005), np.float64(0.24625000000000058), np.float64(0.379374999999999), np.float64(0.39000000000000035), np.float64(0.4231250000000001), np.float64(0.8431250000000003), np.float64(0.2681249999999996), np.float64(0.5931249999999999), np.float64(0.2231250000000003), np.float64(0.8712500000000005), np.float64(0.4231250000000001), np.float64(0.7812499999999998), np.float64(0.0731249999999998), np.float64(0.2512499999999999), np.float64(0.9281249999999998), np.float64(0.24312499999999987), np.float64(0.24312499999999987), np.float64(0.4231250000000001), np.float64(0.379374999999999), np.float64(0.8712499999999981), np.float64(0.2681249999999996), np.float64(0.2681249999999996), np.float64(0.2681249999999996), np.float64(0.34312500000000035), np.float64(0.4231250000000001), np.float64(0.379374999999999), np.float64(0.4231250000000001), np.float64(0.6512500000000006), np.float64(0.7812499999999998), np.float64(0.7812499999999998), np.float64(0.2681249999999996), np.float64(0.34312500000000035), np.float64(0.2681249999999996), np.float64(0.8712500000000005), np.float64(0.7812499999999998), np.float64(0.34624999999999934), np.float64(0.24312499999999987), np.float64(0.2681249999999996), np.float64(0.5512499999999996), np.float64(0.7812499999999998), np.float64(0.8712500000000005), np.float64(0.7812499999999998), np.float64(0.4231250000000001), np.float64(0.4231250000000001), np.float64(0.7812499999999998), np.float64(0.4231250000000001), np.float64(0.7431249999999996), np.float64(0.39000000000000035), np.float64(0.5931249999999999), np.float64(0.8712499999999981), np.float64(0.34624999999999934), np.float64(0.2681249999999996)]\n",
      "0.5154937499999999\n"
     ]
    }
   ],
   "source": [
    "print(npoints_mt)\n",
    "print(np.mean(npoints_mt))\n",
    "print(fmin_mt)\n",
    "print(np.mean(fmin_mt))"
   ]
  },
  {
   "cell_type": "code",
   "execution_count": 80,
   "metadata": {},
   "outputs": [],
   "source": [
    "\n",
    "class TTOpt(Model):\n",
    "\n",
    "    def data(self, primitive_grid, r):\n",
    "        self.primitive_grid = primitive_grid\n",
    "        self.r = r\n",
    "\n",
    "    def sweep(self, grid, function, epoch):\n",
    "        for k in range(f):\n",
    "            grid = create_mutations(grid, self.primitive_grid[k])\n",
    "            if k > 0:\n",
    "                idcs = list(range(k))\n",
    "                ngrid = recombination_update(grid, idcs)\n",
    "            ngrid, _ = maxvol_selection(ngrid, function, grid.num_points(), epoch = epoch)\n",
    "\n"
   ]
  },
  {
   "cell_type": "code",
   "execution_count": 105,
   "metadata": {},
   "outputs": [
    {
     "name": "stdout",
     "output_type": "stream",
     "text": [
      "[np.float64(0.604374999999999), np.float64(0.5281249999999993), np.float64(0.24999999999999936), np.float64(0.24999999999999936), np.float64(0.5281249999999993), np.float64(0.40125000000000016), np.float64(0.34312500000000035), np.float64(0.2531249999999994), np.float64(0.673125), np.float64(1.4199999999999988)]\n",
      "[2074, 2074, 2074, 2074, 2074, 2074, 2074, 2074, 2074, 2074]\n"
     ]
    },
    {
     "data": {
      "image/png": "[encoded data removed]",
      "text/plain": [
       "<Figure size 640x480 with 1 Axes>"
      ]
     },
     "metadata": {},
     "output_type": "display_data"
    }
   ],
   "source": [
    "\"\"\"\n",
    "Minimal example: optimize 3D V(x) with tensor train.\n",
    "See next cell for balanced tree and how to provide starting points.\n",
    "\"\"\"\n",
    "from qutree import *\n",
    "\n",
    "def V(x):\n",
    "    # p = [1, 2, 3, ...]\n",
    "    point = np.array(list(range(x.shape[0])))\n",
    "    return np.sum((x-point)**2)\n",
    "\n",
    "fmin_tt = []\n",
    "npoints_tt = []\n",
    "for i in range(10):\n",
    "    # objective = Objective(V)\n",
    "    objective = Objective(rosenbrock_function)\n",
    "\n",
    "    N, r, f, nsweeps, seed = 21, 15, 4, 3, 238141\n",
    "\n",
    "    # --- Pick a network structure: ---\n",
    "    G = tensor_train_graph(f, r, N)\n",
    "    fig = plot_tt_diagram(G)\n",
    "    # G = balanced_tree(f, r, N)\n",
    "    # fig = plot_tree(G)\n",
    "\n",
    "    # boundaries of primitive grid\n",
    "    primitive_grid = [np.linspace(0., 1., num = N)] * f\n",
    "\n",
    "    G_opt = ttnopt(G, objective, nsweeps, primitive_grid)\n",
    "\n",
    "    # Display output (can vary with random parameters)\n",
    "    vs = np.array([v for v in objective.cache.values()])\n",
    "    fmin_tt.append(np.min(vs))\n",
    "    npoints_tt.append(len(obj.cache))\n",
    "    # print(np.min(vs))\n",
    "    # print(objective.logger.df['f'].min())\n",
    "    # print(objective)\n",
    "    # display(objective.logger.df)\n",
    "\n",
    "print(fmin_tt)\n",
    "print(npoints_tt)"
   ]
  },
  {
   "cell_type": "code",
   "execution_count": 106,
   "metadata": {},
   "outputs": [
    {
     "name": "stdout",
     "output_type": "stream",
     "text": [
      "[2074, 2074, 2074, 2074, 2074, 2074, 2074, 2074, 2074, 2074]\n",
      "2074.0\n",
      "[np.float64(0.604374999999999), np.float64(0.5281249999999993), np.float64(0.24999999999999936), np.float64(0.24999999999999936), np.float64(0.5281249999999993), np.float64(0.40125000000000016), np.float64(0.34312500000000035), np.float64(0.2531249999999994), np.float64(0.673125), np.float64(1.4199999999999988)]\n",
      "0.5251249999999995\n"
     ]
    }
   ],
   "source": [
    "print(npoints_tt)\n",
    "print(np.mean(npoints_tt))\n",
    "print(fmin_tt)\n",
    "print(np.mean(fmin_tt))"
   ]
  }
 ],
 "metadata": {
  "kernelspec": {
   "display_name": "qutree",
   "language": "python",
   "name": "python3"
  },
  "language_info": {
   "codemirror_mode": {
    "name": "ipython",
    "version": 3
   },
   "file_extension": ".py",
   "mimetype": "text/x-python",
   "name": "python",
   "nbconvert_exporter": "python",
   "pygments_lexer": "ipython3",
   "version": "3.13.0"
  }
 },
 "nbformat": 4,
 "nbformat_minor": 2
}
