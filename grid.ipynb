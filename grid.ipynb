{
 "cells": [
  {
   "cell_type": "markdown",
   "metadata": {},
   "source": [
    "### Grid usage examples\n",
    "\n",
    "This jupyter notebook quickly goes through the basic usage of the grid classes.\n",
    "There is an integer grid that basically represents combinations of integers and knows which formal coordinate it\n",
    "corresponds to. Then, there is a float-grid that knows how to translate the integer points to floats\n"
   ]
  },
  {
   "cell_type": "code",
   "execution_count": null,
   "metadata": {},
   "outputs": [
    {
     "name": "stdout",
     "output_type": "stream",
     "text": [
      "1D grid:\n",
      " coords: [1]\n",
      "grid:\n",
      "[[0]\n",
      " [1]\n",
      " [2]\n",
      " [3]\n",
      " [4]\n",
      " [5]\n",
      " [6]\n",
      " [7]\n",
      " [8]\n",
      " [9]]\n",
      "2D grid 1:\n",
      " coords: [2 1]\n",
      "grid:\n",
      "[[0 1]\n",
      " [1 2]\n",
      " [2 3]]\n",
      "2D grid 2:\n",
      " coords: [3 0]\n",
      "grid:\n",
      "[[4 5]\n",
      " [5 6]\n",
      " [6 7]]\n"
     ]
    }
   ],
   "source": [
    "from qutree import *\n",
    "import numpy as np\n",
    "\n",
    "# create a 1D grid\n",
    "grid1d = Grid(range(10), 1)\n",
    "print(\"1D grid:\\n\", grid1d)\n",
    "\n",
    "# manually create two 2D grids\n",
    "grid1 = Grid(np.array([[0, 1], [1, 2], [2, 3]]), [2, 1])\n",
    "grid2 = Grid(np.array([[4, 5], [5, 6], [6, 7]]), [3, 0])\n",
    "\n",
    "print(\"2D grid 1:\\n\", grid1)\n",
    "print(\"2D grid 2:\\n\", grid2)"
   ]
  },
  {
   "cell_type": "code",
   "execution_count": null,
   "metadata": {},
   "outputs": [
    {
     "name": "stdout",
     "output_type": "stream",
     "text": [
      "4D grid:\n",
      " coords: [2 1 3 0]\n",
      "grid:\n",
      "[[0 1 4 5]\n",
      " [0 1 5 6]\n",
      " [0 1 6 7]\n",
      " [1 2 4 5]\n",
      " [1 2 5 6]\n",
      " [1 2 6 7]\n",
      " [2 3 4 5]\n",
      " [2 3 5 6]\n",
      " [2 3 6 7]]\n",
      "coords: [0 1 2 3]\n",
      "grid:\n",
      "[[5 1 0 4]\n",
      " [6 1 0 5]\n",
      " [7 1 0 6]\n",
      " [5 2 1 4]\n",
      " [6 2 1 5]\n",
      " [7 2 1 6]\n",
      " [5 3 2 4]\n",
      " [6 3 2 5]\n",
      " [7 3 2 6]]\n",
      "coords: [2 1 3 0]\n",
      "grid:\n",
      "[[0 1 4 5]\n",
      " [0 1 5 6]\n",
      " [0 1 6 7]\n",
      " [1 2 4 5]\n",
      " [1 2 5 6]\n",
      " [1 2 6 7]\n",
      " [2 3 4 5]\n",
      " [2 3 5 6]\n",
      " [2 3 6 7]]\n"
     ]
    }
   ],
   "source": [
    "# Cartesian product of the two 2D grids:\n",
    "# combine the two 2D grids into a 4D grid\n",
    "grid12 = grid1 @ grid2\n",
    "print(\"4D grid:\\n\", grid12)\n",
    "\n",
    "# the coordinates are permuted, let's resort them\n",
    "grid12 = grid12.permute()\n",
    "print(grid12)\n",
    "\n",
    "# ... and back again\n",
    "grid12 = grid12.permute()\n",
    "print(grid12)"
   ]
  },
  {
   "cell_type": "code",
   "execution_count": null,
   "metadata": {},
   "outputs": [
    {
     "name": "stdout",
     "output_type": "stream",
     "text": [
      "(27, 6)\n",
      "coords: [2 1 3 0 4 5]\n",
      "grid:\n",
      "[[ 2  3  6  7  8  9]\n",
      " [ 1  2  4  5  8  9]\n",
      " [ 1  2  6  7 10 11]\n",
      " [ 1  2  5  6  8  9]\n",
      " [ 2  3  6  7 10 11]\n",
      " [ 0  1  4  5  8  9]\n",
      " [ 2  3  5  6 10 11]\n",
      " [ 0  1  5  6 10 11]\n",
      " [ 2  3  4  5  9 10]\n",
      " [ 1  2  5  6 10 11]]\n"
     ]
    }
   ],
   "source": [
    "# now a more complex combination of multple grids\n",
    "grid1 = Grid(np.array([[0, 1], [1, 2], [2, 3]]), [2, 1])\n",
    "grid2 = Grid(np.array([[4, 5], [5, 6], [6, 7]]), [3, 0])\n",
    "grid3 = Grid(np.array([[8, 9], [9, 10], [10, 11]]), [4, 5])\n",
    "grids = [grid1, grid2, grid3]\n",
    "\n",
    "# combine the three 2D grids into a 6D grid\n",
    "grid123 = cartesian_product(grids)\n",
    "print(grid123.grid.shape)\n",
    "\n",
    "# those are too many grid points.. let's get a random selection of 10 high dimensional points\n",
    "print(grid123.random_subset(10))"
   ]
  },
  {
   "cell_type": "code",
   "execution_count": null,
   "metadata": {},
   "outputs": [
    {
     "name": "stdout",
     "output_type": "stream",
     "text": [
      "coords: [0 1]\n",
      "grid:\n",
      "[[ 0.66666667  0.        ]\n",
      " [ 1.          0.        ]\n",
      " [ 0.         -0.57142857]\n",
      " [ 0.33333333 -0.57142857]\n",
      " [ 0.33333333  0.        ]\n",
      " [ 0.33333333 -0.14285714]\n",
      " [ 0.88888889 -0.28571429]\n",
      " [ 0.66666667 -0.28571429]\n",
      " [ 0.44444444 -0.42857143]\n",
      " [ 0.44444444  0.42857143]]\n",
      "[0.44444444 1.         0.32653061 0.43764172 0.11111111 0.13151927\n",
      " 0.87175611 0.5260771  0.38120433 0.38120433]\n"
     ]
    }
   ],
   "source": [
    "# Now to floatgrids!\n",
    "# something like [0.1, 0.2, ...]\n",
    "\n",
    "# just needs a generator and a coordinate\n",
    "fgrid1 = Grid(np.linspace(0., 1., 10), 0)\n",
    "fgrid2 = Grid(np.linspace(-1., 1, 15), 1)\n",
    "\n",
    "# combine\n",
    "subgrid = (fgrid1 @ fgrid2).random_subset(10)\n",
    "print(subgrid)\n",
    "\n",
    "# How can we evaluate a function on this grid?\n",
    "def fun(x):\n",
    "    \"\"\"\n",
    "    Function that evaluates grid point.\n",
    "    E.g. objective function in optimization.\n",
    "    \"\"\"\n",
    "    return np.sum(x**2)\n",
    "\n",
    "print(subgrid.evaluate(fun))"
   ]
  },
  {
   "cell_type": "code",
   "execution_count": null,
   "metadata": {},
   "outputs": [
    {
     "name": "stdout",
     "output_type": "stream",
     "text": [
      "[0.25   1.     0.8125 0.5    1.0625 0.5625 1.25   1.5625 0.625  0.    ]\n"
     ]
    }
   ],
   "source": [
    "def fun(x):\n",
    "    return np.sum(x**2)\n",
    "\n",
    "grid1 = Grid(np.linspace(0., 1., 5), 0)\n",
    "grid2 = Grid(np.linspace(0., 1., 5), 1)\n",
    "grid12 = grid1 @ grid2\n",
    "grid12 = grid12.random_subset(10)\n",
    "f_grid = grid12.evaluate(fun)\n",
    "print(f_grid)"
   ]
  },
  {
   "cell_type": "code",
   "execution_count": null,
   "metadata": {},
   "outputs": [
    {
     "name": "stdout",
     "output_type": "stream",
     "text": [
      "coords: [0 1 2]\n",
      "grid:\n",
      "[[0.77777778 0.88888889 0.77777778]\n",
      " [0.22222222 0.33333333 0.55555556]\n",
      " [0.77777778 0.88888889 0.        ]\n",
      " [0.66666667 0.44444444 0.22222222]\n",
      " [0.44444444 1.         0.77777778]\n",
      " [0.66666667 0.44444444 0.88888889]\n",
      " [1.         0.44444444 0.33333333]\n",
      " [1.         0.44444444 0.22222222]\n",
      " [0.22222222 0.44444444 0.44444444]\n",
      " [0.77777778 0.88888889 0.66666667]]\n"
     ]
    }
   ],
   "source": [
    "N = 10 # primitive grid size\n",
    "r = 2\n",
    "grids = [Grid(np.linspace(0., 1., N), i) for i in range(3)]\n",
    "xy = (grids[0] @ grids[1]).random_subset(10)\n",
    "z = grids[2]\n",
    "print((xy @ z).random_subset(10))"
   ]
  },
  {
   "cell_type": "code",
   "execution_count": null,
   "metadata": {},
   "outputs": [
    {
     "name": "stderr",
     "output_type": "stream",
     "text": [
      "/var/folders/01/c_1q1nmd6xj9htpk8cfsr_vc0000gn/T/ipykernel_33731/378480049.py:7: DeprecationWarning: nx.nx_pydot.graphviz_layout depends on the pydot package, which has known issues and is not actively maintained. Consider using nx.nx_agraph.graphviz_layout instead.\n",
      "\n",
      "See https://github.com/networkx/networkx/issues/5723\n",
      "  pos = graphviz_layout(G, prog=\"twopi\")\n"
     ]
    },
    {
     "data": {
      "image/png": "[encoded data removed]",
      "text/plain": [
       "<Figure size 640x480 with 1 Axes>"
      ]
     },
     "metadata": {},
     "output_type": "display_data"
    }
   ],
   "source": [
    "import networkx as nx\n",
    "import matplotlib.pyplot as plt\n",
    "from networkx.drawing.nx_pydot import graphviz_layout\n",
    "\n",
    "G = nx.DiGraph()\n",
    "G.add_edges_from([(1, 11), (2, 12), (3, 13), (1, 0), (2, 0), (3, 0)])\n",
    "pos = graphviz_layout(G, prog=\"twopi\")\n",
    "labels = {11: \"x\", 12: \"y\", 13: \"z\", 0: \"L\", 1: \"A\", 2: \"B\", 3: \"C\"}\n",
    "node_colors = {11: 'grey', 12: 'grey', 13: 'grey', 0: 'red', 1: 'blue', 2: 'green', 3: 'orange'}\n",
    "nx.draw(G, pos = pos,\n",
    "        with_labels=True, labels = labels,\n",
    "        node_color = [node_colors[n] for n in G.nodes],\n",
    "        node_size = 500,\n",
    "        )\n",
    "plt.draw() "
   ]
  },
  {
   "cell_type": "code",
   "execution_count": null,
   "metadata": {},
   "outputs": [],
   "source": []
  },
  {
   "cell_type": "code",
   "execution_count": null,
   "metadata": {},
   "outputs": [
    {
     "data": {
      "application/vnd.plotly.v1+json": {
       "config": {
        "plotlyServerURL": "https://plot.ly"
       },
       "data": [
        {
         "marker": {
          "color": [
           0.9234693877551019,
           1.1887755102040816,
           0.18877551020408162,
           1.5357142857142856,
           1.8010204081632653,
           0.8010204081632653,
           1.1683673469387754,
           1.433673469387755,
           0.4336734693877551,
           0.9897959183673468,
           1.2551020408163265,
           0.25510204081632654,
           1.6020408163265305,
           1.8673469387755102,
           0.8673469387755102,
           1.2346938775510203,
           1.5,
           0.5,
           0.8673469387755102,
           1.1326530612244898,
           0.13265306122448978,
           1.4795918367346936,
           1.7448979591836733,
           0.7448979591836734,
           1.1122448979591835,
           1.3775510204081631,
           0.37755102040816324,
           1.3520408163265305,
           0.25,
           0.7397959183673468,
           1.357142857142857,
           0.25510204081632654,
           0.7448979591836734,
           1.3724489795918366,
           0.27040816326530615,
           0.760204081632653,
           1.3979591836734693,
           0.29591836734693877,
           0.7857142857142856,
           1.433673469387755,
           0.33163265306122447,
           0.8214285714285714,
           1.4795918367346936,
           0.37755102040816324,
           0.8673469387755102,
           1.5357142857142856,
           0.4336734693877551,
           0.9234693877551019,
           1.6020408163265305,
           0.5,
           0.9897959183673468,
           1.6785714285714284,
           0.5765306122448979,
           1.066326530612245,
           1.7653061224489794,
           0.6632653061224489,
           1.1530612244897958,
           1.8622448979591835,
           0.760204081632653,
           1.2499999999999998,
           1.9693877551020407,
           0.8673469387755102,
           1.357142857142857,
           2.086734693877551,
           0.9846938775510203,
           1.4744897959183672,
           2.214285714285714,
           1.1122448979591835,
           1.6020408163265305,
           2.3520408163265305,
           1.25,
           1.7397959183673468,
           0.25,
           1.1275510204081631,
           0.9183673469387754,
           0.25510204081632654,
           1.1326530612244898,
           0.9234693877551019,
           0.27040816326530615,
           1.1479591836734693,
           0.9387755102040816,
           0.29591836734693877,
           1.1734693877551021,
           0.9642857142857142,
           0.33163265306122447,
           1.2091836734693877,
           0.9999999999999999,
           0.37755102040816324,
           1.2551020408163265,
           1.0459183673469385,
           0.4336734693877551,
           1.3112244897959182,
           1.1020408163265305,
           0.5,
           1.3775510204081631,
           1.1683673469387754,
           0.5765306122448979,
           1.4540816326530612,
           1.2448979591836733,
           0.6632653061224489,
           1.540816326530612,
           1.3316326530612244,
           0.760204081632653,
           1.637755102040816,
           1.4285714285714284,
           0.8673469387755102,
           1.7448979591836733,
           1.5357142857142856,
           0.9846938775510203,
           1.8622448979591835,
           1.6530612244897958,
           1.1122448979591835,
           1.9897959183673468,
           1.7806122448979589,
           1.25,
           2.127551020408163,
           1.9183673469387754,
           0.8673469387755102,
           0.13265306122448978,
           0.8010204081632653,
           0.8724489795918366,
           0.1377551020408163,
           0.8061224489795917,
           0.8877551020408163,
           0.1530612244897959,
           0.8214285714285714,
           0.9132653061224489,
           0.17857142857142855,
           0.846938775510204,
           0.9489795918367346,
           0.21428571428571425,
           0.8826530612244897,
           0.9948979591836734,
           0.260204081632653,
           0.9285714285714285,
           1.0510204081632653,
           0.31632653061224486,
           0.9846938775510203,
           1.1173469387755102,
           0.3826530612244898,
           1.0510204081632653,
           1.193877551020408,
           0.4591836734693877,
           1.1275510204081631,
           1.280612244897959,
           0.5459183673469387,
           1.2142857142857142,
           1.3775510204081631,
           0.6428571428571428,
           1.3112244897959182,
           1.4846938775510203,
           0.75,
           1.4183673469387754,
           1.6020408163265305,
           0.8673469387755102,
           1.5357142857142856,
           1.7295918367346936,
           0.9948979591836733,
           1.6632653061224487,
           1.8673469387755102,
           1.1326530612244898,
           1.8010204081632653
          ],
          "colorbar": {
           "title": {
            "text": "Function Value"
           }
          },
          "colorscale": [
           [
            0,
            "#440154"
           ],
           [
            0.1111111111111111,
            "#482878"
           ],
           [
            0.2222222222222222,
            "#3e4989"
           ],
           [
            0.3333333333333333,
            "#31688e"
           ],
           [
            0.4444444444444444,
            "#26828e"
           ],
           [
            0.5555555555555556,
            "#1f9e89"
           ],
           [
            0.6666666666666666,
            "#35b779"
           ],
           [
            0.7777777777777778,
            "#6ece58"
           ],
           [
            0.8888888888888888,
            "#b5de2b"
           ],
           [
            1,
            "#fde725"
           ]
          ],
          "size": 5
         },
         "mode": "markers",
         "type": "scatter3d",
         "x": [
          0.42857142857142855,
          0.42857142857142855,
          0.42857142857142855,
          0.42857142857142855,
          0.42857142857142855,
          0.42857142857142855,
          0.42857142857142855,
          0.42857142857142855,
          0.42857142857142855,
          0.5,
          0.5,
          0.5,
          0.5,
          0.5,
          0.5,
          0.5,
          0.5,
          0.5,
          0.3571428571428571,
          0.3571428571428571,
          0.3571428571428571,
          0.3571428571428571,
          0.3571428571428571,
          0.3571428571428571,
          0.3571428571428571,
          0.3571428571428571,
          0.3571428571428571,
          0,
          0,
          0,
          0.07142857142857142,
          0.07142857142857142,
          0.07142857142857142,
          0.14285714285714285,
          0.14285714285714285,
          0.14285714285714285,
          0.21428571428571427,
          0.21428571428571427,
          0.21428571428571427,
          0.2857142857142857,
          0.2857142857142857,
          0.2857142857142857,
          0.3571428571428571,
          0.3571428571428571,
          0.3571428571428571,
          0.42857142857142855,
          0.42857142857142855,
          0.42857142857142855,
          0.5,
          0.5,
          0.5,
          0.5714285714285714,
          0.5714285714285714,
          0.5714285714285714,
          0.6428571428571428,
          0.6428571428571428,
          0.6428571428571428,
          0.7142857142857142,
          0.7142857142857142,
          0.7142857142857142,
          0.7857142857142857,
          0.7857142857142857,
          0.7857142857142857,
          0.8571428571428571,
          0.8571428571428571,
          0.8571428571428571,
          0.9285714285714285,
          0.9285714285714285,
          0.9285714285714285,
          1,
          1,
          1,
          0.5,
          0.3571428571428571,
          0.42857142857142855,
          0.5,
          0.3571428571428571,
          0.42857142857142855,
          0.5,
          0.3571428571428571,
          0.42857142857142855,
          0.5,
          0.3571428571428571,
          0.42857142857142855,
          0.5,
          0.3571428571428571,
          0.42857142857142855,
          0.5,
          0.3571428571428571,
          0.42857142857142855,
          0.5,
          0.3571428571428571,
          0.42857142857142855,
          0.5,
          0.3571428571428571,
          0.42857142857142855,
          0.5,
          0.3571428571428571,
          0.42857142857142855,
          0.5,
          0.3571428571428571,
          0.42857142857142855,
          0.5,
          0.3571428571428571,
          0.42857142857142855,
          0.5,
          0.3571428571428571,
          0.42857142857142855,
          0.5,
          0.3571428571428571,
          0.42857142857142855,
          0.5,
          0.3571428571428571,
          0.42857142857142855,
          0.5,
          0.3571428571428571,
          0.42857142857142855,
          0.5,
          0.3571428571428571,
          0.42857142857142855,
          0.5,
          0.3571428571428571,
          0.42857142857142855,
          0.5,
          0.3571428571428571,
          0.42857142857142855,
          0.5,
          0.3571428571428571,
          0.42857142857142855,
          0.5,
          0.3571428571428571,
          0.42857142857142855,
          0.5,
          0.3571428571428571,
          0.42857142857142855,
          0.5,
          0.3571428571428571,
          0.42857142857142855,
          0.5,
          0.3571428571428571,
          0.42857142857142855,
          0.5,
          0.3571428571428571,
          0.42857142857142855,
          0.5,
          0.3571428571428571,
          0.42857142857142855,
          0.5,
          0.3571428571428571,
          0.42857142857142855,
          0.5,
          0.3571428571428571,
          0.42857142857142855,
          0.5,
          0.3571428571428571,
          0.42857142857142855,
          0.5,
          0.3571428571428571,
          0.42857142857142855,
          0.5,
          0.3571428571428571,
          0.42857142857142855
         ],
         "y": [
          0.07142857142857142,
          0.07142857142857142,
          0.07142857142857142,
          0.7857142857142857,
          0.7857142857142857,
          0.7857142857142857,
          0.5,
          0.5,
          0.5,
          0.07142857142857142,
          0.07142857142857142,
          0.07142857142857142,
          0.7857142857142857,
          0.7857142857142857,
          0.7857142857142857,
          0.5,
          0.5,
          0.5,
          0.07142857142857142,
          0.07142857142857142,
          0.07142857142857142,
          0.7857142857142857,
          0.7857142857142857,
          0.7857142857142857,
          0.5,
          0.5,
          0.5,
          0.7857142857142857,
          0.5,
          0.07142857142857142,
          0.7857142857142857,
          0.5,
          0.07142857142857142,
          0.7857142857142857,
          0.5,
          0.07142857142857142,
          0.7857142857142857,
          0.5,
          0.07142857142857142,
          0.7857142857142857,
          0.5,
          0.07142857142857142,
          0.7857142857142857,
          0.5,
          0.07142857142857142,
          0.7857142857142857,
          0.5,
          0.07142857142857142,
          0.7857142857142857,
          0.5,
          0.07142857142857142,
          0.7857142857142857,
          0.5,
          0.07142857142857142,
          0.7857142857142857,
          0.5,
          0.07142857142857142,
          0.7857142857142857,
          0.5,
          0.07142857142857142,
          0.7857142857142857,
          0.5,
          0.07142857142857142,
          0.7857142857142857,
          0.5,
          0.07142857142857142,
          0.7857142857142857,
          0.5,
          0.07142857142857142,
          0.7857142857142857,
          0.5,
          0.07142857142857142,
          0,
          0,
          0,
          0.07142857142857142,
          0.07142857142857142,
          0.07142857142857142,
          0.14285714285714285,
          0.14285714285714285,
          0.14285714285714285,
          0.21428571428571427,
          0.21428571428571427,
          0.21428571428571427,
          0.2857142857142857,
          0.2857142857142857,
          0.2857142857142857,
          0.3571428571428571,
          0.3571428571428571,
          0.3571428571428571,
          0.42857142857142855,
          0.42857142857142855,
          0.42857142857142855,
          0.5,
          0.5,
          0.5,
          0.5714285714285714,
          0.5714285714285714,
          0.5714285714285714,
          0.6428571428571428,
          0.6428571428571428,
          0.6428571428571428,
          0.7142857142857142,
          0.7142857142857142,
          0.7142857142857142,
          0.7857142857142857,
          0.7857142857142857,
          0.7857142857142857,
          0.8571428571428571,
          0.8571428571428571,
          0.8571428571428571,
          0.9285714285714285,
          0.9285714285714285,
          0.9285714285714285,
          1,
          1,
          1,
          0.7857142857142857,
          0.07142857142857142,
          0.7857142857142857,
          0.7857142857142857,
          0.07142857142857142,
          0.7857142857142857,
          0.7857142857142857,
          0.07142857142857142,
          0.7857142857142857,
          0.7857142857142857,
          0.07142857142857142,
          0.7857142857142857,
          0.7857142857142857,
          0.07142857142857142,
          0.7857142857142857,
          0.7857142857142857,
          0.07142857142857142,
          0.7857142857142857,
          0.7857142857142857,
          0.07142857142857142,
          0.7857142857142857,
          0.7857142857142857,
          0.07142857142857142,
          0.7857142857142857,
          0.7857142857142857,
          0.07142857142857142,
          0.7857142857142857,
          0.7857142857142857,
          0.07142857142857142,
          0.7857142857142857,
          0.7857142857142857,
          0.07142857142857142,
          0.7857142857142857,
          0.7857142857142857,
          0.07142857142857142,
          0.7857142857142857,
          0.7857142857142857,
          0.07142857142857142,
          0.7857142857142857,
          0.7857142857142857,
          0.07142857142857142,
          0.7857142857142857,
          0.7857142857142857,
          0.07142857142857142,
          0.7857142857142857
         ],
         "z": [
          0.8571428571428571,
          1,
          0,
          0.8571428571428571,
          1,
          0,
          0.8571428571428571,
          1,
          0,
          0.8571428571428571,
          1,
          0,
          0.8571428571428571,
          1,
          0,
          0.8571428571428571,
          1,
          0,
          0.8571428571428571,
          1,
          0,
          0.8571428571428571,
          1,
          0,
          0.8571428571428571,
          1,
          0,
          0.8571428571428571,
          0,
          0.8571428571428571,
          0.8571428571428571,
          0,
          0.8571428571428571,
          0.8571428571428571,
          0,
          0.8571428571428571,
          0.8571428571428571,
          0,
          0.8571428571428571,
          0.8571428571428571,
          0,
          0.8571428571428571,
          0.8571428571428571,
          0,
          0.8571428571428571,
          0.8571428571428571,
          0,
          0.8571428571428571,
          0.8571428571428571,
          0,
          0.8571428571428571,
          0.8571428571428571,
          0,
          0.8571428571428571,
          0.8571428571428571,
          0,
          0.8571428571428571,
          0.8571428571428571,
          0,
          0.8571428571428571,
          0.8571428571428571,
          0,
          0.8571428571428571,
          0.8571428571428571,
          0,
          0.8571428571428571,
          0.8571428571428571,
          0,
          0.8571428571428571,
          0.8571428571428571,
          0,
          0.8571428571428571,
          0,
          1,
          0.8571428571428571,
          0,
          1,
          0.8571428571428571,
          0,
          1,
          0.8571428571428571,
          0,
          1,
          0.8571428571428571,
          0,
          1,
          0.8571428571428571,
          0,
          1,
          0.8571428571428571,
          0,
          1,
          0.8571428571428571,
          0,
          1,
          0.8571428571428571,
          0,
          1,
          0.8571428571428571,
          0,
          1,
          0.8571428571428571,
          0,
          1,
          0.8571428571428571,
          0,
          1,
          0.8571428571428571,
          0,
          1,
          0.8571428571428571,
          0,
          1,
          0.8571428571428571,
          0,
          1,
          0.8571428571428571,
          0,
          0,
          0,
          0.07142857142857142,
          0.07142857142857142,
          0.07142857142857142,
          0.14285714285714285,
          0.14285714285714285,
          0.14285714285714285,
          0.21428571428571427,
          0.21428571428571427,
          0.21428571428571427,
          0.2857142857142857,
          0.2857142857142857,
          0.2857142857142857,
          0.3571428571428571,
          0.3571428571428571,
          0.3571428571428571,
          0.42857142857142855,
          0.42857142857142855,
          0.42857142857142855,
          0.5,
          0.5,
          0.5,
          0.5714285714285714,
          0.5714285714285714,
          0.5714285714285714,
          0.6428571428571428,
          0.6428571428571428,
          0.6428571428571428,
          0.7142857142857142,
          0.7142857142857142,
          0.7142857142857142,
          0.7857142857142857,
          0.7857142857142857,
          0.7857142857142857,
          0.8571428571428571,
          0.8571428571428571,
          0.8571428571428571,
          0.9285714285714285,
          0.9285714285714285,
          0.9285714285714285,
          1,
          1,
          1
         ]
        }
       ],
       "layout": {
        "margin": {
         "b": 0,
         "l": 0,
         "r": 0,
         "t": 0
        },
        "scene": {
         "aspectmode": "cube",
         "xaxis": {
          "autorange": false,
          "range": [
           0,
           1
          ],
          "title": {
           "text": "X Axis"
          }
         },
         "yaxis": {
          "autorange": false,
          "range": [
           0,
           1
          ],
          "title": {
           "text": "Y Axis"
          }
         },
         "zaxis": {
          "autorange": false,
          "range": [
           0,
           1
          ],
          "title": {
           "text": "Z Axis"
          }
         }
        },
        "template": {
         "data": {
          "bar": [
           {
            "error_x": {
             "color": "#2a3f5f"
            },
            "error_y": {
             "color": "#2a3f5f"
            },
            "marker": {
             "line": {
              "color": "#E5ECF6",
              "width": 0.5
             },
             "pattern": {
              "fillmode": "overlay",
              "size": 10,
              "solidity": 0.2
             }
            },
            "type": "bar"
           }
          ],
          "barpolar": [
           {
            "marker": {
             "line": {
              "color": "#E5ECF6",
              "width": 0.5
             },
             "pattern": {
              "fillmode": "overlay",
              "size": 10,
              "solidity": 0.2
             }
            },
            "type": "barpolar"
           }
          ],
          "carpet": [
           {
            "aaxis": {
             "endlinecolor": "#2a3f5f",
             "gridcolor": "white",
             "linecolor": "white",
             "minorgridcolor": "white",
             "startlinecolor": "#2a3f5f"
            },
            "baxis": {
             "endlinecolor": "#2a3f5f",
             "gridcolor": "white",
             "linecolor": "white",
             "minorgridcolor": "white",
             "startlinecolor": "#2a3f5f"
            },
            "type": "carpet"
           }
          ],
          "choropleth": [
           {
            "colorbar": {
             "outlinewidth": 0,
             "ticks": ""
            },
            "type": "choropleth"
           }
          ],
          "contour": [
           {
            "colorbar": {
             "outlinewidth": 0,
             "ticks": ""
            },
            "colorscale": [
             [
              0,
              "#0d0887"
             ],
             [
              0.1111111111111111,
              "#46039f"
             ],
             [
              0.2222222222222222,
              "#7201a8"
             ],
             [
              0.3333333333333333,
              "#9c179e"
             ],
             [
              0.4444444444444444,
              "#bd3786"
             ],
             [
              0.5555555555555556,
              "#d8576b"
             ],
             [
              0.6666666666666666,
              "#ed7953"
             ],
             [
              0.7777777777777778,
              "#fb9f3a"
             ],
             [
              0.8888888888888888,
              "#fdca26"
             ],
             [
              1,
              "#f0f921"
             ]
            ],
            "type": "contour"
           }
          ],
          "contourcarpet": [
           {
            "colorbar": {
             "outlinewidth": 0,
             "ticks": ""
            },
            "type": "contourcarpet"
           }
          ],
          "heatmap": [
           {
            "colorbar": {
             "outlinewidth": 0,
             "ticks": ""
            },
            "colorscale": [
             [
              0,
              "#0d0887"
             ],
             [
              0.1111111111111111,
              "#46039f"
             ],
             [
              0.2222222222222222,
              "#7201a8"
             ],
             [
              0.3333333333333333,
              "#9c179e"
             ],
             [
              0.4444444444444444,
              "#bd3786"
             ],
             [
              0.5555555555555556,
              "#d8576b"
             ],
             [
              0.6666666666666666,
              "#ed7953"
             ],
             [
              0.7777777777777778,
              "#fb9f3a"
             ],
             [
              0.8888888888888888,
              "#fdca26"
             ],
             [
              1,
              "#f0f921"
             ]
            ],
            "type": "heatmap"
           }
          ],
          "heatmapgl": [
           {
            "colorbar": {
             "outlinewidth": 0,
             "ticks": ""
            },
            "colorscale": [
             [
              0,
              "#0d0887"
             ],
             [
              0.1111111111111111,
              "#46039f"
             ],
             [
              0.2222222222222222,
              "#7201a8"
             ],
             [
              0.3333333333333333,
              "#9c179e"
             ],
             [
              0.4444444444444444,
              "#bd3786"
             ],
             [
              0.5555555555555556,
              "#d8576b"
             ],
             [
              0.6666666666666666,
              "#ed7953"
             ],
             [
              0.7777777777777778,
              "#fb9f3a"
             ],
             [
              0.8888888888888888,
              "#fdca26"
             ],
             [
              1,
              "#f0f921"
             ]
            ],
            "type": "heatmapgl"
           }
          ],
          "histogram": [
           {
            "marker": {
             "pattern": {
              "fillmode": "overlay",
              "size": 10,
              "solidity": 0.2
             }
            },
            "type": "histogram"
           }
          ],
          "histogram2d": [
           {
            "colorbar": {
             "outlinewidth": 0,
             "ticks": ""
            },
            "colorscale": [
             [
              0,
              "#0d0887"
             ],
             [
              0.1111111111111111,
              "#46039f"
             ],
             [
              0.2222222222222222,
              "#7201a8"
             ],
             [
              0.3333333333333333,
              "#9c179e"
             ],
             [
              0.4444444444444444,
              "#bd3786"
             ],
             [
              0.5555555555555556,
              "#d8576b"
             ],
             [
              0.6666666666666666,
              "#ed7953"
             ],
             [
              0.7777777777777778,
              "#fb9f3a"
             ],
             [
              0.8888888888888888,
              "#fdca26"
             ],
             [
              1,
              "#f0f921"
             ]
            ],
            "type": "histogram2d"
           }
          ],
          "histogram2dcontour": [
           {
            "colorbar": {
             "outlinewidth": 0,
             "ticks": ""
            },
            "colorscale": [
             [
              0,
              "#0d0887"
             ],
             [
              0.1111111111111111,
              "#46039f"
             ],
             [
              0.2222222222222222,
              "#7201a8"
             ],
             [
              0.3333333333333333,
              "#9c179e"
             ],
             [
              0.4444444444444444,
              "#bd3786"
             ],
             [
              0.5555555555555556,
              "#d8576b"
             ],
             [
              0.6666666666666666,
              "#ed7953"
             ],
             [
              0.7777777777777778,
              "#fb9f3a"
             ],
             [
              0.8888888888888888,
              "#fdca26"
             ],
             [
              1,
              "#f0f921"
             ]
            ],
            "type": "histogram2dcontour"
           }
          ],
          "mesh3d": [
           {
            "colorbar": {
             "outlinewidth": 0,
             "ticks": ""
            },
            "type": "mesh3d"
           }
          ],
          "parcoords": [
           {
            "line": {
             "colorbar": {
              "outlinewidth": 0,
              "ticks": ""
             }
            },
            "type": "parcoords"
           }
          ],
          "pie": [
           {
            "automargin": true,
            "type": "pie"
           }
          ],
          "scatter": [
           {
            "fillpattern": {
             "fillmode": "overlay",
             "size": 10,
             "solidity": 0.2
            },
            "type": "scatter"
           }
          ],
          "scatter3d": [
           {
            "line": {
             "colorbar": {
              "outlinewidth": 0,
              "ticks": ""
             }
            },
            "marker": {
             "colorbar": {
              "outlinewidth": 0,
              "ticks": ""
             }
            },
            "type": "scatter3d"
           }
          ],
          "scattercarpet": [
           {
            "marker": {
             "colorbar": {
              "outlinewidth": 0,
              "ticks": ""
             }
            },
            "type": "scattercarpet"
           }
          ],
          "scattergeo": [
           {
            "marker": {
             "colorbar": {
              "outlinewidth": 0,
              "ticks": ""
             }
            },
            "type": "scattergeo"
           }
          ],
          "scattergl": [
           {
            "marker": {
             "colorbar": {
              "outlinewidth": 0,
              "ticks": ""
             }
            },
            "type": "scattergl"
           }
          ],
          "scattermapbox": [
           {
            "marker": {
             "colorbar": {
              "outlinewidth": 0,
              "ticks": ""
             }
            },
            "type": "scattermapbox"
           }
          ],
          "scatterpolar": [
           {
            "marker": {
             "colorbar": {
              "outlinewidth": 0,
              "ticks": ""
             }
            },
            "type": "scatterpolar"
           }
          ],
          "scatterpolargl": [
           {
            "marker": {
             "colorbar": {
              "outlinewidth": 0,
              "ticks": ""
             }
            },
            "type": "scatterpolargl"
           }
          ],
          "scatterternary": [
           {
            "marker": {
             "colorbar": {
              "outlinewidth": 0,
              "ticks": ""
             }
            },
            "type": "scatterternary"
           }
          ],
          "surface": [
           {
            "colorbar": {
             "outlinewidth": 0,
             "ticks": ""
            },
            "colorscale": [
             [
              0,
              "#0d0887"
             ],
             [
              0.1111111111111111,
              "#46039f"
             ],
             [
              0.2222222222222222,
              "#7201a8"
             ],
             [
              0.3333333333333333,
              "#9c179e"
             ],
             [
              0.4444444444444444,
              "#bd3786"
             ],
             [
              0.5555555555555556,
              "#d8576b"
             ],
             [
              0.6666666666666666,
              "#ed7953"
             ],
             [
              0.7777777777777778,
              "#fb9f3a"
             ],
             [
              0.8888888888888888,
              "#fdca26"
             ],
             [
              1,
              "#f0f921"
             ]
            ],
            "type": "surface"
           }
          ],
          "table": [
           {
            "cells": {
             "fill": {
              "color": "#EBF0F8"
             },
             "line": {
              "color": "white"
             }
            },
            "header": {
             "fill": {
              "color": "#C8D4E3"
             },
             "line": {
              "color": "white"
             }
            },
            "type": "table"
           }
          ]
         },
         "layout": {
          "annotationdefaults": {
           "arrowcolor": "#2a3f5f",
           "arrowhead": 0,
           "arrowwidth": 1
          },
          "autotypenumbers": "strict",
          "coloraxis": {
           "colorbar": {
            "outlinewidth": 0,
            "ticks": ""
           }
          },
          "colorscale": {
           "diverging": [
            [
             0,
             "#8e0152"
            ],
            [
             0.1,
             "#c51b7d"
            ],
            [
             0.2,
             "#de77ae"
            ],
            [
             0.3,
             "#f1b6da"
            ],
            [
             0.4,
             "#fde0ef"
            ],
            [
             0.5,
             "#f7f7f7"
            ],
            [
             0.6,
             "#e6f5d0"
            ],
            [
             0.7,
             "#b8e186"
            ],
            [
             0.8,
             "#7fbc41"
            ],
            [
             0.9,
             "#4d9221"
            ],
            [
             1,
             "#276419"
            ]
           ],
           "sequential": [
            [
             0,
             "#0d0887"
            ],
            [
             0.1111111111111111,
             "#46039f"
            ],
            [
             0.2222222222222222,
             "#7201a8"
            ],
            [
             0.3333333333333333,
             "#9c179e"
            ],
            [
             0.4444444444444444,
             "#bd3786"
            ],
            [
             0.5555555555555556,
             "#d8576b"
            ],
            [
             0.6666666666666666,
             "#ed7953"
            ],
            [
             0.7777777777777778,
             "#fb9f3a"
            ],
            [
             0.8888888888888888,
             "#fdca26"
            ],
            [
             1,
             "#f0f921"
            ]
           ],
           "sequentialminus": [
            [
             0,
             "#0d0887"
            ],
            [
             0.1111111111111111,
             "#46039f"
            ],
            [
             0.2222222222222222,
             "#7201a8"
            ],
            [
             0.3333333333333333,
             "#9c179e"
            ],
            [
             0.4444444444444444,
             "#bd3786"
            ],
            [
             0.5555555555555556,
             "#d8576b"
            ],
            [
             0.6666666666666666,
             "#ed7953"
            ],
            [
             0.7777777777777778,
             "#fb9f3a"
            ],
            [
             0.8888888888888888,
             "#fdca26"
            ],
            [
             1,
             "#f0f921"
            ]
           ]
          },
          "colorway": [
           "#636efa",
           "#EF553B",
           "#00cc96",
           "#ab63fa",
           "#FFA15A",
           "#19d3f3",
           "#FF6692",
           "#B6E880",
           "#FF97FF",
           "#FECB52"
          ],
          "font": {
           "color": "#2a3f5f"
          },
          "geo": {
           "bgcolor": "white",
           "lakecolor": "white",
           "landcolor": "#E5ECF6",
           "showlakes": true,
           "showland": true,
           "subunitcolor": "white"
          },
          "hoverlabel": {
           "align": "left"
          },
          "hovermode": "closest",
          "mapbox": {
           "style": "light"
          },
          "paper_bgcolor": "white",
          "plot_bgcolor": "#E5ECF6",
          "polar": {
           "angularaxis": {
            "gridcolor": "white",
            "linecolor": "white",
            "ticks": ""
           },
           "bgcolor": "#E5ECF6",
           "radialaxis": {
            "gridcolor": "white",
            "linecolor": "white",
            "ticks": ""
           }
          },
          "scene": {
           "xaxis": {
            "backgroundcolor": "#E5ECF6",
            "gridcolor": "white",
            "gridwidth": 2,
            "linecolor": "white",
            "showbackground": true,
            "ticks": "",
            "zerolinecolor": "white"
           },
           "yaxis": {
            "backgroundcolor": "#E5ECF6",
            "gridcolor": "white",
            "gridwidth": 2,
            "linecolor": "white",
            "showbackground": true,
            "ticks": "",
            "zerolinecolor": "white"
           },
           "zaxis": {
            "backgroundcolor": "#E5ECF6",
            "gridcolor": "white",
            "gridwidth": 2,
            "linecolor": "white",
            "showbackground": true,
            "ticks": "",
            "zerolinecolor": "white"
           }
          },
          "shapedefaults": {
           "line": {
            "color": "#2a3f5f"
           }
          },
          "ternary": {
           "aaxis": {
            "gridcolor": "white",
            "linecolor": "white",
            "ticks": ""
           },
           "baxis": {
            "gridcolor": "white",
            "linecolor": "white",
            "ticks": ""
           },
           "bgcolor": "#E5ECF6",
           "caxis": {
            "gridcolor": "white",
            "linecolor": "white",
            "ticks": ""
           }
          },
          "title": {
           "x": 0.05
          },
          "xaxis": {
           "automargin": true,
           "gridcolor": "white",
           "linecolor": "white",
           "ticks": "",
           "title": {
            "standoff": 15
           },
           "zerolinecolor": "white",
           "zerolinewidth": 2
          },
          "yaxis": {
           "automargin": true,
           "gridcolor": "white",
           "linecolor": "white",
           "ticks": "",
           "title": {
            "standoff": 15
           },
           "zerolinecolor": "white",
           "zerolinewidth": 2
          }
         }
        }
       }
      }
     },
     "metadata": {},
     "output_type": "display_data"
    }
   ],
   "source": [
    "# Let's make a tree that corresponds to a simple 3D tree {{{x}, {y}}, {z}}\n",
    "N = 15 # primitive grid size\n",
    "r = 3\n",
    "grids = [Grid(np.linspace(0., 1., N), i) for i in range(3)]\n",
    "x, y, z, = 0, 1, 2\n",
    "\n",
    "# build incomplete edge-grids\n",
    "# up-sweep\n",
    "a_up = grids[x].random_subset(r)\n",
    "b_up = grids[y].random_subset(r)\n",
    "c_up = (a_up @ b_up).random_subset(r)\n",
    "\n",
    "# down-sweep\n",
    "c_down = grids[z].random_subset(r)\n",
    "a_down = (c_down @ b_up).random_subset(r)\n",
    "b_down = (c_down @ a_up).random_subset(r)\n",
    "\n",
    "# build complete node-grids\n",
    "A = (grids[0] @ a_down).permute()\n",
    "B = (grids[1] @ b_down).permute()\n",
    "C = (grids[2] @ c_up).permute()\n",
    "L = (a_up @ b_up @ c_down).permute()\n",
    "\n",
    "# combine them into a single grid\n",
    "xyz = L + A + B + C \n",
    "f = xyz.evaluate(fun)\n",
    "\n",
    "from qutree.plot import plot_xyz\n",
    "plot_xyz(xyz, f)"
   ]
  },
  {
   "cell_type": "code",
   "execution_count": null,
   "metadata": {},
   "outputs": [],
   "source": []
  },
  {
   "cell_type": "code",
   "execution_count": null,
   "metadata": {},
   "outputs": [
    {
     "data": {
      "application/vnd.plotly.v1+json": {
       "config": {
        "plotlyServerURL": "https://plot.ly"
       },
       "data": [
        {
         "marker": {
          "color": [
           "blue",
           "blue",
           "blue",
           "blue",
           "blue",
           "blue",
           "blue",
           "blue",
           "blue",
           "blue",
           "blue",
           "blue",
           "blue",
           "blue",
           "blue",
           "blue",
           "blue",
           "blue",
           "blue",
           "blue",
           "blue",
           "blue",
           "blue",
           "blue",
           "blue",
           "blue",
           "blue",
           "blue",
           "blue",
           "blue",
           "blue",
           "blue",
           "blue",
           "blue",
           "blue",
           "blue",
           "blue",
           "blue",
           "blue",
           "blue",
           "blue",
           "blue",
           "blue",
           "blue",
           "blue",
           "green",
           "green",
           "green",
           "green",
           "green",
           "green",
           "green",
           "green",
           "green",
           "green",
           "green",
           "green",
           "green",
           "green",
           "green",
           "green",
           "green",
           "green",
           "green",
           "green",
           "green",
           "green",
           "green",
           "green",
           "green",
           "green",
           "green",
           "green",
           "green",
           "green",
           "green",
           "green",
           "green",
           "green",
           "green",
           "green",
           "green",
           "green",
           "green",
           "green",
           "green",
           "green",
           "green",
           "green",
           "green",
           "orange",
           "orange",
           "orange",
           "orange",
           "orange",
           "orange",
           "orange",
           "orange",
           "orange",
           "orange",
           "orange",
           "orange",
           "orange",
           "orange",
           "orange",
           "orange",
           "orange",
           "orange",
           "orange",
           "orange",
           "orange",
           "orange",
           "orange",
           "orange",
           "orange",
           "orange",
           "orange",
           "orange",
           "orange",
           "orange",
           "orange",
           "orange",
           "orange",
           "orange",
           "orange",
           "orange",
           "orange",
           "orange",
           "orange",
           "orange",
           "orange",
           "orange",
           "orange",
           "orange",
           "orange",
           "red",
           "red",
           "red",
           "red",
           "red",
           "red",
           "red",
           "red",
           "red",
           "red",
           "red",
           "red",
           "red",
           "red",
           "red",
           "red",
           "red",
           "red",
           "red",
           "red",
           "red",
           "red",
           "red",
           "red",
           "red",
           "red",
           "red"
          ],
          "colorbar": {
           "title": {
            "text": "Function Value"
           }
          },
          "colorscale": [
           [
            0,
            "#440154"
           ],
           [
            0.1111111111111111,
            "#482878"
           ],
           [
            0.2222222222222222,
            "#3e4989"
           ],
           [
            0.3333333333333333,
            "#31688e"
           ],
           [
            0.4444444444444444,
            "#26828e"
           ],
           [
            0.5555555555555556,
            "#1f9e89"
           ],
           [
            0.6666666666666666,
            "#35b779"
           ],
           [
            0.7777777777777778,
            "#6ece58"
           ],
           [
            0.8888888888888888,
            "#b5de2b"
           ],
           [
            1,
            "#fde725"
           ]
          ],
          "size": 5
         },
         "mode": "markers",
         "type": "scatter3d",
         "x": [
          0,
          0,
          0,
          0.07142857142857142,
          0.07142857142857142,
          0.07142857142857142,
          0.14285714285714285,
          0.14285714285714285,
          0.14285714285714285,
          0.21428571428571427,
          0.21428571428571427,
          0.21428571428571427,
          0.2857142857142857,
          0.2857142857142857,
          0.2857142857142857,
          0.3571428571428571,
          0.3571428571428571,
          0.3571428571428571,
          0.42857142857142855,
          0.42857142857142855,
          0.42857142857142855,
          0.5,
          0.5,
          0.5,
          0.5714285714285714,
          0.5714285714285714,
          0.5714285714285714,
          0.6428571428571428,
          0.6428571428571428,
          0.6428571428571428,
          0.7142857142857142,
          0.7142857142857142,
          0.7142857142857142,
          0.7857142857142857,
          0.7857142857142857,
          0.7857142857142857,
          0.8571428571428571,
          0.8571428571428571,
          0.8571428571428571,
          0.9285714285714285,
          0.9285714285714285,
          0.9285714285714285,
          1,
          1,
          1,
          0.5,
          0.3571428571428571,
          0.42857142857142855,
          0.5,
          0.3571428571428571,
          0.42857142857142855,
          0.5,
          0.3571428571428571,
          0.42857142857142855,
          0.5,
          0.3571428571428571,
          0.42857142857142855,
          0.5,
          0.3571428571428571,
          0.42857142857142855,
          0.5,
          0.3571428571428571,
          0.42857142857142855,
          0.5,
          0.3571428571428571,
          0.42857142857142855,
          0.5,
          0.3571428571428571,
          0.42857142857142855,
          0.5,
          0.3571428571428571,
          0.42857142857142855,
          0.5,
          0.3571428571428571,
          0.42857142857142855,
          0.5,
          0.3571428571428571,
          0.42857142857142855,
          0.5,
          0.3571428571428571,
          0.42857142857142855,
          0.5,
          0.3571428571428571,
          0.42857142857142855,
          0.5,
          0.3571428571428571,
          0.42857142857142855,
          0.5,
          0.3571428571428571,
          0.42857142857142855,
          0.5,
          0.3571428571428571,
          0.42857142857142855,
          0.5,
          0.3571428571428571,
          0.42857142857142855,
          0.5,
          0.3571428571428571,
          0.42857142857142855,
          0.5,
          0.3571428571428571,
          0.42857142857142855,
          0.5,
          0.3571428571428571,
          0.42857142857142855,
          0.5,
          0.3571428571428571,
          0.42857142857142855,
          0.5,
          0.3571428571428571,
          0.42857142857142855,
          0.5,
          0.3571428571428571,
          0.42857142857142855,
          0.5,
          0.3571428571428571,
          0.42857142857142855,
          0.5,
          0.3571428571428571,
          0.42857142857142855,
          0.5,
          0.3571428571428571,
          0.42857142857142855,
          0.5,
          0.3571428571428571,
          0.42857142857142855,
          0.5,
          0.3571428571428571,
          0.42857142857142855,
          0.5,
          0.3571428571428571,
          0.42857142857142855,
          0.5,
          0.3571428571428571,
          0.42857142857142855,
          0.42857142857142855,
          0.42857142857142855,
          0.42857142857142855,
          0.42857142857142855,
          0.42857142857142855,
          0.42857142857142855,
          0.42857142857142855,
          0.42857142857142855,
          0.42857142857142855,
          0.5,
          0.5,
          0.5,
          0.5,
          0.5,
          0.5,
          0.5,
          0.5,
          0.5,
          0.3571428571428571,
          0.3571428571428571,
          0.3571428571428571,
          0.3571428571428571,
          0.3571428571428571,
          0.3571428571428571,
          0.3571428571428571,
          0.3571428571428571,
          0.3571428571428571
         ],
         "y": [
          0.7857142857142857,
          0.5,
          0.07142857142857142,
          0.7857142857142857,
          0.5,
          0.07142857142857142,
          0.7857142857142857,
          0.5,
          0.07142857142857142,
          0.7857142857142857,
          0.5,
          0.07142857142857142,
          0.7857142857142857,
          0.5,
          0.07142857142857142,
          0.7857142857142857,
          0.5,
          0.07142857142857142,
          0.7857142857142857,
          0.5,
          0.07142857142857142,
          0.7857142857142857,
          0.5,
          0.07142857142857142,
          0.7857142857142857,
          0.5,
          0.07142857142857142,
          0.7857142857142857,
          0.5,
          0.07142857142857142,
          0.7857142857142857,
          0.5,
          0.07142857142857142,
          0.7857142857142857,
          0.5,
          0.07142857142857142,
          0.7857142857142857,
          0.5,
          0.07142857142857142,
          0.7857142857142857,
          0.5,
          0.07142857142857142,
          0.7857142857142857,
          0.5,
          0.07142857142857142,
          0,
          0,
          0,
          0.07142857142857142,
          0.07142857142857142,
          0.07142857142857142,
          0.14285714285714285,
          0.14285714285714285,
          0.14285714285714285,
          0.21428571428571427,
          0.21428571428571427,
          0.21428571428571427,
          0.2857142857142857,
          0.2857142857142857,
          0.2857142857142857,
          0.3571428571428571,
          0.3571428571428571,
          0.3571428571428571,
          0.42857142857142855,
          0.42857142857142855,
          0.42857142857142855,
          0.5,
          0.5,
          0.5,
          0.5714285714285714,
          0.5714285714285714,
          0.5714285714285714,
          0.6428571428571428,
          0.6428571428571428,
          0.6428571428571428,
          0.7142857142857142,
          0.7142857142857142,
          0.7142857142857142,
          0.7857142857142857,
          0.7857142857142857,
          0.7857142857142857,
          0.8571428571428571,
          0.8571428571428571,
          0.8571428571428571,
          0.9285714285714285,
          0.9285714285714285,
          0.9285714285714285,
          1,
          1,
          1,
          0.7857142857142857,
          0.07142857142857142,
          0.7857142857142857,
          0.7857142857142857,
          0.07142857142857142,
          0.7857142857142857,
          0.7857142857142857,
          0.07142857142857142,
          0.7857142857142857,
          0.7857142857142857,
          0.07142857142857142,
          0.7857142857142857,
          0.7857142857142857,
          0.07142857142857142,
          0.7857142857142857,
          0.7857142857142857,
          0.07142857142857142,
          0.7857142857142857,
          0.7857142857142857,
          0.07142857142857142,
          0.7857142857142857,
          0.7857142857142857,
          0.07142857142857142,
          0.7857142857142857,
          0.7857142857142857,
          0.07142857142857142,
          0.7857142857142857,
          0.7857142857142857,
          0.07142857142857142,
          0.7857142857142857,
          0.7857142857142857,
          0.07142857142857142,
          0.7857142857142857,
          0.7857142857142857,
          0.07142857142857142,
          0.7857142857142857,
          0.7857142857142857,
          0.07142857142857142,
          0.7857142857142857,
          0.7857142857142857,
          0.07142857142857142,
          0.7857142857142857,
          0.7857142857142857,
          0.07142857142857142,
          0.7857142857142857,
          0.07142857142857142,
          0.07142857142857142,
          0.07142857142857142,
          0.7857142857142857,
          0.7857142857142857,
          0.7857142857142857,
          0.5,
          0.5,
          0.5,
          0.07142857142857142,
          0.07142857142857142,
          0.07142857142857142,
          0.7857142857142857,
          0.7857142857142857,
          0.7857142857142857,
          0.5,
          0.5,
          0.5,
          0.07142857142857142,
          0.07142857142857142,
          0.07142857142857142,
          0.7857142857142857,
          0.7857142857142857,
          0.7857142857142857,
          0.5,
          0.5,
          0.5
         ],
         "z": [
          0.8571428571428571,
          0,
          0.8571428571428571,
          0.8571428571428571,
          0,
          0.8571428571428571,
          0.8571428571428571,
          0,
          0.8571428571428571,
          0.8571428571428571,
          0,
          0.8571428571428571,
          0.8571428571428571,
          0,
          0.8571428571428571,
          0.8571428571428571,
          0,
          0.8571428571428571,
          0.8571428571428571,
          0,
          0.8571428571428571,
          0.8571428571428571,
          0,
          0.8571428571428571,
          0.8571428571428571,
          0,
          0.8571428571428571,
          0.8571428571428571,
          0,
          0.8571428571428571,
          0.8571428571428571,
          0,
          0.8571428571428571,
          0.8571428571428571,
          0,
          0.8571428571428571,
          0.8571428571428571,
          0,
          0.8571428571428571,
          0.8571428571428571,
          0,
          0.8571428571428571,
          0.8571428571428571,
          0,
          0.8571428571428571,
          0,
          1,
          0.8571428571428571,
          0,
          1,
          0.8571428571428571,
          0,
          1,
          0.8571428571428571,
          0,
          1,
          0.8571428571428571,
          0,
          1,
          0.8571428571428571,
          0,
          1,
          0.8571428571428571,
          0,
          1,
          0.8571428571428571,
          0,
          1,
          0.8571428571428571,
          0,
          1,
          0.8571428571428571,
          0,
          1,
          0.8571428571428571,
          0,
          1,
          0.8571428571428571,
          0,
          1,
          0.8571428571428571,
          0,
          1,
          0.8571428571428571,
          0,
          1,
          0.8571428571428571,
          0,
          1,
          0.8571428571428571,
          0,
          0,
          0,
          0.07142857142857142,
          0.07142857142857142,
          0.07142857142857142,
          0.14285714285714285,
          0.14285714285714285,
          0.14285714285714285,
          0.21428571428571427,
          0.21428571428571427,
          0.21428571428571427,
          0.2857142857142857,
          0.2857142857142857,
          0.2857142857142857,
          0.3571428571428571,
          0.3571428571428571,
          0.3571428571428571,
          0.42857142857142855,
          0.42857142857142855,
          0.42857142857142855,
          0.5,
          0.5,
          0.5,
          0.5714285714285714,
          0.5714285714285714,
          0.5714285714285714,
          0.6428571428571428,
          0.6428571428571428,
          0.6428571428571428,
          0.7142857142857142,
          0.7142857142857142,
          0.7142857142857142,
          0.7857142857142857,
          0.7857142857142857,
          0.7857142857142857,
          0.8571428571428571,
          0.8571428571428571,
          0.8571428571428571,
          0.9285714285714285,
          0.9285714285714285,
          0.9285714285714285,
          1,
          1,
          1,
          0.8571428571428571,
          1,
          0,
          0.8571428571428571,
          1,
          0,
          0.8571428571428571,
          1,
          0,
          0.8571428571428571,
          1,
          0,
          0.8571428571428571,
          1,
          0,
          0.8571428571428571,
          1,
          0,
          0.8571428571428571,
          1,
          0,
          0.8571428571428571,
          1,
          0,
          0.8571428571428571,
          1,
          0
         ]
        }
       ],
       "layout": {
        "margin": {
         "b": 0,
         "l": 0,
         "r": 0,
         "t": 0
        },
        "scene": {
         "aspectmode": "cube",
         "xaxis": {
          "autorange": false,
          "range": [
           0,
           1
          ],
          "title": {
           "text": "X Axis"
          }
         },
         "yaxis": {
          "autorange": false,
          "range": [
           0,
           1
          ],
          "title": {
           "text": "Y Axis"
          }
         },
         "zaxis": {
          "autorange": false,
          "range": [
           0,
           1
          ],
          "title": {
           "text": "Z Axis"
          }
         }
        },
        "template": {
         "data": {
          "bar": [
           {
            "error_x": {
             "color": "#2a3f5f"
            },
            "error_y": {
             "color": "#2a3f5f"
            },
            "marker": {
             "line": {
              "color": "#E5ECF6",
              "width": 0.5
             },
             "pattern": {
              "fillmode": "overlay",
              "size": 10,
              "solidity": 0.2
             }
            },
            "type": "bar"
           }
          ],
          "barpolar": [
           {
            "marker": {
             "line": {
              "color": "#E5ECF6",
              "width": 0.5
             },
             "pattern": {
              "fillmode": "overlay",
              "size": 10,
              "solidity": 0.2
             }
            },
            "type": "barpolar"
           }
          ],
          "carpet": [
           {
            "aaxis": {
             "endlinecolor": "#2a3f5f",
             "gridcolor": "white",
             "linecolor": "white",
             "minorgridcolor": "white",
             "startlinecolor": "#2a3f5f"
            },
            "baxis": {
             "endlinecolor": "#2a3f5f",
             "gridcolor": "white",
             "linecolor": "white",
             "minorgridcolor": "white",
             "startlinecolor": "#2a3f5f"
            },
            "type": "carpet"
           }
          ],
          "choropleth": [
           {
            "colorbar": {
             "outlinewidth": 0,
             "ticks": ""
            },
            "type": "choropleth"
           }
          ],
          "contour": [
           {
            "colorbar": {
             "outlinewidth": 0,
             "ticks": ""
            },
            "colorscale": [
             [
              0,
              "#0d0887"
             ],
             [
              0.1111111111111111,
              "#46039f"
             ],
             [
              0.2222222222222222,
              "#7201a8"
             ],
             [
              0.3333333333333333,
              "#9c179e"
             ],
             [
              0.4444444444444444,
              "#bd3786"
             ],
             [
              0.5555555555555556,
              "#d8576b"
             ],
             [
              0.6666666666666666,
              "#ed7953"
             ],
             [
              0.7777777777777778,
              "#fb9f3a"
             ],
             [
              0.8888888888888888,
              "#fdca26"
             ],
             [
              1,
              "#f0f921"
             ]
            ],
            "type": "contour"
           }
          ],
          "contourcarpet": [
           {
            "colorbar": {
             "outlinewidth": 0,
             "ticks": ""
            },
            "type": "contourcarpet"
           }
          ],
          "heatmap": [
           {
            "colorbar": {
             "outlinewidth": 0,
             "ticks": ""
            },
            "colorscale": [
             [
              0,
              "#0d0887"
             ],
             [
              0.1111111111111111,
              "#46039f"
             ],
             [
              0.2222222222222222,
              "#7201a8"
             ],
             [
              0.3333333333333333,
              "#9c179e"
             ],
             [
              0.4444444444444444,
              "#bd3786"
             ],
             [
              0.5555555555555556,
              "#d8576b"
             ],
             [
              0.6666666666666666,
              "#ed7953"
             ],
             [
              0.7777777777777778,
              "#fb9f3a"
             ],
             [
              0.8888888888888888,
              "#fdca26"
             ],
             [
              1,
              "#f0f921"
             ]
            ],
            "type": "heatmap"
           }
          ],
          "heatmapgl": [
           {
            "colorbar": {
             "outlinewidth": 0,
             "ticks": ""
            },
            "colorscale": [
             [
              0,
              "#0d0887"
             ],
             [
              0.1111111111111111,
              "#46039f"
             ],
             [
              0.2222222222222222,
              "#7201a8"
             ],
             [
              0.3333333333333333,
              "#9c179e"
             ],
             [
              0.4444444444444444,
              "#bd3786"
             ],
             [
              0.5555555555555556,
              "#d8576b"
             ],
             [
              0.6666666666666666,
              "#ed7953"
             ],
             [
              0.7777777777777778,
              "#fb9f3a"
             ],
             [
              0.8888888888888888,
              "#fdca26"
             ],
             [
              1,
              "#f0f921"
             ]
            ],
            "type": "heatmapgl"
           }
          ],
          "histogram": [
           {
            "marker": {
             "pattern": {
              "fillmode": "overlay",
              "size": 10,
              "solidity": 0.2
             }
            },
            "type": "histogram"
           }
          ],
          "histogram2d": [
           {
            "colorbar": {
             "outlinewidth": 0,
             "ticks": ""
            },
            "colorscale": [
             [
              0,
              "#0d0887"
             ],
             [
              0.1111111111111111,
              "#46039f"
             ],
             [
              0.2222222222222222,
              "#7201a8"
             ],
             [
              0.3333333333333333,
              "#9c179e"
             ],
             [
              0.4444444444444444,
              "#bd3786"
             ],
             [
              0.5555555555555556,
              "#d8576b"
             ],
             [
              0.6666666666666666,
              "#ed7953"
             ],
             [
              0.7777777777777778,
              "#fb9f3a"
             ],
             [
              0.8888888888888888,
              "#fdca26"
             ],
             [
              1,
              "#f0f921"
             ]
            ],
            "type": "histogram2d"
           }
          ],
          "histogram2dcontour": [
           {
            "colorbar": {
             "outlinewidth": 0,
             "ticks": ""
            },
            "colorscale": [
             [
              0,
              "#0d0887"
             ],
             [
              0.1111111111111111,
              "#46039f"
             ],
             [
              0.2222222222222222,
              "#7201a8"
             ],
             [
              0.3333333333333333,
              "#9c179e"
             ],
             [
              0.4444444444444444,
              "#bd3786"
             ],
             [
              0.5555555555555556,
              "#d8576b"
             ],
             [
              0.6666666666666666,
              "#ed7953"
             ],
             [
              0.7777777777777778,
              "#fb9f3a"
             ],
             [
              0.8888888888888888,
              "#fdca26"
             ],
             [
              1,
              "#f0f921"
             ]
            ],
            "type": "histogram2dcontour"
           }
          ],
          "mesh3d": [
           {
            "colorbar": {
             "outlinewidth": 0,
             "ticks": ""
            },
            "type": "mesh3d"
           }
          ],
          "parcoords": [
           {
            "line": {
             "colorbar": {
              "outlinewidth": 0,
              "ticks": ""
             }
            },
            "type": "parcoords"
           }
          ],
          "pie": [
           {
            "automargin": true,
            "type": "pie"
           }
          ],
          "scatter": [
           {
            "fillpattern": {
             "fillmode": "overlay",
             "size": 10,
             "solidity": 0.2
            },
            "type": "scatter"
           }
          ],
          "scatter3d": [
           {
            "line": {
             "colorbar": {
              "outlinewidth": 0,
              "ticks": ""
             }
            },
            "marker": {
             "colorbar": {
              "outlinewidth": 0,
              "ticks": ""
             }
            },
            "type": "scatter3d"
           }
          ],
          "scattercarpet": [
           {
            "marker": {
             "colorbar": {
              "outlinewidth": 0,
              "ticks": ""
             }
            },
            "type": "scattercarpet"
           }
          ],
          "scattergeo": [
           {
            "marker": {
             "colorbar": {
              "outlinewidth": 0,
              "ticks": ""
             }
            },
            "type": "scattergeo"
           }
          ],
          "scattergl": [
           {
            "marker": {
             "colorbar": {
              "outlinewidth": 0,
              "ticks": ""
             }
            },
            "type": "scattergl"
           }
          ],
          "scattermapbox": [
           {
            "marker": {
             "colorbar": {
              "outlinewidth": 0,
              "ticks": ""
             }
            },
            "type": "scattermapbox"
           }
          ],
          "scatterpolar": [
           {
            "marker": {
             "colorbar": {
              "outlinewidth": 0,
              "ticks": ""
             }
            },
            "type": "scatterpolar"
           }
          ],
          "scatterpolargl": [
           {
            "marker": {
             "colorbar": {
              "outlinewidth": 0,
              "ticks": ""
             }
            },
            "type": "scatterpolargl"
           }
          ],
          "scatterternary": [
           {
            "marker": {
             "colorbar": {
              "outlinewidth": 0,
              "ticks": ""
             }
            },
            "type": "scatterternary"
           }
          ],
          "surface": [
           {
            "colorbar": {
             "outlinewidth": 0,
             "ticks": ""
            },
            "colorscale": [
             [
              0,
              "#0d0887"
             ],
             [
              0.1111111111111111,
              "#46039f"
             ],
             [
              0.2222222222222222,
              "#7201a8"
             ],
             [
              0.3333333333333333,
              "#9c179e"
             ],
             [
              0.4444444444444444,
              "#bd3786"
             ],
             [
              0.5555555555555556,
              "#d8576b"
             ],
             [
              0.6666666666666666,
              "#ed7953"
             ],
             [
              0.7777777777777778,
              "#fb9f3a"
             ],
             [
              0.8888888888888888,
              "#fdca26"
             ],
             [
              1,
              "#f0f921"
             ]
            ],
            "type": "surface"
           }
          ],
          "table": [
           {
            "cells": {
             "fill": {
              "color": "#EBF0F8"
             },
             "line": {
              "color": "white"
             }
            },
            "header": {
             "fill": {
              "color": "#C8D4E3"
             },
             "line": {
              "color": "white"
             }
            },
            "type": "table"
           }
          ]
         },
         "layout": {
          "annotationdefaults": {
           "arrowcolor": "#2a3f5f",
           "arrowhead": 0,
           "arrowwidth": 1
          },
          "autotypenumbers": "strict",
          "coloraxis": {
           "colorbar": {
            "outlinewidth": 0,
            "ticks": ""
           }
          },
          "colorscale": {
           "diverging": [
            [
             0,
             "#8e0152"
            ],
            [
             0.1,
             "#c51b7d"
            ],
            [
             0.2,
             "#de77ae"
            ],
            [
             0.3,
             "#f1b6da"
            ],
            [
             0.4,
             "#fde0ef"
            ],
            [
             0.5,
             "#f7f7f7"
            ],
            [
             0.6,
             "#e6f5d0"
            ],
            [
             0.7,
             "#b8e186"
            ],
            [
             0.8,
             "#7fbc41"
            ],
            [
             0.9,
             "#4d9221"
            ],
            [
             1,
             "#276419"
            ]
           ],
           "sequential": [
            [
             0,
             "#0d0887"
            ],
            [
             0.1111111111111111,
             "#46039f"
            ],
            [
             0.2222222222222222,
             "#7201a8"
            ],
            [
             0.3333333333333333,
             "#9c179e"
            ],
            [
             0.4444444444444444,
             "#bd3786"
            ],
            [
             0.5555555555555556,
             "#d8576b"
            ],
            [
             0.6666666666666666,
             "#ed7953"
            ],
            [
             0.7777777777777778,
             "#fb9f3a"
            ],
            [
             0.8888888888888888,
             "#fdca26"
            ],
            [
             1,
             "#f0f921"
            ]
           ],
           "sequentialminus": [
            [
             0,
             "#0d0887"
            ],
            [
             0.1111111111111111,
             "#46039f"
            ],
            [
             0.2222222222222222,
             "#7201a8"
            ],
            [
             0.3333333333333333,
             "#9c179e"
            ],
            [
             0.4444444444444444,
             "#bd3786"
            ],
            [
             0.5555555555555556,
             "#d8576b"
            ],
            [
             0.6666666666666666,
             "#ed7953"
            ],
            [
             0.7777777777777778,
             "#fb9f3a"
            ],
            [
             0.8888888888888888,
             "#fdca26"
            ],
            [
             1,
             "#f0f921"
            ]
           ]
          },
          "colorway": [
           "#636efa",
           "#EF553B",
           "#00cc96",
           "#ab63fa",
           "#FFA15A",
           "#19d3f3",
           "#FF6692",
           "#B6E880",
           "#FF97FF",
           "#FECB52"
          ],
          "font": {
           "color": "#2a3f5f"
          },
          "geo": {
           "bgcolor": "white",
           "lakecolor": "white",
           "landcolor": "#E5ECF6",
           "showlakes": true,
           "showland": true,
           "subunitcolor": "white"
          },
          "hoverlabel": {
           "align": "left"
          },
          "hovermode": "closest",
          "mapbox": {
           "style": "light"
          },
          "paper_bgcolor": "white",
          "plot_bgcolor": "#E5ECF6",
          "polar": {
           "angularaxis": {
            "gridcolor": "white",
            "linecolor": "white",
            "ticks": ""
           },
           "bgcolor": "#E5ECF6",
           "radialaxis": {
            "gridcolor": "white",
            "linecolor": "white",
            "ticks": ""
           }
          },
          "scene": {
           "xaxis": {
            "backgroundcolor": "#E5ECF6",
            "gridcolor": "white",
            "gridwidth": 2,
            "linecolor": "white",
            "showbackground": true,
            "ticks": "",
            "zerolinecolor": "white"
           },
           "yaxis": {
            "backgroundcolor": "#E5ECF6",
            "gridcolor": "white",
            "gridwidth": 2,
            "linecolor": "white",
            "showbackground": true,
            "ticks": "",
            "zerolinecolor": "white"
           },
           "zaxis": {
            "backgroundcolor": "#E5ECF6",
            "gridcolor": "white",
            "gridwidth": 2,
            "linecolor": "white",
            "showbackground": true,
            "ticks": "",
            "zerolinecolor": "white"
           }
          },
          "shapedefaults": {
           "line": {
            "color": "#2a3f5f"
           }
          },
          "ternary": {
           "aaxis": {
            "gridcolor": "white",
            "linecolor": "white",
            "ticks": ""
           },
           "baxis": {
            "gridcolor": "white",
            "linecolor": "white",
            "ticks": ""
           },
           "bgcolor": "#E5ECF6",
           "caxis": {
            "gridcolor": "white",
            "linecolor": "white",
            "ticks": ""
           }
          },
          "title": {
           "x": 0.05
          },
          "xaxis": {
           "automargin": true,
           "gridcolor": "white",
           "linecolor": "white",
           "ticks": "",
           "title": {
            "standoff": 15
           },
           "zerolinecolor": "white",
           "zerolinewidth": 2
          },
          "yaxis": {
           "automargin": true,
           "gridcolor": "white",
           "linecolor": "white",
           "ticks": "",
           "title": {
            "standoff": 15
           },
           "zerolinecolor": "white",
           "zerolinewidth": 2
          }
         }
        }
       }
      }
     },
     "metadata": {},
     "output_type": "display_data"
    }
   ],
   "source": [
    "\n",
    "fL = L.evaluate(fun)\n",
    "fA = A.evaluate(fun)\n",
    "fB = B.evaluate(fun)\n",
    "fC = C.evaluate(fun)\n",
    "fL = [\"red\"] * len(fL)\n",
    "fA = [\"blue\"] * len(fA)\n",
    "fB = [\"green\"] * len(fB)\n",
    "fC = [\"orange\"] * len(fC)\n",
    "xyz = A + B + C + L\n",
    "f = np.concatenate([fA, fB, fC, fL])\n",
    "\n",
    "from qutree.plot import *\n",
    "plot_xyz(xyz, f)\n"
   ]
  },
  {
   "cell_type": "code",
   "execution_count": null,
   "metadata": {},
   "outputs": [
    {
     "name": "stdout",
     "output_type": "stream",
     "text": [
      "coords: [0 1]\n",
      "grid:\n",
      "[[0.         0.78571429]\n",
      " [0.         0.5       ]\n",
      " [0.         0.07142857]\n",
      " [0.07142857 0.78571429]\n",
      " [0.07142857 0.5       ]]\n"
     ]
    }
   ],
   "source": [
    "# we can also slice our grid\n",
    "# [points, dimensions]\n",
    "grid = A\n",
    "print(A[:5, 0:2])"
   ]
  },
  {
   "cell_type": "code",
   "execution_count": null,
   "metadata": {},
   "outputs": [
    {
     "data": {
      "application/vnd.plotly.v1+json": {
       "config": {
        "plotlyServerURL": "https://plot.ly"
       },
       "data": [
        {
         "marker": {
          "color": [
           0.9234693877551019,
           1.1887755102040816,
           0.18877551020408162,
           1.5357142857142856,
           1.8010204081632653,
           0.8010204081632653,
           1.1683673469387754,
           1.433673469387755,
           0.4336734693877551,
           0.9897959183673468,
           1.2551020408163265,
           0.25510204081632654,
           1.6020408163265305,
           1.8673469387755102,
           0.8673469387755102,
           1.2346938775510203,
           1.5,
           0.5,
           0.8673469387755102,
           1.1326530612244898,
           0.13265306122448978,
           1.4795918367346936,
           1.7448979591836733,
           0.7448979591836734,
           1.1122448979591835,
           1.3775510204081631,
           0.37755102040816324,
           1.3520408163265305,
           0.25,
           0.7397959183673468,
           1.357142857142857,
           0.25510204081632654,
           0.7448979591836734,
           1.3724489795918366,
           0.27040816326530615,
           0.760204081632653,
           1.3979591836734693,
           0.29591836734693877,
           0.7857142857142856,
           1.433673469387755,
           0.33163265306122447,
           0.8214285714285714,
           1.4795918367346936,
           0.37755102040816324,
           0.8673469387755102,
           1.5357142857142856,
           0.4336734693877551,
           0.9234693877551019,
           1.6020408163265305,
           0.5,
           0.9897959183673468,
           1.6785714285714284,
           0.5765306122448979,
           1.066326530612245,
           1.7653061224489794,
           0.6632653061224489,
           1.1530612244897958,
           1.8622448979591835,
           0.760204081632653,
           1.2499999999999998,
           1.9693877551020407,
           0.8673469387755102,
           1.357142857142857,
           2.086734693877551,
           0.9846938775510203,
           1.4744897959183672,
           2.214285714285714,
           1.1122448979591835,
           1.6020408163265305,
           2.3520408163265305,
           1.25,
           1.7397959183673468,
           0.25,
           1.1275510204081631,
           0.9183673469387754,
           0.25510204081632654,
           1.1326530612244898,
           0.9234693877551019,
           0.27040816326530615,
           1.1479591836734693,
           0.9387755102040816,
           0.29591836734693877,
           1.1734693877551021,
           0.9642857142857142,
           0.33163265306122447,
           1.2091836734693877,
           0.9999999999999999,
           0.37755102040816324,
           1.2551020408163265,
           1.0459183673469385,
           0.4336734693877551,
           1.3112244897959182,
           1.1020408163265305,
           0.5,
           1.3775510204081631,
           1.1683673469387754,
           0.5765306122448979,
           1.4540816326530612,
           1.2448979591836733,
           0.6632653061224489,
           1.540816326530612,
           1.3316326530612244,
           0.760204081632653,
           1.637755102040816,
           1.4285714285714284,
           0.8673469387755102,
           1.7448979591836733,
           1.5357142857142856,
           0.9846938775510203,
           1.8622448979591835,
           1.6530612244897958,
           1.1122448979591835,
           1.9897959183673468,
           1.7806122448979589,
           1.25,
           2.127551020408163,
           1.9183673469387754,
           0.8673469387755102,
           0.13265306122448978,
           0.25510204081632654,
           0.8724489795918366,
           0.1377551020408163,
           0.2602040816326531,
           0.8877551020408163,
           0.1530612244897959,
           0.2755102040816327,
           0.9132653061224489,
           0.17857142857142855,
           0.3010204081632653,
           0.9489795918367346,
           0.21428571428571425,
           0.336734693877551,
           0.9948979591836734,
           0.260204081632653,
           0.3826530612244898,
           1.0510204081632653,
           0.31632653061224486,
           0.4387755102040816,
           1.1173469387755102,
           0.3826530612244898,
           0.5051020408163265,
           1.193877551020408,
           0.4591836734693877,
           0.5816326530612245,
           1.280612244897959,
           0.5459183673469387,
           0.6683673469387754,
           1.3775510204081631,
           0.6428571428571428,
           0.7653061224489794,
           1.4846938775510203,
           0.75,
           0.8724489795918366,
           1.6020408163265305,
           0.8673469387755102,
           0.9897959183673468,
           1.7295918367346936,
           0.9948979591836733,
           1.1173469387755102,
           1.8673469387755102,
           1.1326530612244898,
           1.2551020408163265
          ],
          "colorbar": {
           "title": {
            "text": "Function Value"
           }
          },
          "colorscale": [
           [
            0,
            "#440154"
           ],
           [
            0.1111111111111111,
            "#482878"
           ],
           [
            0.2222222222222222,
            "#3e4989"
           ],
           [
            0.3333333333333333,
            "#31688e"
           ],
           [
            0.4444444444444444,
            "#26828e"
           ],
           [
            0.5555555555555556,
            "#1f9e89"
           ],
           [
            0.6666666666666666,
            "#35b779"
           ],
           [
            0.7777777777777778,
            "#6ece58"
           ],
           [
            0.8888888888888888,
            "#b5de2b"
           ],
           [
            1,
            "#fde725"
           ]
          ],
          "size": 5
         },
         "mode": "markers",
         "type": "scatter3d",
         "x": [
          0.42857142857142855,
          0.42857142857142855,
          0.42857142857142855,
          0.42857142857142855,
          0.42857142857142855,
          0.42857142857142855,
          0.42857142857142855,
          0.42857142857142855,
          0.42857142857142855,
          0.5,
          0.5,
          0.5,
          0.5,
          0.5,
          0.5,
          0.5,
          0.5,
          0.5,
          0.3571428571428571,
          0.3571428571428571,
          0.3571428571428571,
          0.3571428571428571,
          0.3571428571428571,
          0.3571428571428571,
          0.3571428571428571,
          0.3571428571428571,
          0.3571428571428571,
          0,
          0,
          0,
          0.07142857142857142,
          0.07142857142857142,
          0.07142857142857142,
          0.14285714285714285,
          0.14285714285714285,
          0.14285714285714285,
          0.21428571428571427,
          0.21428571428571427,
          0.21428571428571427,
          0.2857142857142857,
          0.2857142857142857,
          0.2857142857142857,
          0.3571428571428571,
          0.3571428571428571,
          0.3571428571428571,
          0.42857142857142855,
          0.42857142857142855,
          0.42857142857142855,
          0.5,
          0.5,
          0.5,
          0.5714285714285714,
          0.5714285714285714,
          0.5714285714285714,
          0.6428571428571428,
          0.6428571428571428,
          0.6428571428571428,
          0.7142857142857142,
          0.7142857142857142,
          0.7142857142857142,
          0.7857142857142857,
          0.7857142857142857,
          0.7857142857142857,
          0.8571428571428571,
          0.8571428571428571,
          0.8571428571428571,
          0.9285714285714285,
          0.9285714285714285,
          0.9285714285714285,
          1,
          1,
          1,
          0.5,
          0.3571428571428571,
          0.42857142857142855,
          0.5,
          0.3571428571428571,
          0.42857142857142855,
          0.5,
          0.3571428571428571,
          0.42857142857142855,
          0.5,
          0.3571428571428571,
          0.42857142857142855,
          0.5,
          0.3571428571428571,
          0.42857142857142855,
          0.5,
          0.3571428571428571,
          0.42857142857142855,
          0.5,
          0.3571428571428571,
          0.42857142857142855,
          0.5,
          0.3571428571428571,
          0.42857142857142855,
          0.5,
          0.3571428571428571,
          0.42857142857142855,
          0.5,
          0.3571428571428571,
          0.42857142857142855,
          0.5,
          0.3571428571428571,
          0.42857142857142855,
          0.5,
          0.3571428571428571,
          0.42857142857142855,
          0.5,
          0.3571428571428571,
          0.42857142857142855,
          0.5,
          0.3571428571428571,
          0.42857142857142855,
          0.5,
          0.3571428571428571,
          0.42857142857142855,
          0.5,
          0.3571428571428571,
          0.5,
          0.5,
          0.3571428571428571,
          0.5,
          0.5,
          0.3571428571428571,
          0.5,
          0.5,
          0.3571428571428571,
          0.5,
          0.5,
          0.3571428571428571,
          0.5,
          0.5,
          0.3571428571428571,
          0.5,
          0.5,
          0.3571428571428571,
          0.5,
          0.5,
          0.3571428571428571,
          0.5,
          0.5,
          0.3571428571428571,
          0.5,
          0.5,
          0.3571428571428571,
          0.5,
          0.5,
          0.3571428571428571,
          0.5,
          0.5,
          0.3571428571428571,
          0.5,
          0.5,
          0.3571428571428571,
          0.5,
          0.5,
          0.3571428571428571,
          0.5,
          0.5,
          0.3571428571428571,
          0.5
         ],
         "y": [
          0.07142857142857142,
          0.07142857142857142,
          0.07142857142857142,
          0.7857142857142857,
          0.7857142857142857,
          0.7857142857142857,
          0.5,
          0.5,
          0.5,
          0.07142857142857142,
          0.07142857142857142,
          0.07142857142857142,
          0.7857142857142857,
          0.7857142857142857,
          0.7857142857142857,
          0.5,
          0.5,
          0.5,
          0.07142857142857142,
          0.07142857142857142,
          0.07142857142857142,
          0.7857142857142857,
          0.7857142857142857,
          0.7857142857142857,
          0.5,
          0.5,
          0.5,
          0.7857142857142857,
          0.5,
          0.07142857142857142,
          0.7857142857142857,
          0.5,
          0.07142857142857142,
          0.7857142857142857,
          0.5,
          0.07142857142857142,
          0.7857142857142857,
          0.5,
          0.07142857142857142,
          0.7857142857142857,
          0.5,
          0.07142857142857142,
          0.7857142857142857,
          0.5,
          0.07142857142857142,
          0.7857142857142857,
          0.5,
          0.07142857142857142,
          0.7857142857142857,
          0.5,
          0.07142857142857142,
          0.7857142857142857,
          0.5,
          0.07142857142857142,
          0.7857142857142857,
          0.5,
          0.07142857142857142,
          0.7857142857142857,
          0.5,
          0.07142857142857142,
          0.7857142857142857,
          0.5,
          0.07142857142857142,
          0.7857142857142857,
          0.5,
          0.07142857142857142,
          0.7857142857142857,
          0.5,
          0.07142857142857142,
          0.7857142857142857,
          0.5,
          0.07142857142857142,
          0,
          0,
          0,
          0.07142857142857142,
          0.07142857142857142,
          0.07142857142857142,
          0.14285714285714285,
          0.14285714285714285,
          0.14285714285714285,
          0.21428571428571427,
          0.21428571428571427,
          0.21428571428571427,
          0.2857142857142857,
          0.2857142857142857,
          0.2857142857142857,
          0.3571428571428571,
          0.3571428571428571,
          0.3571428571428571,
          0.42857142857142855,
          0.42857142857142855,
          0.42857142857142855,
          0.5,
          0.5,
          0.5,
          0.5714285714285714,
          0.5714285714285714,
          0.5714285714285714,
          0.6428571428571428,
          0.6428571428571428,
          0.6428571428571428,
          0.7142857142857142,
          0.7142857142857142,
          0.7142857142857142,
          0.7857142857142857,
          0.7857142857142857,
          0.7857142857142857,
          0.8571428571428571,
          0.8571428571428571,
          0.8571428571428571,
          0.9285714285714285,
          0.9285714285714285,
          0.9285714285714285,
          1,
          1,
          1,
          0.7857142857142857,
          0.07142857142857142,
          0.07142857142857142,
          0.7857142857142857,
          0.07142857142857142,
          0.07142857142857142,
          0.7857142857142857,
          0.07142857142857142,
          0.07142857142857142,
          0.7857142857142857,
          0.07142857142857142,
          0.07142857142857142,
          0.7857142857142857,
          0.07142857142857142,
          0.07142857142857142,
          0.7857142857142857,
          0.07142857142857142,
          0.07142857142857142,
          0.7857142857142857,
          0.07142857142857142,
          0.07142857142857142,
          0.7857142857142857,
          0.07142857142857142,
          0.07142857142857142,
          0.7857142857142857,
          0.07142857142857142,
          0.07142857142857142,
          0.7857142857142857,
          0.07142857142857142,
          0.07142857142857142,
          0.7857142857142857,
          0.07142857142857142,
          0.07142857142857142,
          0.7857142857142857,
          0.07142857142857142,
          0.07142857142857142,
          0.7857142857142857,
          0.07142857142857142,
          0.07142857142857142,
          0.7857142857142857,
          0.07142857142857142,
          0.07142857142857142,
          0.7857142857142857,
          0.07142857142857142,
          0.07142857142857142
         ],
         "z": [
          0.8571428571428571,
          1,
          0,
          0.8571428571428571,
          1,
          0,
          0.8571428571428571,
          1,
          0,
          0.8571428571428571,
          1,
          0,
          0.8571428571428571,
          1,
          0,
          0.8571428571428571,
          1,
          0,
          0.8571428571428571,
          1,
          0,
          0.8571428571428571,
          1,
          0,
          0.8571428571428571,
          1,
          0,
          0.8571428571428571,
          0,
          0.8571428571428571,
          0.8571428571428571,
          0,
          0.8571428571428571,
          0.8571428571428571,
          0,
          0.8571428571428571,
          0.8571428571428571,
          0,
          0.8571428571428571,
          0.8571428571428571,
          0,
          0.8571428571428571,
          0.8571428571428571,
          0,
          0.8571428571428571,
          0.8571428571428571,
          0,
          0.8571428571428571,
          0.8571428571428571,
          0,
          0.8571428571428571,
          0.8571428571428571,
          0,
          0.8571428571428571,
          0.8571428571428571,
          0,
          0.8571428571428571,
          0.8571428571428571,
          0,
          0.8571428571428571,
          0.8571428571428571,
          0,
          0.8571428571428571,
          0.8571428571428571,
          0,
          0.8571428571428571,
          0.8571428571428571,
          0,
          0.8571428571428571,
          0.8571428571428571,
          0,
          0.8571428571428571,
          0,
          1,
          0.8571428571428571,
          0,
          1,
          0.8571428571428571,
          0,
          1,
          0.8571428571428571,
          0,
          1,
          0.8571428571428571,
          0,
          1,
          0.8571428571428571,
          0,
          1,
          0.8571428571428571,
          0,
          1,
          0.8571428571428571,
          0,
          1,
          0.8571428571428571,
          0,
          1,
          0.8571428571428571,
          0,
          1,
          0.8571428571428571,
          0,
          1,
          0.8571428571428571,
          0,
          1,
          0.8571428571428571,
          0,
          1,
          0.8571428571428571,
          0,
          1,
          0.8571428571428571,
          0,
          1,
          0.8571428571428571,
          0,
          0,
          0,
          0.07142857142857142,
          0.07142857142857142,
          0.07142857142857142,
          0.14285714285714285,
          0.14285714285714285,
          0.14285714285714285,
          0.21428571428571427,
          0.21428571428571427,
          0.21428571428571427,
          0.2857142857142857,
          0.2857142857142857,
          0.2857142857142857,
          0.3571428571428571,
          0.3571428571428571,
          0.3571428571428571,
          0.42857142857142855,
          0.42857142857142855,
          0.42857142857142855,
          0.5,
          0.5,
          0.5,
          0.5714285714285714,
          0.5714285714285714,
          0.5714285714285714,
          0.6428571428571428,
          0.6428571428571428,
          0.6428571428571428,
          0.7142857142857142,
          0.7142857142857142,
          0.7142857142857142,
          0.7857142857142857,
          0.7857142857142857,
          0.7857142857142857,
          0.8571428571428571,
          0.8571428571428571,
          0.8571428571428571,
          0.9285714285714285,
          0.9285714285714285,
          0.9285714285714285,
          1,
          1,
          1
         ]
        }
       ],
       "layout": {
        "margin": {
         "b": 0,
         "l": 0,
         "r": 0,
         "t": 0
        },
        "scene": {
         "aspectmode": "cube",
         "xaxis": {
          "autorange": false,
          "range": [
           0,
           1
          ],
          "title": {
           "text": "X Axis"
          }
         },
         "yaxis": {
          "autorange": false,
          "range": [
           0,
           1
          ],
          "title": {
           "text": "Y Axis"
          }
         },
         "zaxis": {
          "autorange": false,
          "range": [
           0,
           1
          ],
          "title": {
           "text": "Z Axis"
          }
         }
        },
        "template": {
         "data": {
          "bar": [
           {
            "error_x": {
             "color": "#2a3f5f"
            },
            "error_y": {
             "color": "#2a3f5f"
            },
            "marker": {
             "line": {
              "color": "#E5ECF6",
              "width": 0.5
             },
             "pattern": {
              "fillmode": "overlay",
              "size": 10,
              "solidity": 0.2
             }
            },
            "type": "bar"
           }
          ],
          "barpolar": [
           {
            "marker": {
             "line": {
              "color": "#E5ECF6",
              "width": 0.5
             },
             "pattern": {
              "fillmode": "overlay",
              "size": 10,
              "solidity": 0.2
             }
            },
            "type": "barpolar"
           }
          ],
          "carpet": [
           {
            "aaxis": {
             "endlinecolor": "#2a3f5f",
             "gridcolor": "white",
             "linecolor": "white",
             "minorgridcolor": "white",
             "startlinecolor": "#2a3f5f"
            },
            "baxis": {
             "endlinecolor": "#2a3f5f",
             "gridcolor": "white",
             "linecolor": "white",
             "minorgridcolor": "white",
             "startlinecolor": "#2a3f5f"
            },
            "type": "carpet"
           }
          ],
          "choropleth": [
           {
            "colorbar": {
             "outlinewidth": 0,
             "ticks": ""
            },
            "type": "choropleth"
           }
          ],
          "contour": [
           {
            "colorbar": {
             "outlinewidth": 0,
             "ticks": ""
            },
            "colorscale": [
             [
              0,
              "#0d0887"
             ],
             [
              0.1111111111111111,
              "#46039f"
             ],
             [
              0.2222222222222222,
              "#7201a8"
             ],
             [
              0.3333333333333333,
              "#9c179e"
             ],
             [
              0.4444444444444444,
              "#bd3786"
             ],
             [
              0.5555555555555556,
              "#d8576b"
             ],
             [
              0.6666666666666666,
              "#ed7953"
             ],
             [
              0.7777777777777778,
              "#fb9f3a"
             ],
             [
              0.8888888888888888,
              "#fdca26"
             ],
             [
              1,
              "#f0f921"
             ]
            ],
            "type": "contour"
           }
          ],
          "contourcarpet": [
           {
            "colorbar": {
             "outlinewidth": 0,
             "ticks": ""
            },
            "type": "contourcarpet"
           }
          ],
          "heatmap": [
           {
            "colorbar": {
             "outlinewidth": 0,
             "ticks": ""
            },
            "colorscale": [
             [
              0,
              "#0d0887"
             ],
             [
              0.1111111111111111,
              "#46039f"
             ],
             [
              0.2222222222222222,
              "#7201a8"
             ],
             [
              0.3333333333333333,
              "#9c179e"
             ],
             [
              0.4444444444444444,
              "#bd3786"
             ],
             [
              0.5555555555555556,
              "#d8576b"
             ],
             [
              0.6666666666666666,
              "#ed7953"
             ],
             [
              0.7777777777777778,
              "#fb9f3a"
             ],
             [
              0.8888888888888888,
              "#fdca26"
             ],
             [
              1,
              "#f0f921"
             ]
            ],
            "type": "heatmap"
           }
          ],
          "heatmapgl": [
           {
            "colorbar": {
             "outlinewidth": 0,
             "ticks": ""
            },
            "colorscale": [
             [
              0,
              "#0d0887"
             ],
             [
              0.1111111111111111,
              "#46039f"
             ],
             [
              0.2222222222222222,
              "#7201a8"
             ],
             [
              0.3333333333333333,
              "#9c179e"
             ],
             [
              0.4444444444444444,
              "#bd3786"
             ],
             [
              0.5555555555555556,
              "#d8576b"
             ],
             [
              0.6666666666666666,
              "#ed7953"
             ],
             [
              0.7777777777777778,
              "#fb9f3a"
             ],
             [
              0.8888888888888888,
              "#fdca26"
             ],
             [
              1,
              "#f0f921"
             ]
            ],
            "type": "heatmapgl"
           }
          ],
          "histogram": [
           {
            "marker": {
             "pattern": {
              "fillmode": "overlay",
              "size": 10,
              "solidity": 0.2
             }
            },
            "type": "histogram"
           }
          ],
          "histogram2d": [
           {
            "colorbar": {
             "outlinewidth": 0,
             "ticks": ""
            },
            "colorscale": [
             [
              0,
              "#0d0887"
             ],
             [
              0.1111111111111111,
              "#46039f"
             ],
             [
              0.2222222222222222,
              "#7201a8"
             ],
             [
              0.3333333333333333,
              "#9c179e"
             ],
             [
              0.4444444444444444,
              "#bd3786"
             ],
             [
              0.5555555555555556,
              "#d8576b"
             ],
             [
              0.6666666666666666,
              "#ed7953"
             ],
             [
              0.7777777777777778,
              "#fb9f3a"
             ],
             [
              0.8888888888888888,
              "#fdca26"
             ],
             [
              1,
              "#f0f921"
             ]
            ],
            "type": "histogram2d"
           }
          ],
          "histogram2dcontour": [
           {
            "colorbar": {
             "outlinewidth": 0,
             "ticks": ""
            },
            "colorscale": [
             [
              0,
              "#0d0887"
             ],
             [
              0.1111111111111111,
              "#46039f"
             ],
             [
              0.2222222222222222,
              "#7201a8"
             ],
             [
              0.3333333333333333,
              "#9c179e"
             ],
             [
              0.4444444444444444,
              "#bd3786"
             ],
             [
              0.5555555555555556,
              "#d8576b"
             ],
             [
              0.6666666666666666,
              "#ed7953"
             ],
             [
              0.7777777777777778,
              "#fb9f3a"
             ],
             [
              0.8888888888888888,
              "#fdca26"
             ],
             [
              1,
              "#f0f921"
             ]
            ],
            "type": "histogram2dcontour"
           }
          ],
          "mesh3d": [
           {
            "colorbar": {
             "outlinewidth": 0,
             "ticks": ""
            },
            "type": "mesh3d"
           }
          ],
          "parcoords": [
           {
            "line": {
             "colorbar": {
              "outlinewidth": 0,
              "ticks": ""
             }
            },
            "type": "parcoords"
           }
          ],
          "pie": [
           {
            "automargin": true,
            "type": "pie"
           }
          ],
          "scatter": [
           {
            "fillpattern": {
             "fillmode": "overlay",
             "size": 10,
             "solidity": 0.2
            },
            "type": "scatter"
           }
          ],
          "scatter3d": [
           {
            "line": {
             "colorbar": {
              "outlinewidth": 0,
              "ticks": ""
             }
            },
            "marker": {
             "colorbar": {
              "outlinewidth": 0,
              "ticks": ""
             }
            },
            "type": "scatter3d"
           }
          ],
          "scattercarpet": [
           {
            "marker": {
             "colorbar": {
              "outlinewidth": 0,
              "ticks": ""
             }
            },
            "type": "scattercarpet"
           }
          ],
          "scattergeo": [
           {
            "marker": {
             "colorbar": {
              "outlinewidth": 0,
              "ticks": ""
             }
            },
            "type": "scattergeo"
           }
          ],
          "scattergl": [
           {
            "marker": {
             "colorbar": {
              "outlinewidth": 0,
              "ticks": ""
             }
            },
            "type": "scattergl"
           }
          ],
          "scattermapbox": [
           {
            "marker": {
             "colorbar": {
              "outlinewidth": 0,
              "ticks": ""
             }
            },
            "type": "scattermapbox"
           }
          ],
          "scatterpolar": [
           {
            "marker": {
             "colorbar": {
              "outlinewidth": 0,
              "ticks": ""
             }
            },
            "type": "scatterpolar"
           }
          ],
          "scatterpolargl": [
           {
            "marker": {
             "colorbar": {
              "outlinewidth": 0,
              "ticks": ""
             }
            },
            "type": "scatterpolargl"
           }
          ],
          "scatterternary": [
           {
            "marker": {
             "colorbar": {
              "outlinewidth": 0,
              "ticks": ""
             }
            },
            "type": "scatterternary"
           }
          ],
          "surface": [
           {
            "colorbar": {
             "outlinewidth": 0,
             "ticks": ""
            },
            "colorscale": [
             [
              0,
              "#0d0887"
             ],
             [
              0.1111111111111111,
              "#46039f"
             ],
             [
              0.2222222222222222,
              "#7201a8"
             ],
             [
              0.3333333333333333,
              "#9c179e"
             ],
             [
              0.4444444444444444,
              "#bd3786"
             ],
             [
              0.5555555555555556,
              "#d8576b"
             ],
             [
              0.6666666666666666,
              "#ed7953"
             ],
             [
              0.7777777777777778,
              "#fb9f3a"
             ],
             [
              0.8888888888888888,
              "#fdca26"
             ],
             [
              1,
              "#f0f921"
             ]
            ],
            "type": "surface"
           }
          ],
          "table": [
           {
            "cells": {
             "fill": {
              "color": "#EBF0F8"
             },
             "line": {
              "color": "white"
             }
            },
            "header": {
             "fill": {
              "color": "#C8D4E3"
             },
             "line": {
              "color": "white"
             }
            },
            "type": "table"
           }
          ]
         },
         "layout": {
          "annotationdefaults": {
           "arrowcolor": "#2a3f5f",
           "arrowhead": 0,
           "arrowwidth": 1
          },
          "autotypenumbers": "strict",
          "coloraxis": {
           "colorbar": {
            "outlinewidth": 0,
            "ticks": ""
           }
          },
          "colorscale": {
           "diverging": [
            [
             0,
             "#8e0152"
            ],
            [
             0.1,
             "#c51b7d"
            ],
            [
             0.2,
             "#de77ae"
            ],
            [
             0.3,
             "#f1b6da"
            ],
            [
             0.4,
             "#fde0ef"
            ],
            [
             0.5,
             "#f7f7f7"
            ],
            [
             0.6,
             "#e6f5d0"
            ],
            [
             0.7,
             "#b8e186"
            ],
            [
             0.8,
             "#7fbc41"
            ],
            [
             0.9,
             "#4d9221"
            ],
            [
             1,
             "#276419"
            ]
           ],
           "sequential": [
            [
             0,
             "#0d0887"
            ],
            [
             0.1111111111111111,
             "#46039f"
            ],
            [
             0.2222222222222222,
             "#7201a8"
            ],
            [
             0.3333333333333333,
             "#9c179e"
            ],
            [
             0.4444444444444444,
             "#bd3786"
            ],
            [
             0.5555555555555556,
             "#d8576b"
            ],
            [
             0.6666666666666666,
             "#ed7953"
            ],
            [
             0.7777777777777778,
             "#fb9f3a"
            ],
            [
             0.8888888888888888,
             "#fdca26"
            ],
            [
             1,
             "#f0f921"
            ]
           ],
           "sequentialminus": [
            [
             0,
             "#0d0887"
            ],
            [
             0.1111111111111111,
             "#46039f"
            ],
            [
             0.2222222222222222,
             "#7201a8"
            ],
            [
             0.3333333333333333,
             "#9c179e"
            ],
            [
             0.4444444444444444,
             "#bd3786"
            ],
            [
             0.5555555555555556,
             "#d8576b"
            ],
            [
             0.6666666666666666,
             "#ed7953"
            ],
            [
             0.7777777777777778,
             "#fb9f3a"
            ],
            [
             0.8888888888888888,
             "#fdca26"
            ],
            [
             1,
             "#f0f921"
            ]
           ]
          },
          "colorway": [
           "#636efa",
           "#EF553B",
           "#00cc96",
           "#ab63fa",
           "#FFA15A",
           "#19d3f3",
           "#FF6692",
           "#B6E880",
           "#FF97FF",
           "#FECB52"
          ],
          "font": {
           "color": "#2a3f5f"
          },
          "geo": {
           "bgcolor": "white",
           "lakecolor": "white",
           "landcolor": "#E5ECF6",
           "showlakes": true,
           "showland": true,
           "subunitcolor": "white"
          },
          "hoverlabel": {
           "align": "left"
          },
          "hovermode": "closest",
          "mapbox": {
           "style": "light"
          },
          "paper_bgcolor": "white",
          "plot_bgcolor": "#E5ECF6",
          "polar": {
           "angularaxis": {
            "gridcolor": "white",
            "linecolor": "white",
            "ticks": ""
           },
           "bgcolor": "#E5ECF6",
           "radialaxis": {
            "gridcolor": "white",
            "linecolor": "white",
            "ticks": ""
           }
          },
          "scene": {
           "xaxis": {
            "backgroundcolor": "#E5ECF6",
            "gridcolor": "white",
            "gridwidth": 2,
            "linecolor": "white",
            "showbackground": true,
            "ticks": "",
            "zerolinecolor": "white"
           },
           "yaxis": {
            "backgroundcolor": "#E5ECF6",
            "gridcolor": "white",
            "gridwidth": 2,
            "linecolor": "white",
            "showbackground": true,
            "ticks": "",
            "zerolinecolor": "white"
           },
           "zaxis": {
            "backgroundcolor": "#E5ECF6",
            "gridcolor": "white",
            "gridwidth": 2,
            "linecolor": "white",
            "showbackground": true,
            "ticks": "",
            "zerolinecolor": "white"
           }
          },
          "shapedefaults": {
           "line": {
            "color": "#2a3f5f"
           }
          },
          "ternary": {
           "aaxis": {
            "gridcolor": "white",
            "linecolor": "white",
            "ticks": ""
           },
           "baxis": {
            "gridcolor": "white",
            "linecolor": "white",
            "ticks": ""
           },
           "bgcolor": "#E5ECF6",
           "caxis": {
            "gridcolor": "white",
            "linecolor": "white",
            "ticks": ""
           }
          },
          "title": {
           "x": 0.05
          },
          "xaxis": {
           "automargin": true,
           "gridcolor": "white",
           "linecolor": "white",
           "ticks": "",
           "title": {
            "standoff": 15
           },
           "zerolinecolor": "white",
           "zerolinewidth": 2
          },
          "yaxis": {
           "automargin": true,
           "gridcolor": "white",
           "linecolor": "white",
           "ticks": "",
           "title": {
            "standoff": 15
           },
           "zerolinecolor": "white",
           "zerolinewidth": 2
          }
         }
        }
       }
      }
     },
     "metadata": {},
     "output_type": "display_data"
    }
   ],
   "source": [
    "gs = [a_up, b_up, c_down]\n",
    "new_c_up = maxvol_grids(gs, fun)\n",
    "\n",
    "A = (grids[0] @ a_down).permute()\n",
    "B = (grids[1] @ b_down).permute()\n",
    "C = (grids[2] @ new_c_up).permute()\n",
    "L = (a_up @ b_up @ c_down).permute()\n",
    "\n",
    "# combine them into a single grid\n",
    "xyz = L + A + B + C \n",
    "f = xyz.evaluate(fun)\n",
    "from qutree.plot import plot_xyz\n",
    "plot_xyz(xyz, f)"
   ]
  },
  {
   "cell_type": "code",
   "execution_count": null,
   "metadata": {},
   "outputs": [
    {
     "name": "stdout",
     "output_type": "stream",
     "text": [
      "[[0, 1, 2, 3, 4, 5, 6, 7, 8, 9], [0, 1, 2, 3, 4, 5, 6, 7, 8, 9]]\n"
     ]
    }
   ],
   "source": [
    "print([[*range(10)]] * 2)"
   ]
  },
  {
   "cell_type": "code",
   "execution_count": null,
   "metadata": {},
   "outputs": [
    {
     "data": {
      "application/vnd.plotly.v1+json": {
       "config": {
        "plotlyServerURL": "https://plot.ly"
       },
       "data": [
        {
         "marker": {
          "color": [
           0.8781163434903047,
           0.3130193905817174,
           0.6426592797783932,
           1.343490304709141,
           0.8808864265927977,
           0.3157894736842105,
           0.6454293628808864,
           1.346260387811634,
           0.889196675900277,
           0.3240997229916897,
           0.6537396121883656,
           1.3545706371191133,
           0.9030470914127423,
           0.33795013850415506,
           0.667590027700831,
           1.3684210526315788,
           0.9224376731301939,
           0.35734072022160657,
           0.6869806094182824,
           1.3878116343490303,
           0.9473684210526315,
           0.3822714681440443,
           0.7119113573407201,
           1.412742382271468,
           0.9778393351800554,
           0.4127423822714681,
           0.742382271468144,
           1.4432132963988917,
           1.0138504155124652,
           0.44875346260387805,
           0.7783933518005539,
           1.4792243767313016,
           1.0554016620498614,
           0.49030470914127416,
           0.8199445983379501,
           1.5207756232686978,
           1.1024930747922437,
           0.5373961218836565,
           0.8670360110803323,
           1.56786703601108,
           1.155124653739612,
           0.5900277008310248,
           0.9196675900277007,
           1.6204986149584484,
           1.2132963988919667,
           0.6481994459833795,
           0.9778393351800554,
           1.678670360110803,
           1.2770083102493075,
           0.7119113573407202,
           1.041551246537396,
           1.7423822714681438,
           1.3462603878116342,
           0.7811634349030468,
           1.1108033240997228,
           1.8116343490304705,
           1.4210526315789473,
           0.85595567867036,
           1.1855955678670358,
           1.8864265927977837,
           1.5013850415512464,
           0.9362880886426593,
           1.265927977839335,
           1.9667590027700828,
           1.5872576177285318,
           1.0221606648199444,
           1.3518005540166202,
           2.052631578947368,
           1.678670360110803,
           1.1135734072022156,
           1.4432132963988917,
           2.1440443213296394,
           1.7756232686980609,
           1.2105263157894735,
           1.5401662049861493,
           2.240997229916897,
           1.8781163434903048,
           1.3130193905817173,
           1.6426592797783932,
           2.3434903047091407,
           0.7340720221606648,
           0.9418282548476453,
           0.5761772853185595,
           0.4681440443213296,
           0.9584487534626039,
           1.1662049861495845,
           0.8005540166204986,
           0.6925207756232687,
           0.3462603878116344,
           0.5540166204986149,
           0.18836565096952906,
           0.08033240997229915,
           0.6703601108033241,
           0.8781163434903047,
           0.5124653739612188,
           0.40443213296398894,
           0.7368421052631579,
           0.9445983379501384,
           0.5789473684210525,
           0.47091412742382266,
           0.961218836565097,
           1.1689750692520775,
           0.8033240997229917,
           0.6952908587257618,
           0.3490304709141274,
           0.5567867036011079,
           0.19113573407202214,
           0.08310249307479223,
           0.6731301939058172,
           0.8808864265927977,
           0.5152354570637119,
           0.407202216066482,
           0.7451523545706371,
           0.9529085872576176,
           0.5872576177285318,
           0.4792243767313019,
           0.9695290858725762,
           1.1772853185595569,
           0.8116343490304709,
           0.703601108033241,
           0.3573407202216067,
           0.5650969529085872,
           0.19944598337950137,
           0.09141274238227146,
           0.6814404432132964,
           0.889196675900277,
           0.5235457063711911,
           0.41551246537396125,
           0.7590027700831025,
           0.966759002770083,
           0.6011080332409972,
           0.49307479224376727,
           0.9833795013850416,
           1.1911357340720221,
           0.8254847645429363,
           0.7174515235457064,
           0.37119113573407203,
           0.5789473684210525,
           0.21329639889196672,
           0.10526315789473684,
           0.6952908587257618,
           0.9030470914127423,
           0.5373961218836565,
           0.4293628808864266,
           0.778393351800554,
           0.9861495844875345,
           0.6204986149584487,
           0.5124653739612188,
           1.0027700831024933,
           1.2105263157894737,
           0.8448753462603878,
           0.736842105263158,
           0.39058171745152354,
           0.5983379501385041,
           0.23268698060941825,
           0.12465373961218834,
           0.7146814404432134,
           0.9224376731301939,
           0.556786703601108,
           0.44875346260387816,
           0.8033240997229917,
           1.0110803324099722,
           0.6454293628808864,
           0.5373961218836565,
           1.027700831024931,
           1.2354570637119113,
           0.8698060941828255,
           0.7617728531855956,
           0.41551246537396125,
           0.6232686980609418,
           0.25761772853185594,
           0.149584487534626,
           0.739612188365651,
           0.9473684210526315,
           0.5817174515235457,
           0.4736842105263158,
           0.8337950138504155,
           1.041551246537396,
           0.6759002770083102,
           0.5678670360110802,
           1.0581717451523547,
           1.265927977839335,
           0.9002770083102493,
           0.7922437673130194,
           0.44598337950138506,
           0.6537396121883656,
           0.28808864265927975,
           0.18005540166204986,
           0.7700831024930748,
           0.9778393351800554,
           0.6121883656509695,
           0.5041551246537396,
           0.8698060941828255,
           1.077562326869806,
           0.7119113573407202,
           0.6038781163434903,
           1.0941828254847645,
           1.3019390581717452,
           0.9362880886426593,
           0.8282548476454294,
           0.481994459833795,
           0.6897506925207755,
           0.3240997229916897,
           0.21606648199445982,
           0.8060941828254848,
           1.0138504155124652,
           0.6481994459833795,
           0.5401662049861495,
           0.9113573407202216,
           1.1191135734072022,
           0.7534626038781163,
           0.6454293628808864,
           1.1357340720221607,
           1.343490304709141,
           0.9778393351800554,
           0.8698060941828255,
           0.5235457063711911,
           0.7313019390581716,
           0.3656509695290858,
           0.25761772853185594,
           0.8476454293628809,
           1.0554016620498614,
           0.6897506925207756,
           0.5817174515235457,
           0.9584487534626038,
           1.1662049861495842,
           0.8005540166204985,
           0.6925207756232686,
           1.182825484764543,
           1.3905817174515236,
           1.0249307479224377,
           0.9168975069252078,
           0.5706371191135734,
           0.7783933518005539,
           0.4127423822714681,
           0.3047091412742382,
           0.8947368421052632,
           1.1024930747922437,
           0.7368421052631579,
           0.628808864265928,
           1.0110803324099722,
           1.2188365650969528,
           0.853185595567867,
           0.7451523545706371,
           1.2354570637119116,
           1.443213296398892,
           1.0775623268698062,
           0.9695290858725762,
           0.6232686980609419,
           0.8310249307479223,
           0.4653739612188365,
           0.3573407202216066,
           0.9473684210526315,
           1.155124653739612,
           0.7894736842105262,
           0.6814404432132963,
           1.0692520775623269,
           1.2770083102493075,
           0.9113573407202216,
           0.8033240997229917,
           1.293628808864266,
           1.5013850415512464,
           1.1357340720221607,
           1.0277008310249307,
           0.6814404432132964,
           0.889196675900277,
           0.5235457063711911,
           0.41551246537396125,
           1.005540166204986,
           1.2132963988919667,
           0.8476454293628809,
           0.739612188365651,
           1.1329639889196677,
           1.340720221606648,
           0.9750692520775622,
           0.8670360110803323,
           1.3573407202216066,
           1.5650969529085872,
           1.1994459833795013,
           1.0914127423822715,
           0.7451523545706371,
           0.9529085872576176,
           0.5872576177285318,
           0.4792243767313019,
           1.0692520775623269,
           1.2770083102493075,
           0.9113573407202216,
           0.8033240997229917,
           1.2022160664819943,
           1.4099722991689747,
           1.044321329639889,
           0.9362880886426591,
           1.4265927977839334,
           1.6343490304709138,
           1.2686980609418281,
           1.1606648199445981,
           0.8144044321329639,
           1.0221606648199444,
           0.6565096952908586,
           0.5484764542936287,
           1.1385041551246537,
           1.3462603878116342,
           0.9806094182825483,
           0.8725761772853184,
           1.2770083102493075,
           1.484764542936288,
           1.1191135734072022,
           1.0110803324099722,
           1.5013850415512464,
           1.709141274238227,
           1.343490304709141,
           1.2354570637119113,
           0.889196675900277,
           1.0969529085872574,
           0.7313019390581716,
           0.6232686980609418,
           1.2132963988919667,
           1.4210526315789473,
           1.0554016620498614,
           0.9473684210526315,
           1.3573407202216066,
           1.5650969529085872,
           1.1994459833795013,
           1.0914127423822715,
           1.581717451523546,
           1.7894736842105263,
           1.4238227146814406,
           1.3157894736842106,
           0.9695290858725762,
           1.1772853185595569,
           0.8116343490304709,
           0.703601108033241,
           1.293628808864266,
           1.5013850415512464,
           1.1357340720221607,
           1.0277008310249307,
           1.4432132963988917,
           1.6509695290858724,
           1.2853185595567864,
           1.1772853185595566,
           1.667590027700831,
           1.8753462603878115,
           1.5096952908587258,
           1.4016620498614958,
           1.0554016620498614,
           1.263157894736842,
           0.8975069252077561,
           0.7894736842105262,
           1.3795013850415514,
           1.5872576177285318,
           1.221606648199446,
           1.113573407202216,
           1.5346260387811634,
           1.7423822714681438,
           1.3767313019390581,
           1.2686980609418281,
           1.7590027700831024,
           1.9667590027700828,
           1.601108033240997,
           1.493074792243767,
           1.1468144044321327,
           1.3545706371191133,
           0.9889196675900275,
           0.8808864265927976,
           1.4709141274238227,
           1.678670360110803,
           1.3130193905817173,
           1.2049861495844874,
           1.6315789473684208,
           1.8393351800554014,
           1.4736842105263155,
           1.3656509695290857,
           1.8559556786703602,
           2.0637119113573403,
           1.6980609418282548,
           1.5900277008310248,
           1.2437673130193905,
           1.451523545706371,
           1.0858725761772852,
           0.9778393351800553,
           1.5678670360110805,
           1.7756232686980609,
           1.4099722991689752,
           1.3019390581717452,
           1.7340720221606647,
           1.9418282548476453,
           1.5761772853185594,
           1.4681440443213296,
           1.958448753462604,
           2.1662049861495847,
           1.8005540166204987,
           1.6925207756232687,
           1.3462603878116344,
           1.5540166204986148,
           1.188365650969529,
           1.080332409972299,
           1.6703601108033244,
           1.8781163434903048,
           1.512465373961219,
           1.404432132963989,
           0.11080332409972299,
           0.28808864265927975,
           0.40997229916897504,
           0.08033240997229915,
           0.11357340720221606,
           0.2908587257617728,
           0.4127423822714681,
           0.08310249307479223,
           0.12188365650969529,
           0.29916897506925205,
           0.42105263157894735,
           0.09141274238227146,
           0.13573407202216065,
           0.3130193905817174,
           0.4349030470914127,
           0.10526315789473682,
           0.15512465373961218,
           0.3324099722991689,
           0.45429362880886426,
           0.12465373961218834,
           0.18005540166204986,
           0.3573407202216066,
           0.4792243767313019,
           0.149584487534626,
           0.21052631578947367,
           0.38781163434903043,
           0.5096952908587258,
           0.18005540166204984,
           0.24653739612188363,
           0.4238227146814404,
           0.5457063711911356,
           0.2160664819944598,
           0.28808864265927975,
           0.4653739612188365,
           0.5872576177285318,
           0.25761772853185594,
           0.335180055401662,
           0.5124653739612188,
           0.6343490304709141,
           0.3047091412742382,
           0.38781163434903043,
           0.5650969529085872,
           0.6869806094182824,
           0.35734072022160657,
           0.44598337950138506,
           0.6232686980609419,
           0.7451523545706371,
           0.41551246537396125,
           0.5096952908587258,
           0.6869806094182824,
           0.8088642659279778,
           0.4792243767313019,
           0.5789473684210524,
           0.7562326869806093,
           0.8781163434903045,
           0.5484764542936287,
           0.6537396121883656,
           0.8310249307479223,
           0.9529085872576176,
           0.6232686980609418,
           0.7340720221606649,
           0.9113573407202216,
           1.033240997229917,
           0.703601108033241,
           0.8199445983379501,
           0.9972299168975067,
           1.1191135734072022,
           0.7894736842105262,
           0.9113573407202213,
           1.0886426592797782,
           1.2105263157894735,
           0.8808864265927976,
           1.0083102493074791,
           1.1855955678670358,
           1.3074792243767313,
           0.9778393351800553,
           1.110803324099723,
           1.2880886426592797,
           1.4099722991689752,
           1.080332409972299
          ],
          "colorbar": {
           "title": {
            "text": "Function Value"
           }
          },
          "colorscale": [
           [
            0,
            "#440154"
           ],
           [
            0.1111111111111111,
            "#482878"
           ],
           [
            0.2222222222222222,
            "#3e4989"
           ],
           [
            0.3333333333333333,
            "#31688e"
           ],
           [
            0.4444444444444444,
            "#26828e"
           ],
           [
            0.5555555555555556,
            "#1f9e89"
           ],
           [
            0.6666666666666666,
            "#35b779"
           ],
           [
            0.7777777777777778,
            "#6ece58"
           ],
           [
            0.8888888888888888,
            "#b5de2b"
           ],
           [
            1,
            "#fde725"
           ]
          ],
          "size": 5
         },
         "mode": "markers",
         "type": "scatter3d",
         "x": [
          0,
          0,
          0,
          0,
          0.05263157894736842,
          0.05263157894736842,
          0.05263157894736842,
          0.05263157894736842,
          0.10526315789473684,
          0.10526315789473684,
          0.10526315789473684,
          0.10526315789473684,
          0.15789473684210525,
          0.15789473684210525,
          0.15789473684210525,
          0.15789473684210525,
          0.21052631578947367,
          0.21052631578947367,
          0.21052631578947367,
          0.21052631578947367,
          0.2631578947368421,
          0.2631578947368421,
          0.2631578947368421,
          0.2631578947368421,
          0.3157894736842105,
          0.3157894736842105,
          0.3157894736842105,
          0.3157894736842105,
          0.3684210526315789,
          0.3684210526315789,
          0.3684210526315789,
          0.3684210526315789,
          0.42105263157894735,
          0.42105263157894735,
          0.42105263157894735,
          0.42105263157894735,
          0.47368421052631576,
          0.47368421052631576,
          0.47368421052631576,
          0.47368421052631576,
          0.5263157894736842,
          0.5263157894736842,
          0.5263157894736842,
          0.5263157894736842,
          0.5789473684210527,
          0.5789473684210527,
          0.5789473684210527,
          0.5789473684210527,
          0.631578947368421,
          0.631578947368421,
          0.631578947368421,
          0.631578947368421,
          0.6842105263157894,
          0.6842105263157894,
          0.6842105263157894,
          0.6842105263157894,
          0.7368421052631579,
          0.7368421052631579,
          0.7368421052631579,
          0.7368421052631579,
          0.7894736842105263,
          0.7894736842105263,
          0.7894736842105263,
          0.7894736842105263,
          0.8421052631578947,
          0.8421052631578947,
          0.8421052631578947,
          0.8421052631578947,
          0.894736842105263,
          0.894736842105263,
          0.894736842105263,
          0.894736842105263,
          0.9473684210526315,
          0.9473684210526315,
          0.9473684210526315,
          0.9473684210526315,
          1,
          1,
          1,
          1,
          0.631578947368421,
          0.631578947368421,
          0.631578947368421,
          0.631578947368421,
          0.7894736842105263,
          0.7894736842105263,
          0.7894736842105263,
          0.7894736842105263,
          0.10526315789473684,
          0.10526315789473684,
          0.10526315789473684,
          0.10526315789473684,
          0.5789473684210527,
          0.5789473684210527,
          0.5789473684210527,
          0.5789473684210527,
          0.631578947368421,
          0.631578947368421,
          0.631578947368421,
          0.631578947368421,
          0.7894736842105263,
          0.7894736842105263,
          0.7894736842105263,
          0.7894736842105263,
          0.10526315789473684,
          0.10526315789473684,
          0.10526315789473684,
          0.10526315789473684,
          0.5789473684210527,
          0.5789473684210527,
          0.5789473684210527,
          0.5789473684210527,
          0.631578947368421,
          0.631578947368421,
          0.631578947368421,
          0.631578947368421,
          0.7894736842105263,
          0.7894736842105263,
          0.7894736842105263,
          0.7894736842105263,
          0.10526315789473684,
          0.10526315789473684,
          0.10526315789473684,
          0.10526315789473684,
          0.5789473684210527,
          0.5789473684210527,
          0.5789473684210527,
          0.5789473684210527,
          0.631578947368421,
          0.631578947368421,
          0.631578947368421,
          0.631578947368421,
          0.7894736842105263,
          0.7894736842105263,
          0.7894736842105263,
          0.7894736842105263,
          0.10526315789473684,
          0.10526315789473684,
          0.10526315789473684,
          0.10526315789473684,
          0.5789473684210527,
          0.5789473684210527,
          0.5789473684210527,
          0.5789473684210527,
          0.631578947368421,
          0.631578947368421,
          0.631578947368421,
          0.631578947368421,
          0.7894736842105263,
          0.7894736842105263,
          0.7894736842105263,
          0.7894736842105263,
          0.10526315789473684,
          0.10526315789473684,
          0.10526315789473684,
          0.10526315789473684,
          0.5789473684210527,
          0.5789473684210527,
          0.5789473684210527,
          0.5789473684210527,
          0.631578947368421,
          0.631578947368421,
          0.631578947368421,
          0.631578947368421,
          0.7894736842105263,
          0.7894736842105263,
          0.7894736842105263,
          0.7894736842105263,
          0.10526315789473684,
          0.10526315789473684,
          0.10526315789473684,
          0.10526315789473684,
          0.5789473684210527,
          0.5789473684210527,
          0.5789473684210527,
          0.5789473684210527,
          0.631578947368421,
          0.631578947368421,
          0.631578947368421,
          0.631578947368421,
          0.7894736842105263,
          0.7894736842105263,
          0.7894736842105263,
          0.7894736842105263,
          0.10526315789473684,
          0.10526315789473684,
          0.10526315789473684,
          0.10526315789473684,
          0.5789473684210527,
          0.5789473684210527,
          0.5789473684210527,
          0.5789473684210527,
          0.631578947368421,
          0.631578947368421,
          0.631578947368421,
          0.631578947368421,
          0.7894736842105263,
          0.7894736842105263,
          0.7894736842105263,
          0.7894736842105263,
          0.10526315789473684,
          0.10526315789473684,
          0.10526315789473684,
          0.10526315789473684,
          0.5789473684210527,
          0.5789473684210527,
          0.5789473684210527,
          0.5789473684210527,
          0.631578947368421,
          0.631578947368421,
          0.631578947368421,
          0.631578947368421,
          0.7894736842105263,
          0.7894736842105263,
          0.7894736842105263,
          0.7894736842105263,
          0.10526315789473684,
          0.10526315789473684,
          0.10526315789473684,
          0.10526315789473684,
          0.5789473684210527,
          0.5789473684210527,
          0.5789473684210527,
          0.5789473684210527,
          0.631578947368421,
          0.631578947368421,
          0.631578947368421,
          0.631578947368421,
          0.7894736842105263,
          0.7894736842105263,
          0.7894736842105263,
          0.7894736842105263,
          0.10526315789473684,
          0.10526315789473684,
          0.10526315789473684,
          0.10526315789473684,
          0.5789473684210527,
          0.5789473684210527,
          0.5789473684210527,
          0.5789473684210527,
          0.631578947368421,
          0.631578947368421,
          0.631578947368421,
          0.631578947368421,
          0.7894736842105263,
          0.7894736842105263,
          0.7894736842105263,
          0.7894736842105263,
          0.10526315789473684,
          0.10526315789473684,
          0.10526315789473684,
          0.10526315789473684,
          0.5789473684210527,
          0.5789473684210527,
          0.5789473684210527,
          0.5789473684210527,
          0.631578947368421,
          0.631578947368421,
          0.631578947368421,
          0.631578947368421,
          0.7894736842105263,
          0.7894736842105263,
          0.7894736842105263,
          0.7894736842105263,
          0.10526315789473684,
          0.10526315789473684,
          0.10526315789473684,
          0.10526315789473684,
          0.5789473684210527,
          0.5789473684210527,
          0.5789473684210527,
          0.5789473684210527,
          0.631578947368421,
          0.631578947368421,
          0.631578947368421,
          0.631578947368421,
          0.7894736842105263,
          0.7894736842105263,
          0.7894736842105263,
          0.7894736842105263,
          0.10526315789473684,
          0.10526315789473684,
          0.10526315789473684,
          0.10526315789473684,
          0.5789473684210527,
          0.5789473684210527,
          0.5789473684210527,
          0.5789473684210527,
          0.631578947368421,
          0.631578947368421,
          0.631578947368421,
          0.631578947368421,
          0.7894736842105263,
          0.7894736842105263,
          0.7894736842105263,
          0.7894736842105263,
          0.10526315789473684,
          0.10526315789473684,
          0.10526315789473684,
          0.10526315789473684,
          0.5789473684210527,
          0.5789473684210527,
          0.5789473684210527,
          0.5789473684210527,
          0.631578947368421,
          0.631578947368421,
          0.631578947368421,
          0.631578947368421,
          0.7894736842105263,
          0.7894736842105263,
          0.7894736842105263,
          0.7894736842105263,
          0.10526315789473684,
          0.10526315789473684,
          0.10526315789473684,
          0.10526315789473684,
          0.5789473684210527,
          0.5789473684210527,
          0.5789473684210527,
          0.5789473684210527,
          0.631578947368421,
          0.631578947368421,
          0.631578947368421,
          0.631578947368421,
          0.7894736842105263,
          0.7894736842105263,
          0.7894736842105263,
          0.7894736842105263,
          0.10526315789473684,
          0.10526315789473684,
          0.10526315789473684,
          0.10526315789473684,
          0.5789473684210527,
          0.5789473684210527,
          0.5789473684210527,
          0.5789473684210527,
          0.631578947368421,
          0.631578947368421,
          0.631578947368421,
          0.631578947368421,
          0.7894736842105263,
          0.7894736842105263,
          0.7894736842105263,
          0.7894736842105263,
          0.10526315789473684,
          0.10526315789473684,
          0.10526315789473684,
          0.10526315789473684,
          0.5789473684210527,
          0.5789473684210527,
          0.5789473684210527,
          0.5789473684210527,
          0.631578947368421,
          0.631578947368421,
          0.631578947368421,
          0.631578947368421,
          0.7894736842105263,
          0.7894736842105263,
          0.7894736842105263,
          0.7894736842105263,
          0.10526315789473684,
          0.10526315789473684,
          0.10526315789473684,
          0.10526315789473684,
          0.5789473684210527,
          0.5789473684210527,
          0.5789473684210527,
          0.5789473684210527,
          0.631578947368421,
          0.631578947368421,
          0.631578947368421,
          0.631578947368421,
          0.7894736842105263,
          0.7894736842105263,
          0.7894736842105263,
          0.7894736842105263,
          0.10526315789473684,
          0.10526315789473684,
          0.10526315789473684,
          0.10526315789473684,
          0.5789473684210527,
          0.5789473684210527,
          0.5789473684210527,
          0.5789473684210527,
          0.631578947368421,
          0.631578947368421,
          0.631578947368421,
          0.631578947368421,
          0.7894736842105263,
          0.7894736842105263,
          0.7894736842105263,
          0.7894736842105263,
          0.10526315789473684,
          0.10526315789473684,
          0.10526315789473684,
          0.10526315789473684,
          0.5789473684210527,
          0.5789473684210527,
          0.5789473684210527,
          0.5789473684210527,
          0.10526315789473684,
          0.10526315789473684,
          0.10526315789473684,
          0.10526315789473684,
          0.10526315789473684,
          0.10526315789473684,
          0.10526315789473684,
          0.10526315789473684,
          0.10526315789473684,
          0.10526315789473684,
          0.10526315789473684,
          0.10526315789473684,
          0.10526315789473684,
          0.10526315789473684,
          0.10526315789473684,
          0.10526315789473684,
          0.10526315789473684,
          0.10526315789473684,
          0.10526315789473684,
          0.10526315789473684,
          0.10526315789473684,
          0.10526315789473684,
          0.10526315789473684,
          0.10526315789473684,
          0.10526315789473684,
          0.10526315789473684,
          0.10526315789473684,
          0.10526315789473684,
          0.10526315789473684,
          0.10526315789473684,
          0.10526315789473684,
          0.10526315789473684,
          0.10526315789473684,
          0.10526315789473684,
          0.10526315789473684,
          0.10526315789473684,
          0.10526315789473684,
          0.10526315789473684,
          0.10526315789473684,
          0.10526315789473684,
          0.10526315789473684,
          0.10526315789473684,
          0.10526315789473684,
          0.10526315789473684,
          0.10526315789473684,
          0.10526315789473684,
          0.10526315789473684,
          0.10526315789473684,
          0.10526315789473684,
          0.10526315789473684,
          0.10526315789473684,
          0.10526315789473684,
          0.10526315789473684,
          0.10526315789473684,
          0.10526315789473684,
          0.10526315789473684,
          0.10526315789473684,
          0.10526315789473684,
          0.10526315789473684,
          0.10526315789473684,
          0.10526315789473684,
          0.10526315789473684,
          0.10526315789473684,
          0.10526315789473684,
          0.10526315789473684,
          0.10526315789473684,
          0.10526315789473684,
          0.10526315789473684,
          0.10526315789473684,
          0.10526315789473684,
          0.10526315789473684,
          0.10526315789473684,
          0.10526315789473684,
          0.10526315789473684,
          0.10526315789473684,
          0.10526315789473684,
          0.10526315789473684,
          0.10526315789473684,
          0.10526315789473684,
          0.10526315789473684
         ],
         "y": [
          0.5789473684210527,
          0.3684210526315789,
          0.3157894736842105,
          0.894736842105263,
          0.5789473684210527,
          0.3684210526315789,
          0.3157894736842105,
          0.894736842105263,
          0.5789473684210527,
          0.3684210526315789,
          0.3157894736842105,
          0.894736842105263,
          0.5789473684210527,
          0.3684210526315789,
          0.3157894736842105,
          0.894736842105263,
          0.5789473684210527,
          0.3684210526315789,
          0.3157894736842105,
          0.894736842105263,
          0.5789473684210527,
          0.3684210526315789,
          0.3157894736842105,
          0.894736842105263,
          0.5789473684210527,
          0.3684210526315789,
          0.3157894736842105,
          0.894736842105263,
          0.5789473684210527,
          0.3684210526315789,
          0.3157894736842105,
          0.894736842105263,
          0.5789473684210527,
          0.3684210526315789,
          0.3157894736842105,
          0.894736842105263,
          0.5789473684210527,
          0.3684210526315789,
          0.3157894736842105,
          0.894736842105263,
          0.5789473684210527,
          0.3684210526315789,
          0.3157894736842105,
          0.894736842105263,
          0.5789473684210527,
          0.3684210526315789,
          0.3157894736842105,
          0.894736842105263,
          0.5789473684210527,
          0.3684210526315789,
          0.3157894736842105,
          0.894736842105263,
          0.5789473684210527,
          0.3684210526315789,
          0.3157894736842105,
          0.894736842105263,
          0.5789473684210527,
          0.3684210526315789,
          0.3157894736842105,
          0.894736842105263,
          0.5789473684210527,
          0.3684210526315789,
          0.3157894736842105,
          0.894736842105263,
          0.5789473684210527,
          0.3684210526315789,
          0.3157894736842105,
          0.894736842105263,
          0.5789473684210527,
          0.3684210526315789,
          0.3157894736842105,
          0.894736842105263,
          0.5789473684210527,
          0.3684210526315789,
          0.3157894736842105,
          0.894736842105263,
          0.5789473684210527,
          0.3684210526315789,
          0.3157894736842105,
          0.894736842105263,
          0,
          0,
          0,
          0,
          0,
          0,
          0,
          0,
          0,
          0,
          0,
          0,
          0,
          0,
          0,
          0,
          0.05263157894736842,
          0.05263157894736842,
          0.05263157894736842,
          0.05263157894736842,
          0.05263157894736842,
          0.05263157894736842,
          0.05263157894736842,
          0.05263157894736842,
          0.05263157894736842,
          0.05263157894736842,
          0.05263157894736842,
          0.05263157894736842,
          0.05263157894736842,
          0.05263157894736842,
          0.05263157894736842,
          0.05263157894736842,
          0.10526315789473684,
          0.10526315789473684,
          0.10526315789473684,
          0.10526315789473684,
          0.10526315789473684,
          0.10526315789473684,
          0.10526315789473684,
          0.10526315789473684,
          0.10526315789473684,
          0.10526315789473684,
          0.10526315789473684,
          0.10526315789473684,
          0.10526315789473684,
          0.10526315789473684,
          0.10526315789473684,
          0.10526315789473684,
          0.15789473684210525,
          0.15789473684210525,
          0.15789473684210525,
          0.15789473684210525,
          0.15789473684210525,
          0.15789473684210525,
          0.15789473684210525,
          0.15789473684210525,
          0.15789473684210525,
          0.15789473684210525,
          0.15789473684210525,
          0.15789473684210525,
          0.15789473684210525,
          0.15789473684210525,
          0.15789473684210525,
          0.15789473684210525,
          0.21052631578947367,
          0.21052631578947367,
          0.21052631578947367,
          0.21052631578947367,
          0.21052631578947367,
          0.21052631578947367,
          0.21052631578947367,
          0.21052631578947367,
          0.21052631578947367,
          0.21052631578947367,
          0.21052631578947367,
          0.21052631578947367,
          0.21052631578947367,
          0.21052631578947367,
          0.21052631578947367,
          0.21052631578947367,
          0.2631578947368421,
          0.2631578947368421,
          0.2631578947368421,
          0.2631578947368421,
          0.2631578947368421,
          0.2631578947368421,
          0.2631578947368421,
          0.2631578947368421,
          0.2631578947368421,
          0.2631578947368421,
          0.2631578947368421,
          0.2631578947368421,
          0.2631578947368421,
          0.2631578947368421,
          0.2631578947368421,
          0.2631578947368421,
          0.3157894736842105,
          0.3157894736842105,
          0.3157894736842105,
          0.3157894736842105,
          0.3157894736842105,
          0.3157894736842105,
          0.3157894736842105,
          0.3157894736842105,
          0.3157894736842105,
          0.3157894736842105,
          0.3157894736842105,
          0.3157894736842105,
          0.3157894736842105,
          0.3157894736842105,
          0.3157894736842105,
          0.3157894736842105,
          0.3684210526315789,
          0.3684210526315789,
          0.3684210526315789,
          0.3684210526315789,
          0.3684210526315789,
          0.3684210526315789,
          0.3684210526315789,
          0.3684210526315789,
          0.3684210526315789,
          0.3684210526315789,
          0.3684210526315789,
          0.3684210526315789,
          0.3684210526315789,
          0.3684210526315789,
          0.3684210526315789,
          0.3684210526315789,
          0.42105263157894735,
          0.42105263157894735,
          0.42105263157894735,
          0.42105263157894735,
          0.42105263157894735,
          0.42105263157894735,
          0.42105263157894735,
          0.42105263157894735,
          0.42105263157894735,
          0.42105263157894735,
          0.42105263157894735,
          0.42105263157894735,
          0.42105263157894735,
          0.42105263157894735,
          0.42105263157894735,
          0.42105263157894735,
          0.47368421052631576,
          0.47368421052631576,
          0.47368421052631576,
          0.47368421052631576,
          0.47368421052631576,
          0.47368421052631576,
          0.47368421052631576,
          0.47368421052631576,
          0.47368421052631576,
          0.47368421052631576,
          0.47368421052631576,
          0.47368421052631576,
          0.47368421052631576,
          0.47368421052631576,
          0.47368421052631576,
          0.47368421052631576,
          0.5263157894736842,
          0.5263157894736842,
          0.5263157894736842,
          0.5263157894736842,
          0.5263157894736842,
          0.5263157894736842,
          0.5263157894736842,
          0.5263157894736842,
          0.5263157894736842,
          0.5263157894736842,
          0.5263157894736842,
          0.5263157894736842,
          0.5263157894736842,
          0.5263157894736842,
          0.5263157894736842,
          0.5263157894736842,
          0.5789473684210527,
          0.5789473684210527,
          0.5789473684210527,
          0.5789473684210527,
          0.5789473684210527,
          0.5789473684210527,
          0.5789473684210527,
          0.5789473684210527,
          0.5789473684210527,
          0.5789473684210527,
          0.5789473684210527,
          0.5789473684210527,
          0.5789473684210527,
          0.5789473684210527,
          0.5789473684210527,
          0.5789473684210527,
          0.631578947368421,
          0.631578947368421,
          0.631578947368421,
          0.631578947368421,
          0.631578947368421,
          0.631578947368421,
          0.631578947368421,
          0.631578947368421,
          0.631578947368421,
          0.631578947368421,
          0.631578947368421,
          0.631578947368421,
          0.631578947368421,
          0.631578947368421,
          0.631578947368421,
          0.631578947368421,
          0.6842105263157894,
          0.6842105263157894,
          0.6842105263157894,
          0.6842105263157894,
          0.6842105263157894,
          0.6842105263157894,
          0.6842105263157894,
          0.6842105263157894,
          0.6842105263157894,
          0.6842105263157894,
          0.6842105263157894,
          0.6842105263157894,
          0.6842105263157894,
          0.6842105263157894,
          0.6842105263157894,
          0.6842105263157894,
          0.7368421052631579,
          0.7368421052631579,
          0.7368421052631579,
          0.7368421052631579,
          0.7368421052631579,
          0.7368421052631579,
          0.7368421052631579,
          0.7368421052631579,
          0.7368421052631579,
          0.7368421052631579,
          0.7368421052631579,
          0.7368421052631579,
          0.7368421052631579,
          0.7368421052631579,
          0.7368421052631579,
          0.7368421052631579,
          0.7894736842105263,
          0.7894736842105263,
          0.7894736842105263,
          0.7894736842105263,
          0.7894736842105263,
          0.7894736842105263,
          0.7894736842105263,
          0.7894736842105263,
          0.7894736842105263,
          0.7894736842105263,
          0.7894736842105263,
          0.7894736842105263,
          0.7894736842105263,
          0.7894736842105263,
          0.7894736842105263,
          0.7894736842105263,
          0.8421052631578947,
          0.8421052631578947,
          0.8421052631578947,
          0.8421052631578947,
          0.8421052631578947,
          0.8421052631578947,
          0.8421052631578947,
          0.8421052631578947,
          0.8421052631578947,
          0.8421052631578947,
          0.8421052631578947,
          0.8421052631578947,
          0.8421052631578947,
          0.8421052631578947,
          0.8421052631578947,
          0.8421052631578947,
          0.894736842105263,
          0.894736842105263,
          0.894736842105263,
          0.894736842105263,
          0.894736842105263,
          0.894736842105263,
          0.894736842105263,
          0.894736842105263,
          0.894736842105263,
          0.894736842105263,
          0.894736842105263,
          0.894736842105263,
          0.894736842105263,
          0.894736842105263,
          0.894736842105263,
          0.894736842105263,
          0.9473684210526315,
          0.9473684210526315,
          0.9473684210526315,
          0.9473684210526315,
          0.9473684210526315,
          0.9473684210526315,
          0.9473684210526315,
          0.9473684210526315,
          0.9473684210526315,
          0.9473684210526315,
          0.9473684210526315,
          0.9473684210526315,
          0.9473684210526315,
          0.9473684210526315,
          0.9473684210526315,
          0.9473684210526315,
          1,
          1,
          1,
          1,
          1,
          1,
          1,
          1,
          1,
          1,
          1,
          1,
          1,
          1,
          1,
          1,
          0.3157894736842105,
          0.5263157894736842,
          0.631578947368421,
          0.2631578947368421,
          0.3157894736842105,
          0.5263157894736842,
          0.631578947368421,
          0.2631578947368421,
          0.3157894736842105,
          0.5263157894736842,
          0.631578947368421,
          0.2631578947368421,
          0.3157894736842105,
          0.5263157894736842,
          0.631578947368421,
          0.2631578947368421,
          0.3157894736842105,
          0.5263157894736842,
          0.631578947368421,
          0.2631578947368421,
          0.3157894736842105,
          0.5263157894736842,
          0.631578947368421,
          0.2631578947368421,
          0.3157894736842105,
          0.5263157894736842,
          0.631578947368421,
          0.2631578947368421,
          0.3157894736842105,
          0.5263157894736842,
          0.631578947368421,
          0.2631578947368421,
          0.3157894736842105,
          0.5263157894736842,
          0.631578947368421,
          0.2631578947368421,
          0.3157894736842105,
          0.5263157894736842,
          0.631578947368421,
          0.2631578947368421,
          0.3157894736842105,
          0.5263157894736842,
          0.631578947368421,
          0.2631578947368421,
          0.3157894736842105,
          0.5263157894736842,
          0.631578947368421,
          0.2631578947368421,
          0.3157894736842105,
          0.5263157894736842,
          0.631578947368421,
          0.2631578947368421,
          0.3157894736842105,
          0.5263157894736842,
          0.631578947368421,
          0.2631578947368421,
          0.3157894736842105,
          0.5263157894736842,
          0.631578947368421,
          0.2631578947368421,
          0.3157894736842105,
          0.5263157894736842,
          0.631578947368421,
          0.2631578947368421,
          0.3157894736842105,
          0.5263157894736842,
          0.631578947368421,
          0.2631578947368421,
          0.3157894736842105,
          0.5263157894736842,
          0.631578947368421,
          0.2631578947368421,
          0.3157894736842105,
          0.5263157894736842,
          0.631578947368421,
          0.2631578947368421,
          0.3157894736842105,
          0.5263157894736842,
          0.631578947368421,
          0.2631578947368421
         ],
         "z": [
          0.7368421052631579,
          0.42105263157894735,
          0.7368421052631579,
          0.7368421052631579,
          0.7368421052631579,
          0.42105263157894735,
          0.7368421052631579,
          0.7368421052631579,
          0.7368421052631579,
          0.42105263157894735,
          0.7368421052631579,
          0.7368421052631579,
          0.7368421052631579,
          0.42105263157894735,
          0.7368421052631579,
          0.7368421052631579,
          0.7368421052631579,
          0.42105263157894735,
          0.7368421052631579,
          0.7368421052631579,
          0.7368421052631579,
          0.42105263157894735,
          0.7368421052631579,
          0.7368421052631579,
          0.7368421052631579,
          0.42105263157894735,
          0.7368421052631579,
          0.7368421052631579,
          0.7368421052631579,
          0.42105263157894735,
          0.7368421052631579,
          0.7368421052631579,
          0.7368421052631579,
          0.42105263157894735,
          0.7368421052631579,
          0.7368421052631579,
          0.7368421052631579,
          0.42105263157894735,
          0.7368421052631579,
          0.7368421052631579,
          0.7368421052631579,
          0.42105263157894735,
          0.7368421052631579,
          0.7368421052631579,
          0.7368421052631579,
          0.42105263157894735,
          0.7368421052631579,
          0.7368421052631579,
          0.7368421052631579,
          0.42105263157894735,
          0.7368421052631579,
          0.7368421052631579,
          0.7368421052631579,
          0.42105263157894735,
          0.7368421052631579,
          0.7368421052631579,
          0.7368421052631579,
          0.42105263157894735,
          0.7368421052631579,
          0.7368421052631579,
          0.7368421052631579,
          0.42105263157894735,
          0.7368421052631579,
          0.7368421052631579,
          0.7368421052631579,
          0.42105263157894735,
          0.7368421052631579,
          0.7368421052631579,
          0.7368421052631579,
          0.42105263157894735,
          0.7368421052631579,
          0.7368421052631579,
          0.7368421052631579,
          0.42105263157894735,
          0.7368421052631579,
          0.7368421052631579,
          0.7368421052631579,
          0.42105263157894735,
          0.7368421052631579,
          0.7368421052631579,
          0.5789473684210527,
          0.7368421052631579,
          0.42105263157894735,
          0.2631578947368421,
          0.5789473684210527,
          0.7368421052631579,
          0.42105263157894735,
          0.2631578947368421,
          0.5789473684210527,
          0.7368421052631579,
          0.42105263157894735,
          0.2631578947368421,
          0.5789473684210527,
          0.7368421052631579,
          0.42105263157894735,
          0.2631578947368421,
          0.5789473684210527,
          0.7368421052631579,
          0.42105263157894735,
          0.2631578947368421,
          0.5789473684210527,
          0.7368421052631579,
          0.42105263157894735,
          0.2631578947368421,
          0.5789473684210527,
          0.7368421052631579,
          0.42105263157894735,
          0.2631578947368421,
          0.5789473684210527,
          0.7368421052631579,
          0.42105263157894735,
          0.2631578947368421,
          0.5789473684210527,
          0.7368421052631579,
          0.42105263157894735,
          0.2631578947368421,
          0.5789473684210527,
          0.7368421052631579,
          0.42105263157894735,
          0.2631578947368421,
          0.5789473684210527,
          0.7368421052631579,
          0.42105263157894735,
          0.2631578947368421,
          0.5789473684210527,
          0.7368421052631579,
          0.42105263157894735,
          0.2631578947368421,
          0.5789473684210527,
          0.7368421052631579,
          0.42105263157894735,
          0.2631578947368421,
          0.5789473684210527,
          0.7368421052631579,
          0.42105263157894735,
          0.2631578947368421,
          0.5789473684210527,
          0.7368421052631579,
          0.42105263157894735,
          0.2631578947368421,
          0.5789473684210527,
          0.7368421052631579,
          0.42105263157894735,
          0.2631578947368421,
          0.5789473684210527,
          0.7368421052631579,
          0.42105263157894735,
          0.2631578947368421,
          0.5789473684210527,
          0.7368421052631579,
          0.42105263157894735,
          0.2631578947368421,
          0.5789473684210527,
          0.7368421052631579,
          0.42105263157894735,
          0.2631578947368421,
          0.5789473684210527,
          0.7368421052631579,
          0.42105263157894735,
          0.2631578947368421,
          0.5789473684210527,
          0.7368421052631579,
          0.42105263157894735,
          0.2631578947368421,
          0.5789473684210527,
          0.7368421052631579,
          0.42105263157894735,
          0.2631578947368421,
          0.5789473684210527,
          0.7368421052631579,
          0.42105263157894735,
          0.2631578947368421,
          0.5789473684210527,
          0.7368421052631579,
          0.42105263157894735,
          0.2631578947368421,
          0.5789473684210527,
          0.7368421052631579,
          0.42105263157894735,
          0.2631578947368421,
          0.5789473684210527,
          0.7368421052631579,
          0.42105263157894735,
          0.2631578947368421,
          0.5789473684210527,
          0.7368421052631579,
          0.42105263157894735,
          0.2631578947368421,
          0.5789473684210527,
          0.7368421052631579,
          0.42105263157894735,
          0.2631578947368421,
          0.5789473684210527,
          0.7368421052631579,
          0.42105263157894735,
          0.2631578947368421,
          0.5789473684210527,
          0.7368421052631579,
          0.42105263157894735,
          0.2631578947368421,
          0.5789473684210527,
          0.7368421052631579,
          0.42105263157894735,
          0.2631578947368421,
          0.5789473684210527,
          0.7368421052631579,
          0.42105263157894735,
          0.2631578947368421,
          0.5789473684210527,
          0.7368421052631579,
          0.42105263157894735,
          0.2631578947368421,
          0.5789473684210527,
          0.7368421052631579,
          0.42105263157894735,
          0.2631578947368421,
          0.5789473684210527,
          0.7368421052631579,
          0.42105263157894735,
          0.2631578947368421,
          0.5789473684210527,
          0.7368421052631579,
          0.42105263157894735,
          0.2631578947368421,
          0.5789473684210527,
          0.7368421052631579,
          0.42105263157894735,
          0.2631578947368421,
          0.5789473684210527,
          0.7368421052631579,
          0.42105263157894735,
          0.2631578947368421,
          0.5789473684210527,
          0.7368421052631579,
          0.42105263157894735,
          0.2631578947368421,
          0.5789473684210527,
          0.7368421052631579,
          0.42105263157894735,
          0.2631578947368421,
          0.5789473684210527,
          0.7368421052631579,
          0.42105263157894735,
          0.2631578947368421,
          0.5789473684210527,
          0.7368421052631579,
          0.42105263157894735,
          0.2631578947368421,
          0.5789473684210527,
          0.7368421052631579,
          0.42105263157894735,
          0.2631578947368421,
          0.5789473684210527,
          0.7368421052631579,
          0.42105263157894735,
          0.2631578947368421,
          0.5789473684210527,
          0.7368421052631579,
          0.42105263157894735,
          0.2631578947368421,
          0.5789473684210527,
          0.7368421052631579,
          0.42105263157894735,
          0.2631578947368421,
          0.5789473684210527,
          0.7368421052631579,
          0.42105263157894735,
          0.2631578947368421,
          0.5789473684210527,
          0.7368421052631579,
          0.42105263157894735,
          0.2631578947368421,
          0.5789473684210527,
          0.7368421052631579,
          0.42105263157894735,
          0.2631578947368421,
          0.5789473684210527,
          0.7368421052631579,
          0.42105263157894735,
          0.2631578947368421,
          0.5789473684210527,
          0.7368421052631579,
          0.42105263157894735,
          0.2631578947368421,
          0.5789473684210527,
          0.7368421052631579,
          0.42105263157894735,
          0.2631578947368421,
          0.5789473684210527,
          0.7368421052631579,
          0.42105263157894735,
          0.2631578947368421,
          0.5789473684210527,
          0.7368421052631579,
          0.42105263157894735,
          0.2631578947368421,
          0.5789473684210527,
          0.7368421052631579,
          0.42105263157894735,
          0.2631578947368421,
          0.5789473684210527,
          0.7368421052631579,
          0.42105263157894735,
          0.2631578947368421,
          0.5789473684210527,
          0.7368421052631579,
          0.42105263157894735,
          0.2631578947368421,
          0.5789473684210527,
          0.7368421052631579,
          0.42105263157894735,
          0.2631578947368421,
          0.5789473684210527,
          0.7368421052631579,
          0.42105263157894735,
          0.2631578947368421,
          0.5789473684210527,
          0.7368421052631579,
          0.42105263157894735,
          0.2631578947368421,
          0.5789473684210527,
          0.7368421052631579,
          0.42105263157894735,
          0.2631578947368421,
          0.5789473684210527,
          0.7368421052631579,
          0.42105263157894735,
          0.2631578947368421,
          0.5789473684210527,
          0.7368421052631579,
          0.42105263157894735,
          0.2631578947368421,
          0.5789473684210527,
          0.7368421052631579,
          0.42105263157894735,
          0.2631578947368421,
          0.5789473684210527,
          0.7368421052631579,
          0.42105263157894735,
          0.2631578947368421,
          0.5789473684210527,
          0.7368421052631579,
          0.42105263157894735,
          0.2631578947368421,
          0.5789473684210527,
          0.7368421052631579,
          0.42105263157894735,
          0.2631578947368421,
          0.5789473684210527,
          0.7368421052631579,
          0.42105263157894735,
          0.2631578947368421,
          0.5789473684210527,
          0.7368421052631579,
          0.42105263157894735,
          0.2631578947368421,
          0.5789473684210527,
          0.7368421052631579,
          0.42105263157894735,
          0.2631578947368421,
          0.5789473684210527,
          0.7368421052631579,
          0.42105263157894735,
          0.2631578947368421,
          0.5789473684210527,
          0.7368421052631579,
          0.42105263157894735,
          0.2631578947368421,
          0.5789473684210527,
          0.7368421052631579,
          0.42105263157894735,
          0.2631578947368421,
          0.5789473684210527,
          0.7368421052631579,
          0.42105263157894735,
          0.2631578947368421,
          0.5789473684210527,
          0.7368421052631579,
          0.42105263157894735,
          0.2631578947368421,
          0.5789473684210527,
          0.7368421052631579,
          0.42105263157894735,
          0.2631578947368421,
          0.5789473684210527,
          0.7368421052631579,
          0.42105263157894735,
          0.2631578947368421,
          0.5789473684210527,
          0.7368421052631579,
          0.42105263157894735,
          0.2631578947368421,
          0.5789473684210527,
          0.7368421052631579,
          0.42105263157894735,
          0.2631578947368421,
          0.5789473684210527,
          0.7368421052631579,
          0.42105263157894735,
          0.2631578947368421,
          0,
          0,
          0,
          0,
          0.05263157894736842,
          0.05263157894736842,
          0.05263157894736842,
          0.05263157894736842,
          0.10526315789473684,
          0.10526315789473684,
          0.10526315789473684,
          0.10526315789473684,
          0.15789473684210525,
          0.15789473684210525,
          0.15789473684210525,
          0.15789473684210525,
          0.21052631578947367,
          0.21052631578947367,
          0.21052631578947367,
          0.21052631578947367,
          0.2631578947368421,
          0.2631578947368421,
          0.2631578947368421,
          0.2631578947368421,
          0.3157894736842105,
          0.3157894736842105,
          0.3157894736842105,
          0.3157894736842105,
          0.3684210526315789,
          0.3684210526315789,
          0.3684210526315789,
          0.3684210526315789,
          0.42105263157894735,
          0.42105263157894735,
          0.42105263157894735,
          0.42105263157894735,
          0.47368421052631576,
          0.47368421052631576,
          0.47368421052631576,
          0.47368421052631576,
          0.5263157894736842,
          0.5263157894736842,
          0.5263157894736842,
          0.5263157894736842,
          0.5789473684210527,
          0.5789473684210527,
          0.5789473684210527,
          0.5789473684210527,
          0.631578947368421,
          0.631578947368421,
          0.631578947368421,
          0.631578947368421,
          0.6842105263157894,
          0.6842105263157894,
          0.6842105263157894,
          0.6842105263157894,
          0.7368421052631579,
          0.7368421052631579,
          0.7368421052631579,
          0.7368421052631579,
          0.7894736842105263,
          0.7894736842105263,
          0.7894736842105263,
          0.7894736842105263,
          0.8421052631578947,
          0.8421052631578947,
          0.8421052631578947,
          0.8421052631578947,
          0.894736842105263,
          0.894736842105263,
          0.894736842105263,
          0.894736842105263,
          0.9473684210526315,
          0.9473684210526315,
          0.9473684210526315,
          0.9473684210526315,
          1,
          1,
          1,
          1
         ]
        }
       ],
       "layout": {
        "margin": {
         "b": 0,
         "l": 0,
         "r": 0,
         "t": 0
        },
        "scene": {
         "aspectmode": "cube",
         "xaxis": {
          "autorange": false,
          "range": [
           0,
           1
          ],
          "title": {
           "text": "X Axis"
          }
         },
         "yaxis": {
          "autorange": false,
          "range": [
           0,
           1
          ],
          "title": {
           "text": "Y Axis"
          }
         },
         "zaxis": {
          "autorange": false,
          "range": [
           0,
           1
          ],
          "title": {
           "text": "Z Axis"
          }
         }
        },
        "template": {
         "data": {
          "bar": [
           {
            "error_x": {
             "color": "#2a3f5f"
            },
            "error_y": {
             "color": "#2a3f5f"
            },
            "marker": {
             "line": {
              "color": "#E5ECF6",
              "width": 0.5
             },
             "pattern": {
              "fillmode": "overlay",
              "size": 10,
              "solidity": 0.2
             }
            },
            "type": "bar"
           }
          ],
          "barpolar": [
           {
            "marker": {
             "line": {
              "color": "#E5ECF6",
              "width": 0.5
             },
             "pattern": {
              "fillmode": "overlay",
              "size": 10,
              "solidity": 0.2
             }
            },
            "type": "barpolar"
           }
          ],
          "carpet": [
           {
            "aaxis": {
             "endlinecolor": "#2a3f5f",
             "gridcolor": "white",
             "linecolor": "white",
             "minorgridcolor": "white",
             "startlinecolor": "#2a3f5f"
            },
            "baxis": {
             "endlinecolor": "#2a3f5f",
             "gridcolor": "white",
             "linecolor": "white",
             "minorgridcolor": "white",
             "startlinecolor": "#2a3f5f"
            },
            "type": "carpet"
           }
          ],
          "choropleth": [
           {
            "colorbar": {
             "outlinewidth": 0,
             "ticks": ""
            },
            "type": "choropleth"
           }
          ],
          "contour": [
           {
            "colorbar": {
             "outlinewidth": 0,
             "ticks": ""
            },
            "colorscale": [
             [
              0,
              "#0d0887"
             ],
             [
              0.1111111111111111,
              "#46039f"
             ],
             [
              0.2222222222222222,
              "#7201a8"
             ],
             [
              0.3333333333333333,
              "#9c179e"
             ],
             [
              0.4444444444444444,
              "#bd3786"
             ],
             [
              0.5555555555555556,
              "#d8576b"
             ],
             [
              0.6666666666666666,
              "#ed7953"
             ],
             [
              0.7777777777777778,
              "#fb9f3a"
             ],
             [
              0.8888888888888888,
              "#fdca26"
             ],
             [
              1,
              "#f0f921"
             ]
            ],
            "type": "contour"
           }
          ],
          "contourcarpet": [
           {
            "colorbar": {
             "outlinewidth": 0,
             "ticks": ""
            },
            "type": "contourcarpet"
           }
          ],
          "heatmap": [
           {
            "colorbar": {
             "outlinewidth": 0,
             "ticks": ""
            },
            "colorscale": [
             [
              0,
              "#0d0887"
             ],
             [
              0.1111111111111111,
              "#46039f"
             ],
             [
              0.2222222222222222,
              "#7201a8"
             ],
             [
              0.3333333333333333,
              "#9c179e"
             ],
             [
              0.4444444444444444,
              "#bd3786"
             ],
             [
              0.5555555555555556,
              "#d8576b"
             ],
             [
              0.6666666666666666,
              "#ed7953"
             ],
             [
              0.7777777777777778,
              "#fb9f3a"
             ],
             [
              0.8888888888888888,
              "#fdca26"
             ],
             [
              1,
              "#f0f921"
             ]
            ],
            "type": "heatmap"
           }
          ],
          "heatmapgl": [
           {
            "colorbar": {
             "outlinewidth": 0,
             "ticks": ""
            },
            "colorscale": [
             [
              0,
              "#0d0887"
             ],
             [
              0.1111111111111111,
              "#46039f"
             ],
             [
              0.2222222222222222,
              "#7201a8"
             ],
             [
              0.3333333333333333,
              "#9c179e"
             ],
             [
              0.4444444444444444,
              "#bd3786"
             ],
             [
              0.5555555555555556,
              "#d8576b"
             ],
             [
              0.6666666666666666,
              "#ed7953"
             ],
             [
              0.7777777777777778,
              "#fb9f3a"
             ],
             [
              0.8888888888888888,
              "#fdca26"
             ],
             [
              1,
              "#f0f921"
             ]
            ],
            "type": "heatmapgl"
           }
          ],
          "histogram": [
           {
            "marker": {
             "pattern": {
              "fillmode": "overlay",
              "size": 10,
              "solidity": 0.2
             }
            },
            "type": "histogram"
           }
          ],
          "histogram2d": [
           {
            "colorbar": {
             "outlinewidth": 0,
             "ticks": ""
            },
            "colorscale": [
             [
              0,
              "#0d0887"
             ],
             [
              0.1111111111111111,
              "#46039f"
             ],
             [
              0.2222222222222222,
              "#7201a8"
             ],
             [
              0.3333333333333333,
              "#9c179e"
             ],
             [
              0.4444444444444444,
              "#bd3786"
             ],
             [
              0.5555555555555556,
              "#d8576b"
             ],
             [
              0.6666666666666666,
              "#ed7953"
             ],
             [
              0.7777777777777778,
              "#fb9f3a"
             ],
             [
              0.8888888888888888,
              "#fdca26"
             ],
             [
              1,
              "#f0f921"
             ]
            ],
            "type": "histogram2d"
           }
          ],
          "histogram2dcontour": [
           {
            "colorbar": {
             "outlinewidth": 0,
             "ticks": ""
            },
            "colorscale": [
             [
              0,
              "#0d0887"
             ],
             [
              0.1111111111111111,
              "#46039f"
             ],
             [
              0.2222222222222222,
              "#7201a8"
             ],
             [
              0.3333333333333333,
              "#9c179e"
             ],
             [
              0.4444444444444444,
              "#bd3786"
             ],
             [
              0.5555555555555556,
              "#d8576b"
             ],
             [
              0.6666666666666666,
              "#ed7953"
             ],
             [
              0.7777777777777778,
              "#fb9f3a"
             ],
             [
              0.8888888888888888,
              "#fdca26"
             ],
             [
              1,
              "#f0f921"
             ]
            ],
            "type": "histogram2dcontour"
           }
          ],
          "mesh3d": [
           {
            "colorbar": {
             "outlinewidth": 0,
             "ticks": ""
            },
            "type": "mesh3d"
           }
          ],
          "parcoords": [
           {
            "line": {
             "colorbar": {
              "outlinewidth": 0,
              "ticks": ""
             }
            },
            "type": "parcoords"
           }
          ],
          "pie": [
           {
            "automargin": true,
            "type": "pie"
           }
          ],
          "scatter": [
           {
            "fillpattern": {
             "fillmode": "overlay",
             "size": 10,
             "solidity": 0.2
            },
            "type": "scatter"
           }
          ],
          "scatter3d": [
           {
            "line": {
             "colorbar": {
              "outlinewidth": 0,
              "ticks": ""
             }
            },
            "marker": {
             "colorbar": {
              "outlinewidth": 0,
              "ticks": ""
             }
            },
            "type": "scatter3d"
           }
          ],
          "scattercarpet": [
           {
            "marker": {
             "colorbar": {
              "outlinewidth": 0,
              "ticks": ""
             }
            },
            "type": "scattercarpet"
           }
          ],
          "scattergeo": [
           {
            "marker": {
             "colorbar": {
              "outlinewidth": 0,
              "ticks": ""
             }
            },
            "type": "scattergeo"
           }
          ],
          "scattergl": [
           {
            "marker": {
             "colorbar": {
              "outlinewidth": 0,
              "ticks": ""
             }
            },
            "type": "scattergl"
           }
          ],
          "scattermapbox": [
           {
            "marker": {
             "colorbar": {
              "outlinewidth": 0,
              "ticks": ""
             }
            },
            "type": "scattermapbox"
           }
          ],
          "scatterpolar": [
           {
            "marker": {
             "colorbar": {
              "outlinewidth": 0,
              "ticks": ""
             }
            },
            "type": "scatterpolar"
           }
          ],
          "scatterpolargl": [
           {
            "marker": {
             "colorbar": {
              "outlinewidth": 0,
              "ticks": ""
             }
            },
            "type": "scatterpolargl"
           }
          ],
          "scatterternary": [
           {
            "marker": {
             "colorbar": {
              "outlinewidth": 0,
              "ticks": ""
             }
            },
            "type": "scatterternary"
           }
          ],
          "surface": [
           {
            "colorbar": {
             "outlinewidth": 0,
             "ticks": ""
            },
            "colorscale": [
             [
              0,
              "#0d0887"
             ],
             [
              0.1111111111111111,
              "#46039f"
             ],
             [
              0.2222222222222222,
              "#7201a8"
             ],
             [
              0.3333333333333333,
              "#9c179e"
             ],
             [
              0.4444444444444444,
              "#bd3786"
             ],
             [
              0.5555555555555556,
              "#d8576b"
             ],
             [
              0.6666666666666666,
              "#ed7953"
             ],
             [
              0.7777777777777778,
              "#fb9f3a"
             ],
             [
              0.8888888888888888,
              "#fdca26"
             ],
             [
              1,
              "#f0f921"
             ]
            ],
            "type": "surface"
           }
          ],
          "table": [
           {
            "cells": {
             "fill": {
              "color": "#EBF0F8"
             },
             "line": {
              "color": "white"
             }
            },
            "header": {
             "fill": {
              "color": "#C8D4E3"
             },
             "line": {
              "color": "white"
             }
            },
            "type": "table"
           }
          ]
         },
         "layout": {
          "annotationdefaults": {
           "arrowcolor": "#2a3f5f",
           "arrowhead": 0,
           "arrowwidth": 1
          },
          "autotypenumbers": "strict",
          "coloraxis": {
           "colorbar": {
            "outlinewidth": 0,
            "ticks": ""
           }
          },
          "colorscale": {
           "diverging": [
            [
             0,
             "#8e0152"
            ],
            [
             0.1,
             "#c51b7d"
            ],
            [
             0.2,
             "#de77ae"
            ],
            [
             0.3,
             "#f1b6da"
            ],
            [
             0.4,
             "#fde0ef"
            ],
            [
             0.5,
             "#f7f7f7"
            ],
            [
             0.6,
             "#e6f5d0"
            ],
            [
             0.7,
             "#b8e186"
            ],
            [
             0.8,
             "#7fbc41"
            ],
            [
             0.9,
             "#4d9221"
            ],
            [
             1,
             "#276419"
            ]
           ],
           "sequential": [
            [
             0,
             "#0d0887"
            ],
            [
             0.1111111111111111,
             "#46039f"
            ],
            [
             0.2222222222222222,
             "#7201a8"
            ],
            [
             0.3333333333333333,
             "#9c179e"
            ],
            [
             0.4444444444444444,
             "#bd3786"
            ],
            [
             0.5555555555555556,
             "#d8576b"
            ],
            [
             0.6666666666666666,
             "#ed7953"
            ],
            [
             0.7777777777777778,
             "#fb9f3a"
            ],
            [
             0.8888888888888888,
             "#fdca26"
            ],
            [
             1,
             "#f0f921"
            ]
           ],
           "sequentialminus": [
            [
             0,
             "#0d0887"
            ],
            [
             0.1111111111111111,
             "#46039f"
            ],
            [
             0.2222222222222222,
             "#7201a8"
            ],
            [
             0.3333333333333333,
             "#9c179e"
            ],
            [
             0.4444444444444444,
             "#bd3786"
            ],
            [
             0.5555555555555556,
             "#d8576b"
            ],
            [
             0.6666666666666666,
             "#ed7953"
            ],
            [
             0.7777777777777778,
             "#fb9f3a"
            ],
            [
             0.8888888888888888,
             "#fdca26"
            ],
            [
             1,
             "#f0f921"
            ]
           ]
          },
          "colorway": [
           "#636efa",
           "#EF553B",
           "#00cc96",
           "#ab63fa",
           "#FFA15A",
           "#19d3f3",
           "#FF6692",
           "#B6E880",
           "#FF97FF",
           "#FECB52"
          ],
          "font": {
           "color": "#2a3f5f"
          },
          "geo": {
           "bgcolor": "white",
           "lakecolor": "white",
           "landcolor": "#E5ECF6",
           "showlakes": true,
           "showland": true,
           "subunitcolor": "white"
          },
          "hoverlabel": {
           "align": "left"
          },
          "hovermode": "closest",
          "mapbox": {
           "style": "light"
          },
          "paper_bgcolor": "white",
          "plot_bgcolor": "#E5ECF6",
          "polar": {
           "angularaxis": {
            "gridcolor": "white",
            "linecolor": "white",
            "ticks": ""
           },
           "bgcolor": "#E5ECF6",
           "radialaxis": {
            "gridcolor": "white",
            "linecolor": "white",
            "ticks": ""
           }
          },
          "scene": {
           "xaxis": {
            "backgroundcolor": "#E5ECF6",
            "gridcolor": "white",
            "gridwidth": 2,
            "linecolor": "white",
            "showbackground": true,
            "ticks": "",
            "zerolinecolor": "white"
           },
           "yaxis": {
            "backgroundcolor": "#E5ECF6",
            "gridcolor": "white",
            "gridwidth": 2,
            "linecolor": "white",
            "showbackground": true,
            "ticks": "",
            "zerolinecolor": "white"
           },
           "zaxis": {
            "backgroundcolor": "#E5ECF6",
            "gridcolor": "white",
            "gridwidth": 2,
            "linecolor": "white",
            "showbackground": true,
            "ticks": "",
            "zerolinecolor": "white"
           }
          },
          "shapedefaults": {
           "line": {
            "color": "#2a3f5f"
           }
          },
          "ternary": {
           "aaxis": {
            "gridcolor": "white",
            "linecolor": "white",
            "ticks": ""
           },
           "baxis": {
            "gridcolor": "white",
            "linecolor": "white",
            "ticks": ""
           },
           "bgcolor": "#E5ECF6",
           "caxis": {
            "gridcolor": "white",
            "linecolor": "white",
            "ticks": ""
           }
          },
          "title": {
           "x": 0.05
          },
          "xaxis": {
           "automargin": true,
           "gridcolor": "white",
           "linecolor": "white",
           "ticks": "",
           "title": {
            "standoff": 15
           },
           "zerolinecolor": "white",
           "zerolinewidth": 2
          },
          "yaxis": {
           "automargin": true,
           "gridcolor": "white",
           "linecolor": "white",
           "ticks": "",
           "title": {
            "standoff": 15
           },
           "zerolinecolor": "white",
           "zerolinewidth": 2
          }
         }
        }
       }
      }
     },
     "metadata": {},
     "output_type": "display_data"
    },
    {
     "data": {
      "image/png": "[encoded data removed]",
      "text/plain": [
       "<Figure size 640x480 with 1 Axes>"
      ]
     },
     "metadata": {},
     "output_type": "display_data"
    }
   ],
   "source": [
    "f = 3\n",
    "N = 20\n",
    "\n",
    "tn = tt_graph(f, r = 4, N = N)\n",
    "T = tn_grid(tn, [np.linspace(0, 1, N)] * f)\n",
    "\n",
    "plot_tn_xyz(tn, fun)\n",
    "plot_tt_diagram(tn)"
   ]
  },
  {
   "cell_type": "code",
   "execution_count": null,
   "metadata": {},
   "outputs": [
    {
     "data": {
      "application/vnd.plotly.v1+json": {
       "config": {
        "plotlyServerURL": "https://plot.ly"
       },
       "data": [
        {
         "marker": {
          "color": [
           1.0274999999999999,
           0.5475,
           0.9675,
           1.0474999999999999,
           0.5675,
           0.9874999999999999,
           1.0875,
           0.6075,
           1.0274999999999999,
           1.1475,
           0.6675,
           1.0875,
           1.2275,
           0.7475,
           1.1675,
           1.3275,
           0.8474999999999999,
           1.2674999999999998,
           1.4475,
           0.9675,
           1.3875,
           1.5875,
           1.1075,
           1.5274999999999999,
           1.7474999999999998,
           1.2674999999999998,
           1.6875,
           1.9274999999999998,
           1.4475,
           1.8675,
           0.5675,
           1.1475,
           0.9075,
           0.5875,
           1.1675,
           0.9275,
           0.6275,
           1.2075,
           0.9675,
           0.6875,
           1.2674999999999998,
           1.0274999999999999,
           0.7675,
           1.3475,
           1.1075,
           0.8674999999999999,
           1.4475,
           1.2075,
           0.9875,
           1.5675000000000001,
           1.3275000000000001,
           1.1275,
           1.7075,
           1.4674999999999998,
           1.2874999999999999,
           1.8675,
           1.6275,
           1.4674999999999998,
           2.0475,
           1.8074999999999999,
           0.7874999999999999,
           0.12749999999999997,
           0.0675,
           0.8074999999999999,
           0.1475,
           0.0875,
           0.8474999999999999,
           0.1875,
           0.1275,
           0.9074999999999999,
           0.24749999999999997,
           0.1875,
           0.9874999999999998,
           0.32749999999999996,
           0.26749999999999996,
           1.0875,
           0.42749999999999994,
           0.36749999999999994,
           1.2075,
           0.5475,
           0.48750000000000004,
           1.3475,
           0.6875,
           0.6275,
           1.5074999999999998,
           0.8474999999999999,
           0.7874999999999999,
           1.6875,
           1.0274999999999999,
           0.9675,
           1.5875,
           1.7474999999999998,
           1.0274999999999999,
           1.5274999999999999,
           1.6875,
           0.9675,
           1.4874999999999998,
           1.6475,
           0.9275,
           1.2475,
           1.4074999999999998,
           0.6875,
           1.1875,
           1.3475,
           0.6275,
           1.1475,
           1.3074999999999999,
           0.5875,
           1.1075,
           1.2674999999999998,
           0.5475,
           1.0475,
           1.2075,
           0.48750000000000004,
           1.0075,
           1.1675,
           0.44750000000000006,
           1.5875,
           1.0274999999999999,
           1.7474999999999998,
           1.1075,
           0.5475,
           1.2674999999999998,
           1.5274999999999999,
           0.9675,
           1.6875
          ],
          "colorbar": {
           "title": {
            "text": "Function Value"
           }
          },
          "colorscale": [
           [
            0,
            "#440154"
           ],
           [
            0.1111111111111111,
            "#482878"
           ],
           [
            0.2222222222222222,
            "#3e4989"
           ],
           [
            0.3333333333333333,
            "#31688e"
           ],
           [
            0.4444444444444444,
            "#26828e"
           ],
           [
            0.5555555555555556,
            "#1f9e89"
           ],
           [
            0.6666666666666666,
            "#35b779"
           ],
           [
            0.7777777777777778,
            "#6ece58"
           ],
           [
            0.8888888888888888,
            "#b5de2b"
           ],
           [
            1,
            "#fde725"
           ]
          ],
          "size": 5
         },
         "mode": "markers",
         "type": "scatter3d",
         "x": [
          0.05,
          0.05,
          0.05,
          0.15,
          0.15,
          0.15,
          0.25,
          0.25,
          0.25,
          0.35,
          0.35,
          0.35,
          0.44999999999999996,
          0.44999999999999996,
          0.44999999999999996,
          0.5499999999999999,
          0.5499999999999999,
          0.5499999999999999,
          0.65,
          0.65,
          0.65,
          0.75,
          0.75,
          0.75,
          0.85,
          0.85,
          0.85,
          0.95,
          0.95,
          0.95,
          0.05,
          0.85,
          0.05,
          0.05,
          0.85,
          0.05,
          0.05,
          0.85,
          0.05,
          0.05,
          0.85,
          0.05,
          0.05,
          0.85,
          0.05,
          0.05,
          0.85,
          0.05,
          0.05,
          0.85,
          0.05,
          0.05,
          0.85,
          0.05,
          0.05,
          0.85,
          0.05,
          0.05,
          0.85,
          0.05,
          0.85,
          0.05,
          0.05,
          0.85,
          0.05,
          0.05,
          0.85,
          0.05,
          0.05,
          0.85,
          0.05,
          0.05,
          0.85,
          0.05,
          0.05,
          0.85,
          0.05,
          0.05,
          0.85,
          0.05,
          0.05,
          0.85,
          0.05,
          0.05,
          0.85,
          0.05,
          0.05,
          0.85,
          0.05,
          0.05,
          0.75,
          0.85,
          0.05,
          0.75,
          0.85,
          0.05,
          0.75,
          0.85,
          0.05,
          0.75,
          0.85,
          0.05,
          0.75,
          0.85,
          0.05,
          0.75,
          0.85,
          0.05,
          0.75,
          0.85,
          0.05,
          0.75,
          0.85,
          0.05,
          0.75,
          0.85,
          0.05,
          0.75,
          0.05,
          0.85,
          0.75,
          0.05,
          0.85,
          0.75,
          0.05,
          0.85
         ],
         "y": [
          0.35,
          0.35,
          0.25,
          0.35,
          0.35,
          0.25,
          0.35,
          0.35,
          0.25,
          0.35,
          0.35,
          0.25,
          0.35,
          0.35,
          0.25,
          0.35,
          0.35,
          0.25,
          0.35,
          0.35,
          0.25,
          0.35,
          0.35,
          0.25,
          0.35,
          0.35,
          0.25,
          0.35,
          0.35,
          0.25,
          0.05,
          0.05,
          0.05,
          0.15,
          0.15,
          0.15,
          0.25,
          0.25,
          0.25,
          0.35,
          0.35,
          0.35,
          0.44999999999999996,
          0.44999999999999996,
          0.44999999999999996,
          0.5499999999999999,
          0.5499999999999999,
          0.5499999999999999,
          0.65,
          0.65,
          0.65,
          0.75,
          0.75,
          0.75,
          0.85,
          0.85,
          0.85,
          0.95,
          0.95,
          0.95,
          0.25,
          0.35,
          0.25,
          0.25,
          0.35,
          0.25,
          0.25,
          0.35,
          0.25,
          0.25,
          0.35,
          0.25,
          0.25,
          0.35,
          0.25,
          0.25,
          0.35,
          0.25,
          0.25,
          0.35,
          0.25,
          0.25,
          0.35,
          0.25,
          0.25,
          0.35,
          0.25,
          0.25,
          0.35,
          0.25,
          0.35,
          0.35,
          0.35,
          0.25,
          0.25,
          0.25,
          0.15,
          0.15,
          0.15,
          0.35,
          0.35,
          0.35,
          0.25,
          0.25,
          0.25,
          0.15,
          0.15,
          0.15,
          0.35,
          0.35,
          0.35,
          0.25,
          0.25,
          0.25,
          0.15,
          0.15,
          0.15,
          0.35,
          0.35,
          0.35,
          0.35,
          0.35,
          0.35,
          0.25,
          0.25,
          0.25
         ],
         "z": [
          0.95,
          0.65,
          0.95,
          0.95,
          0.65,
          0.95,
          0.95,
          0.65,
          0.95,
          0.95,
          0.65,
          0.95,
          0.95,
          0.65,
          0.95,
          0.95,
          0.65,
          0.95,
          0.95,
          0.65,
          0.95,
          0.95,
          0.65,
          0.95,
          0.95,
          0.65,
          0.95,
          0.95,
          0.65,
          0.95,
          0.75,
          0.65,
          0.95,
          0.75,
          0.65,
          0.95,
          0.75,
          0.65,
          0.95,
          0.75,
          0.65,
          0.95,
          0.75,
          0.65,
          0.95,
          0.75,
          0.65,
          0.95,
          0.75,
          0.65,
          0.95,
          0.75,
          0.65,
          0.95,
          0.75,
          0.65,
          0.95,
          0.75,
          0.65,
          0.95,
          0.05,
          0.05,
          0.05,
          0.15,
          0.15,
          0.15,
          0.25,
          0.25,
          0.25,
          0.35,
          0.35,
          0.35,
          0.44999999999999996,
          0.44999999999999996,
          0.44999999999999996,
          0.5499999999999999,
          0.5499999999999999,
          0.5499999999999999,
          0.65,
          0.65,
          0.65,
          0.75,
          0.75,
          0.75,
          0.85,
          0.85,
          0.85,
          0.95,
          0.95,
          0.95,
          0.95,
          0.95,
          0.95,
          0.95,
          0.95,
          0.95,
          0.95,
          0.95,
          0.95,
          0.75,
          0.75,
          0.75,
          0.75,
          0.75,
          0.75,
          0.75,
          0.75,
          0.75,
          0.65,
          0.65,
          0.65,
          0.65,
          0.65,
          0.65,
          0.65,
          0.65,
          0.65,
          0.95,
          0.95,
          0.95,
          0.65,
          0.65,
          0.65,
          0.95,
          0.95,
          0.95
         ]
        }
       ],
       "layout": {
        "margin": {
         "b": 0,
         "l": 0,
         "r": 0,
         "t": 0
        },
        "scene": {
         "aspectmode": "cube",
         "xaxis": {
          "autorange": false,
          "range": [
           0,
           1
          ],
          "title": {
           "text": "X Axis"
          }
         },
         "yaxis": {
          "autorange": false,
          "range": [
           0,
           1
          ],
          "title": {
           "text": "Y Axis"
          }
         },
         "zaxis": {
          "autorange": false,
          "range": [
           0,
           1
          ],
          "title": {
           "text": "Z Axis"
          }
         }
        },
        "template": {
         "data": {
          "bar": [
           {
            "error_x": {
             "color": "#2a3f5f"
            },
            "error_y": {
             "color": "#2a3f5f"
            },
            "marker": {
             "line": {
              "color": "#E5ECF6",
              "width": 0.5
             },
             "pattern": {
              "fillmode": "overlay",
              "size": 10,
              "solidity": 0.2
             }
            },
            "type": "bar"
           }
          ],
          "barpolar": [
           {
            "marker": {
             "line": {
              "color": "#E5ECF6",
              "width": 0.5
             },
             "pattern": {
              "fillmode": "overlay",
              "size": 10,
              "solidity": 0.2
             }
            },
            "type": "barpolar"
           }
          ],
          "carpet": [
           {
            "aaxis": {
             "endlinecolor": "#2a3f5f",
             "gridcolor": "white",
             "linecolor": "white",
             "minorgridcolor": "white",
             "startlinecolor": "#2a3f5f"
            },
            "baxis": {
             "endlinecolor": "#2a3f5f",
             "gridcolor": "white",
             "linecolor": "white",
             "minorgridcolor": "white",
             "startlinecolor": "#2a3f5f"
            },
            "type": "carpet"
           }
          ],
          "choropleth": [
           {
            "colorbar": {
             "outlinewidth": 0,
             "ticks": ""
            },
            "type": "choropleth"
           }
          ],
          "contour": [
           {
            "colorbar": {
             "outlinewidth": 0,
             "ticks": ""
            },
            "colorscale": [
             [
              0,
              "#0d0887"
             ],
             [
              0.1111111111111111,
              "#46039f"
             ],
             [
              0.2222222222222222,
              "#7201a8"
             ],
             [
              0.3333333333333333,
              "#9c179e"
             ],
             [
              0.4444444444444444,
              "#bd3786"
             ],
             [
              0.5555555555555556,
              "#d8576b"
             ],
             [
              0.6666666666666666,
              "#ed7953"
             ],
             [
              0.7777777777777778,
              "#fb9f3a"
             ],
             [
              0.8888888888888888,
              "#fdca26"
             ],
             [
              1,
              "#f0f921"
             ]
            ],
            "type": "contour"
           }
          ],
          "contourcarpet": [
           {
            "colorbar": {
             "outlinewidth": 0,
             "ticks": ""
            },
            "type": "contourcarpet"
           }
          ],
          "heatmap": [
           {
            "colorbar": {
             "outlinewidth": 0,
             "ticks": ""
            },
            "colorscale": [
             [
              0,
              "#0d0887"
             ],
             [
              0.1111111111111111,
              "#46039f"
             ],
             [
              0.2222222222222222,
              "#7201a8"
             ],
             [
              0.3333333333333333,
              "#9c179e"
             ],
             [
              0.4444444444444444,
              "#bd3786"
             ],
             [
              0.5555555555555556,
              "#d8576b"
             ],
             [
              0.6666666666666666,
              "#ed7953"
             ],
             [
              0.7777777777777778,
              "#fb9f3a"
             ],
             [
              0.8888888888888888,
              "#fdca26"
             ],
             [
              1,
              "#f0f921"
             ]
            ],
            "type": "heatmap"
           }
          ],
          "heatmapgl": [
           {
            "colorbar": {
             "outlinewidth": 0,
             "ticks": ""
            },
            "colorscale": [
             [
              0,
              "#0d0887"
             ],
             [
              0.1111111111111111,
              "#46039f"
             ],
             [
              0.2222222222222222,
              "#7201a8"
             ],
             [
              0.3333333333333333,
              "#9c179e"
             ],
             [
              0.4444444444444444,
              "#bd3786"
             ],
             [
              0.5555555555555556,
              "#d8576b"
             ],
             [
              0.6666666666666666,
              "#ed7953"
             ],
             [
              0.7777777777777778,
              "#fb9f3a"
             ],
             [
              0.8888888888888888,
              "#fdca26"
             ],
             [
              1,
              "#f0f921"
             ]
            ],
            "type": "heatmapgl"
           }
          ],
          "histogram": [
           {
            "marker": {
             "pattern": {
              "fillmode": "overlay",
              "size": 10,
              "solidity": 0.2
             }
            },
            "type": "histogram"
           }
          ],
          "histogram2d": [
           {
            "colorbar": {
             "outlinewidth": 0,
             "ticks": ""
            },
            "colorscale": [
             [
              0,
              "#0d0887"
             ],
             [
              0.1111111111111111,
              "#46039f"
             ],
             [
              0.2222222222222222,
              "#7201a8"
             ],
             [
              0.3333333333333333,
              "#9c179e"
             ],
             [
              0.4444444444444444,
              "#bd3786"
             ],
             [
              0.5555555555555556,
              "#d8576b"
             ],
             [
              0.6666666666666666,
              "#ed7953"
             ],
             [
              0.7777777777777778,
              "#fb9f3a"
             ],
             [
              0.8888888888888888,
              "#fdca26"
             ],
             [
              1,
              "#f0f921"
             ]
            ],
            "type": "histogram2d"
           }
          ],
          "histogram2dcontour": [
           {
            "colorbar": {
             "outlinewidth": 0,
             "ticks": ""
            },
            "colorscale": [
             [
              0,
              "#0d0887"
             ],
             [
              0.1111111111111111,
              "#46039f"
             ],
             [
              0.2222222222222222,
              "#7201a8"
             ],
             [
              0.3333333333333333,
              "#9c179e"
             ],
             [
              0.4444444444444444,
              "#bd3786"
             ],
             [
              0.5555555555555556,
              "#d8576b"
             ],
             [
              0.6666666666666666,
              "#ed7953"
             ],
             [
              0.7777777777777778,
              "#fb9f3a"
             ],
             [
              0.8888888888888888,
              "#fdca26"
             ],
             [
              1,
              "#f0f921"
             ]
            ],
            "type": "histogram2dcontour"
           }
          ],
          "mesh3d": [
           {
            "colorbar": {
             "outlinewidth": 0,
             "ticks": ""
            },
            "type": "mesh3d"
           }
          ],
          "parcoords": [
           {
            "line": {
             "colorbar": {
              "outlinewidth": 0,
              "ticks": ""
             }
            },
            "type": "parcoords"
           }
          ],
          "pie": [
           {
            "automargin": true,
            "type": "pie"
           }
          ],
          "scatter": [
           {
            "fillpattern": {
             "fillmode": "overlay",
             "size": 10,
             "solidity": 0.2
            },
            "type": "scatter"
           }
          ],
          "scatter3d": [
           {
            "line": {
             "colorbar": {
              "outlinewidth": 0,
              "ticks": ""
             }
            },
            "marker": {
             "colorbar": {
              "outlinewidth": 0,
              "ticks": ""
             }
            },
            "type": "scatter3d"
           }
          ],
          "scattercarpet": [
           {
            "marker": {
             "colorbar": {
              "outlinewidth": 0,
              "ticks": ""
             }
            },
            "type": "scattercarpet"
           }
          ],
          "scattergeo": [
           {
            "marker": {
             "colorbar": {
              "outlinewidth": 0,
              "ticks": ""
             }
            },
            "type": "scattergeo"
           }
          ],
          "scattergl": [
           {
            "marker": {
             "colorbar": {
              "outlinewidth": 0,
              "ticks": ""
             }
            },
            "type": "scattergl"
           }
          ],
          "scattermapbox": [
           {
            "marker": {
             "colorbar": {
              "outlinewidth": 0,
              "ticks": ""
             }
            },
            "type": "scattermapbox"
           }
          ],
          "scatterpolar": [
           {
            "marker": {
             "colorbar": {
              "outlinewidth": 0,
              "ticks": ""
             }
            },
            "type": "scatterpolar"
           }
          ],
          "scatterpolargl": [
           {
            "marker": {
             "colorbar": {
              "outlinewidth": 0,
              "ticks": ""
             }
            },
            "type": "scatterpolargl"
           }
          ],
          "scatterternary": [
           {
            "marker": {
             "colorbar": {
              "outlinewidth": 0,
              "ticks": ""
             }
            },
            "type": "scatterternary"
           }
          ],
          "surface": [
           {
            "colorbar": {
             "outlinewidth": 0,
             "ticks": ""
            },
            "colorscale": [
             [
              0,
              "#0d0887"
             ],
             [
              0.1111111111111111,
              "#46039f"
             ],
             [
              0.2222222222222222,
              "#7201a8"
             ],
             [
              0.3333333333333333,
              "#9c179e"
             ],
             [
              0.4444444444444444,
              "#bd3786"
             ],
             [
              0.5555555555555556,
              "#d8576b"
             ],
             [
              0.6666666666666666,
              "#ed7953"
             ],
             [
              0.7777777777777778,
              "#fb9f3a"
             ],
             [
              0.8888888888888888,
              "#fdca26"
             ],
             [
              1,
              "#f0f921"
             ]
            ],
            "type": "surface"
           }
          ],
          "table": [
           {
            "cells": {
             "fill": {
              "color": "#EBF0F8"
             },
             "line": {
              "color": "white"
             }
            },
            "header": {
             "fill": {
              "color": "#C8D4E3"
             },
             "line": {
              "color": "white"
             }
            },
            "type": "table"
           }
          ]
         },
         "layout": {
          "annotationdefaults": {
           "arrowcolor": "#2a3f5f",
           "arrowhead": 0,
           "arrowwidth": 1
          },
          "autotypenumbers": "strict",
          "coloraxis": {
           "colorbar": {
            "outlinewidth": 0,
            "ticks": ""
           }
          },
          "colorscale": {
           "diverging": [
            [
             0,
             "#8e0152"
            ],
            [
             0.1,
             "#c51b7d"
            ],
            [
             0.2,
             "#de77ae"
            ],
            [
             0.3,
             "#f1b6da"
            ],
            [
             0.4,
             "#fde0ef"
            ],
            [
             0.5,
             "#f7f7f7"
            ],
            [
             0.6,
             "#e6f5d0"
            ],
            [
             0.7,
             "#b8e186"
            ],
            [
             0.8,
             "#7fbc41"
            ],
            [
             0.9,
             "#4d9221"
            ],
            [
             1,
             "#276419"
            ]
           ],
           "sequential": [
            [
             0,
             "#0d0887"
            ],
            [
             0.1111111111111111,
             "#46039f"
            ],
            [
             0.2222222222222222,
             "#7201a8"
            ],
            [
             0.3333333333333333,
             "#9c179e"
            ],
            [
             0.4444444444444444,
             "#bd3786"
            ],
            [
             0.5555555555555556,
             "#d8576b"
            ],
            [
             0.6666666666666666,
             "#ed7953"
            ],
            [
             0.7777777777777778,
             "#fb9f3a"
            ],
            [
             0.8888888888888888,
             "#fdca26"
            ],
            [
             1,
             "#f0f921"
            ]
           ],
           "sequentialminus": [
            [
             0,
             "#0d0887"
            ],
            [
             0.1111111111111111,
             "#46039f"
            ],
            [
             0.2222222222222222,
             "#7201a8"
            ],
            [
             0.3333333333333333,
             "#9c179e"
            ],
            [
             0.4444444444444444,
             "#bd3786"
            ],
            [
             0.5555555555555556,
             "#d8576b"
            ],
            [
             0.6666666666666666,
             "#ed7953"
            ],
            [
             0.7777777777777778,
             "#fb9f3a"
            ],
            [
             0.8888888888888888,
             "#fdca26"
            ],
            [
             1,
             "#f0f921"
            ]
           ]
          },
          "colorway": [
           "#636efa",
           "#EF553B",
           "#00cc96",
           "#ab63fa",
           "#FFA15A",
           "#19d3f3",
           "#FF6692",
           "#B6E880",
           "#FF97FF",
           "#FECB52"
          ],
          "font": {
           "color": "#2a3f5f"
          },
          "geo": {
           "bgcolor": "white",
           "lakecolor": "white",
           "landcolor": "#E5ECF6",
           "showlakes": true,
           "showland": true,
           "subunitcolor": "white"
          },
          "hoverlabel": {
           "align": "left"
          },
          "hovermode": "closest",
          "mapbox": {
           "style": "light"
          },
          "paper_bgcolor": "white",
          "plot_bgcolor": "#E5ECF6",
          "polar": {
           "angularaxis": {
            "gridcolor": "white",
            "linecolor": "white",
            "ticks": ""
           },
           "bgcolor": "#E5ECF6",
           "radialaxis": {
            "gridcolor": "white",
            "linecolor": "white",
            "ticks": ""
           }
          },
          "scene": {
           "xaxis": {
            "backgroundcolor": "#E5ECF6",
            "gridcolor": "white",
            "gridwidth": 2,
            "linecolor": "white",
            "showbackground": true,
            "ticks": "",
            "zerolinecolor": "white"
           },
           "yaxis": {
            "backgroundcolor": "#E5ECF6",
            "gridcolor": "white",
            "gridwidth": 2,
            "linecolor": "white",
            "showbackground": true,
            "ticks": "",
            "zerolinecolor": "white"
           },
           "zaxis": {
            "backgroundcolor": "#E5ECF6",
            "gridcolor": "white",
            "gridwidth": 2,
            "linecolor": "white",
            "showbackground": true,
            "ticks": "",
            "zerolinecolor": "white"
           }
          },
          "shapedefaults": {
           "line": {
            "color": "#2a3f5f"
           }
          },
          "ternary": {
           "aaxis": {
            "gridcolor": "white",
            "linecolor": "white",
            "ticks": ""
           },
           "baxis": {
            "gridcolor": "white",
            "linecolor": "white",
            "ticks": ""
           },
           "bgcolor": "#E5ECF6",
           "caxis": {
            "gridcolor": "white",
            "linecolor": "white",
            "ticks": ""
           }
          },
          "title": {
           "x": 0.05
          },
          "xaxis": {
           "automargin": true,
           "gridcolor": "white",
           "linecolor": "white",
           "ticks": "",
           "title": {
            "standoff": 15
           },
           "zerolinecolor": "white",
           "zerolinewidth": 2
          },
          "yaxis": {
           "automargin": true,
           "gridcolor": "white",
           "linecolor": "white",
           "ticks": "",
           "title": {
            "standoff": 15
           },
           "zerolinecolor": "white",
           "zerolinewidth": 2
          }
         }
        }
       }
      }
     },
     "metadata": {},
     "output_type": "display_data"
    },
    {
     "data": {
      "image/png": "[encoded data removed]",
      "text/plain": [
       "<Figure size 640x480 with 1 Axes>"
      ]
     },
     "metadata": {},
     "output_type": "display_data"
    }
   ],
   "source": [
    "f = 3\n",
    "N = 10\n",
    "r = 3\n",
    "\n",
    "G = balanced_tree(f, r, N)\n",
    "G = tn_grid(G, [linspace(0., 1., N)] * f)\n",
    "plot_tn_xyz(G, fun)\n",
    "plot_tree(G)\n"
   ]
  },
  {
   "cell_type": "code",
   "execution_count": null,
   "metadata": {},
   "outputs": [],
   "source": []
  }
 ],
 "metadata": {
  "kernelspec": {
   "display_name": "Python 3",
   "language": "python",
   "name": "python3"
  },
  "language_info": {
   "codemirror_mode": {
    "name": "ipython",
    "version": 3
   },
   "file_extension": ".py",
   "mimetype": "text/x-python",
   "name": "python",
   "nbconvert_exporter": "python",
   "pygments_lexer": "ipython3",
   "version": "3.11.5"
  }
 },
 "nbformat": 4,
 "nbformat_minor": 2
}
