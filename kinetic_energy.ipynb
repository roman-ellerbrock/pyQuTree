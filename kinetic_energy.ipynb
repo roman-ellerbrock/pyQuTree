{
 "cells": [
  {
   "cell_type": "code",
   "execution_count": 38,
   "metadata": {},
   "outputs": [
    {
     "name": "stdout",
     "output_type": "stream",
     "text": [
      "Derivative of x(q) with respect to q:\n",
      "3.9999999999999996\n"
     ]
    }
   ],
   "source": [
    "import autograd.numpy as np\n",
    "from autograd import jacobian\n",
    "\n",
    "# Define the vector-valued function x(q)\n",
    "def x(q):\n",
    "    r = q[0]\n",
    "    theta = q[1]\n",
    "    phi = q[2]\n",
    "    x1 = r*np.sin(theta)*np.cos(phi)\n",
    "    x2 = r*np.sin(theta)*np.sin(phi)\n",
    "    x3 = r*np.cos(theta)\n",
    "    return np.array([x1, x2, x3])\n",
    "\n",
    "# Calculate the derivative of x(q) using autograd\n",
    "J = jacobian(x)\n",
    "\n",
    "print(\"Derivative of x(q) with respect to q:\")\n",
    "q = np.array([2., np.pi*0.5, np.pi*1.15])\n",
    "#q[1] = np.pi*0\n",
    "G = J(q).T @ J(q)\n",
    "g = np.sqrt(np.linalg.det(G))\n",
    "print(g)"
   ]
  },
  {
   "cell_type": "code",
   "execution_count": 88,
   "metadata": {},
   "outputs": [
    {
     "name": "stdout",
     "output_type": "stream",
     "text": [
      "[[ 1.    0.5   0.  ]\n",
      " [ 2.   -0.25  0.  ]\n",
      " [ 1.   -0.75  0.  ]]\n",
      "3N =  9\n",
      "3N - 6 =  3\n"
     ]
    }
   ],
   "source": [
    "class PointMass(np.ndarray):\n",
    "    def __new__(cls, position, mass = 1.):\n",
    "        obj = np.asarray(position).view(cls)\n",
    "        obj = obj.reshape((-1, 3))\n",
    "        obj.mass = mass\n",
    "        return obj\n",
    "    \n",
    "    def mass_weighted(self):\n",
    "        return PointMass(self * np.sqrt(self.mass), 1.)\n",
    "    \n",
    "    def concat(self, other):\n",
    "        return np.concatenate((self, other), axis=1)\n",
    "\n",
    "def JacobiConstruction(PointMass1, PointMass2):\n",
    "    A = 0.5 * (PointMass1.mass_weighted() + PointMass2.mass_weighted())\n",
    "    B = 0.5 * (PointMass1.mass_weighted() - PointMass2.mass_weighted())\n",
    "    return PointMass(A), PointMass(B)\n",
    "\n",
    "N = PointMass([2., 1., 0.], 1.0).mass_weighted()\n",
    "O = PointMass([0., 0., 0.], 1.0).mass_weighted()\n",
    "Cl = PointMass([3., -1., 0.], 1.0).mass_weighted()\n",
    "C, r = JacobiConstruction(N, O)\n",
    "COM, R = JacobiConstruction(Cl, C)\n",
    "print(np.concatenate((r, COM, R)))\n",
    "print('3N = ', 3*3)\n",
    "print('3N - 6 = ', 3 * 3 - 6)\n",
    "print('pop: COM, ')"
   ]
  },
  {
   "cell_type": "code",
   "execution_count": 47,
   "metadata": {},
   "outputs": [
    {
     "name": "stdout",
     "output_type": "stream",
     "text": [
      "[1 2 3]\n",
      "0.5\n",
      "1.0\n"
     ]
    }
   ],
   "source": [
    "import numpy as np\n",
    "\n",
    "class MyArray(np.ndarray):\n",
    "    def __new__(cls, input_array, extra_float):\n",
    "        obj = np.asarray(input_array).view(cls)\n",
    "        obj.extra_float = extra_float\n",
    "        return obj\n",
    "\n",
    "    def __array_finalize__(self, obj):\n",
    "        if obj is None:\n",
    "            return\n",
    "        self.extra_float = getattr(obj, 'extra_float', None)\n",
    "\n",
    "    def extra_method(self):\n",
    "        # Define any extra methods you need\n",
    "        return self.extra_float * 2\n",
    "\n",
    "# Example usage\n",
    "arr = MyArray([1, 2, 3], 0.5)\n",
    "print(arr)  # Output: [1. 2. 3.]\n",
    "print(arr.extra_float)  # Output: 0.5\n",
    "print(arr.extra_method())  # Output: 1.0\n"
   ]
  }
 ],
 "metadata": {
  "kernelspec": {
   "display_name": ".venv_qutree",
   "language": "python",
   "name": "python3"
  },
  "language_info": {
   "codemirror_mode": {
    "name": "ipython",
    "version": 3
   },
   "file_extension": ".py",
   "mimetype": "text/x-python",
   "name": "python",
   "nbconvert_exporter": "python",
   "pygments_lexer": "ipython3",
   "version": "3.11.5"
  }
 },
 "nbformat": 4,
 "nbformat_minor": 2
}
